{
 "cells": [
  {
   "cell_type": "code",
   "execution_count": 1,
   "id": "9b76a4ae",
   "metadata": {},
   "outputs": [],
   "source": [
    "# Following Libraries are being used\n",
    "import pandas as pd\n",
    "import numpy as np\n",
    "import seaborn as sns\n",
    "import matplotlib.pyplot as plt\n",
    "import itertools\n",
    "import time\n",
    "import statsmodels.api as sm\n",
    "from sklearn import linear_model #For missing values\n",
    "from sklearn.preprocessing import StandardScaler #For scaling features\n",
    "\n",
    "from sklearn.model_selection import train_test_split\n",
    "from sklearn.metrics import mean_squared_error\n",
    "from sklearn.linear_model import LinearRegression #Linear Regressor"
   ]
  },
  {
   "cell_type": "code",
   "execution_count": 2,
   "id": "48f1dabc",
   "metadata": {},
   "outputs": [],
   "source": [
    "data=pd.read_csv(\"googleplaystore.csv\")"
   ]
  },
  {
   "cell_type": "code",
   "execution_count": 3,
   "id": "7087da88",
   "metadata": {},
   "outputs": [
    {
     "data": {
      "text/html": [
       "<div>\n",
       "<style scoped>\n",
       "    .dataframe tbody tr th:only-of-type {\n",
       "        vertical-align: middle;\n",
       "    }\n",
       "\n",
       "    .dataframe tbody tr th {\n",
       "        vertical-align: top;\n",
       "    }\n",
       "\n",
       "    .dataframe thead th {\n",
       "        text-align: right;\n",
       "    }\n",
       "</style>\n",
       "<table border=\"1\" class=\"dataframe\">\n",
       "  <thead>\n",
       "    <tr style=\"text-align: right;\">\n",
       "      <th></th>\n",
       "      <th>App</th>\n",
       "      <th>Category</th>\n",
       "      <th>Rating</th>\n",
       "      <th>Reviews</th>\n",
       "      <th>Size</th>\n",
       "      <th>Installs</th>\n",
       "      <th>Type</th>\n",
       "      <th>Price</th>\n",
       "      <th>Content Rating</th>\n",
       "      <th>Genres</th>\n",
       "      <th>Last Updated</th>\n",
       "      <th>Current Ver</th>\n",
       "      <th>Android Ver</th>\n",
       "    </tr>\n",
       "  </thead>\n",
       "  <tbody>\n",
       "    <tr>\n",
       "      <th>0</th>\n",
       "      <td>Photo Editor &amp; Candy Camera &amp; Grid &amp; ScrapBook</td>\n",
       "      <td>ART_AND_DESIGN</td>\n",
       "      <td>4.1</td>\n",
       "      <td>159</td>\n",
       "      <td>19M</td>\n",
       "      <td>10,000+</td>\n",
       "      <td>Free</td>\n",
       "      <td>0</td>\n",
       "      <td>Everyone</td>\n",
       "      <td>Art &amp; Design</td>\n",
       "      <td>January 7, 2018</td>\n",
       "      <td>1.0.0</td>\n",
       "      <td>4.0.3 and up</td>\n",
       "    </tr>\n",
       "    <tr>\n",
       "      <th>1</th>\n",
       "      <td>Coloring book moana</td>\n",
       "      <td>ART_AND_DESIGN</td>\n",
       "      <td>3.9</td>\n",
       "      <td>967</td>\n",
       "      <td>14M</td>\n",
       "      <td>500,000+</td>\n",
       "      <td>Free</td>\n",
       "      <td>0</td>\n",
       "      <td>Everyone</td>\n",
       "      <td>Art &amp; Design;Pretend Play</td>\n",
       "      <td>January 15, 2018</td>\n",
       "      <td>2.0.0</td>\n",
       "      <td>4.0.3 and up</td>\n",
       "    </tr>\n",
       "    <tr>\n",
       "      <th>2</th>\n",
       "      <td>U Launcher Lite – FREE Live Cool Themes, Hide ...</td>\n",
       "      <td>ART_AND_DESIGN</td>\n",
       "      <td>4.7</td>\n",
       "      <td>87510</td>\n",
       "      <td>8.7M</td>\n",
       "      <td>5,000,000+</td>\n",
       "      <td>Free</td>\n",
       "      <td>0</td>\n",
       "      <td>Everyone</td>\n",
       "      <td>Art &amp; Design</td>\n",
       "      <td>August 1, 2018</td>\n",
       "      <td>1.2.4</td>\n",
       "      <td>4.0.3 and up</td>\n",
       "    </tr>\n",
       "    <tr>\n",
       "      <th>3</th>\n",
       "      <td>Sketch - Draw &amp; Paint</td>\n",
       "      <td>ART_AND_DESIGN</td>\n",
       "      <td>4.5</td>\n",
       "      <td>215644</td>\n",
       "      <td>25M</td>\n",
       "      <td>50,000,000+</td>\n",
       "      <td>Free</td>\n",
       "      <td>0</td>\n",
       "      <td>Teen</td>\n",
       "      <td>Art &amp; Design</td>\n",
       "      <td>June 8, 2018</td>\n",
       "      <td>Varies with device</td>\n",
       "      <td>4.2 and up</td>\n",
       "    </tr>\n",
       "    <tr>\n",
       "      <th>4</th>\n",
       "      <td>Pixel Draw - Number Art Coloring Book</td>\n",
       "      <td>ART_AND_DESIGN</td>\n",
       "      <td>4.3</td>\n",
       "      <td>967</td>\n",
       "      <td>2.8M</td>\n",
       "      <td>100,000+</td>\n",
       "      <td>Free</td>\n",
       "      <td>0</td>\n",
       "      <td>Everyone</td>\n",
       "      <td>Art &amp; Design;Creativity</td>\n",
       "      <td>June 20, 2018</td>\n",
       "      <td>1.1</td>\n",
       "      <td>4.4 and up</td>\n",
       "    </tr>\n",
       "  </tbody>\n",
       "</table>\n",
       "</div>"
      ],
      "text/plain": [
       "                                                 App        Category  Rating  \\\n",
       "0     Photo Editor & Candy Camera & Grid & ScrapBook  ART_AND_DESIGN     4.1   \n",
       "1                                Coloring book moana  ART_AND_DESIGN     3.9   \n",
       "2  U Launcher Lite – FREE Live Cool Themes, Hide ...  ART_AND_DESIGN     4.7   \n",
       "3                              Sketch - Draw & Paint  ART_AND_DESIGN     4.5   \n",
       "4              Pixel Draw - Number Art Coloring Book  ART_AND_DESIGN     4.3   \n",
       "\n",
       "  Reviews  Size     Installs  Type Price Content Rating  \\\n",
       "0     159   19M      10,000+  Free     0       Everyone   \n",
       "1     967   14M     500,000+  Free     0       Everyone   \n",
       "2   87510  8.7M   5,000,000+  Free     0       Everyone   \n",
       "3  215644   25M  50,000,000+  Free     0           Teen   \n",
       "4     967  2.8M     100,000+  Free     0       Everyone   \n",
       "\n",
       "                      Genres      Last Updated         Current Ver  \\\n",
       "0               Art & Design   January 7, 2018               1.0.0   \n",
       "1  Art & Design;Pretend Play  January 15, 2018               2.0.0   \n",
       "2               Art & Design    August 1, 2018               1.2.4   \n",
       "3               Art & Design      June 8, 2018  Varies with device   \n",
       "4    Art & Design;Creativity     June 20, 2018                 1.1   \n",
       "\n",
       "    Android Ver  \n",
       "0  4.0.3 and up  \n",
       "1  4.0.3 and up  \n",
       "2  4.0.3 and up  \n",
       "3    4.2 and up  \n",
       "4    4.4 and up  "
      ]
     },
     "execution_count": 3,
     "metadata": {},
     "output_type": "execute_result"
    }
   ],
   "source": [
    "data.head()"
   ]
  },
  {
   "cell_type": "code",
   "execution_count": 4,
   "id": "abf80894",
   "metadata": {},
   "outputs": [
    {
     "data": {
      "text/plain": [
       "(10841, 13)"
      ]
     },
     "execution_count": 4,
     "metadata": {},
     "output_type": "execute_result"
    }
   ],
   "source": [
    "# Checking Dimensions of the Data\n",
    "data.shape"
   ]
  },
  {
   "cell_type": "code",
   "execution_count": 5,
   "id": "accead31",
   "metadata": {},
   "outputs": [
    {
     "data": {
      "text/plain": [
       "Index(['App', 'Category', 'Rating', 'Reviews', 'Size', 'Installs', 'Type',\n",
       "       'Price', 'Content Rating', 'Genres', 'Last Updated', 'Current Ver',\n",
       "       'Android Ver'],\n",
       "      dtype='object')"
      ]
     },
     "execution_count": 5,
     "metadata": {},
     "output_type": "execute_result"
    }
   ],
   "source": [
    "# Explore Columns\n",
    "data.columns"
   ]
  },
  {
   "cell_type": "code",
   "execution_count": 6,
   "id": "84220ba4",
   "metadata": {},
   "outputs": [
    {
     "data": {
      "text/html": [
       "<div>\n",
       "<style scoped>\n",
       "    .dataframe tbody tr th:only-of-type {\n",
       "        vertical-align: middle;\n",
       "    }\n",
       "\n",
       "    .dataframe tbody tr th {\n",
       "        vertical-align: top;\n",
       "    }\n",
       "\n",
       "    .dataframe thead th {\n",
       "        text-align: right;\n",
       "    }\n",
       "</style>\n",
       "<table border=\"1\" class=\"dataframe\">\n",
       "  <thead>\n",
       "    <tr style=\"text-align: right;\">\n",
       "      <th></th>\n",
       "      <th>Rating</th>\n",
       "    </tr>\n",
       "  </thead>\n",
       "  <tbody>\n",
       "    <tr>\n",
       "      <th>count</th>\n",
       "      <td>9367.000000</td>\n",
       "    </tr>\n",
       "    <tr>\n",
       "      <th>mean</th>\n",
       "      <td>4.193338</td>\n",
       "    </tr>\n",
       "    <tr>\n",
       "      <th>std</th>\n",
       "      <td>0.537431</td>\n",
       "    </tr>\n",
       "    <tr>\n",
       "      <th>min</th>\n",
       "      <td>1.000000</td>\n",
       "    </tr>\n",
       "    <tr>\n",
       "      <th>25%</th>\n",
       "      <td>4.000000</td>\n",
       "    </tr>\n",
       "    <tr>\n",
       "      <th>50%</th>\n",
       "      <td>4.300000</td>\n",
       "    </tr>\n",
       "    <tr>\n",
       "      <th>75%</th>\n",
       "      <td>4.500000</td>\n",
       "    </tr>\n",
       "    <tr>\n",
       "      <th>max</th>\n",
       "      <td>19.000000</td>\n",
       "    </tr>\n",
       "  </tbody>\n",
       "</table>\n",
       "</div>"
      ],
      "text/plain": [
       "            Rating\n",
       "count  9367.000000\n",
       "mean      4.193338\n",
       "std       0.537431\n",
       "min       1.000000\n",
       "25%       4.000000\n",
       "50%       4.300000\n",
       "75%       4.500000\n",
       "max      19.000000"
      ]
     },
     "execution_count": 6,
     "metadata": {},
     "output_type": "execute_result"
    }
   ],
   "source": [
    "# Description\n",
    "data.describe()"
   ]
  },
  {
   "cell_type": "code",
   "execution_count": 7,
   "id": "570ffc24",
   "metadata": {},
   "outputs": [
    {
     "data": {
      "text/plain": [
       "App                object\n",
       "Category           object\n",
       "Rating            float64\n",
       "Reviews            object\n",
       "Size               object\n",
       "Installs           object\n",
       "Type               object\n",
       "Price              object\n",
       "Content Rating     object\n",
       "Genres             object\n",
       "Last Updated       object\n",
       "Current Ver        object\n",
       "Android Ver        object\n",
       "dtype: object"
      ]
     },
     "execution_count": 7,
     "metadata": {},
     "output_type": "execute_result"
    }
   ],
   "source": [
    "# Check Datatypes\n",
    "data.dtypes"
   ]
  },
  {
   "cell_type": "code",
   "execution_count": 8,
   "id": "fda54955",
   "metadata": {},
   "outputs": [],
   "source": [
    "# Drop the Columns which have no Impact\n",
    "data = data.drop(columns=['App', 'Last Updated', 'Current Ver', 'Android Ver'])"
   ]
  },
  {
   "cell_type": "code",
   "execution_count": 9,
   "id": "194c6a62",
   "metadata": {},
   "outputs": [
    {
     "data": {
      "text/plain": [
       "Category             0\n",
       "Rating            1474\n",
       "Reviews              0\n",
       "Size                 0\n",
       "Installs             0\n",
       "Type                 1\n",
       "Price                0\n",
       "Content Rating       1\n",
       "Genres               0\n",
       "dtype: int64"
      ]
     },
     "execution_count": 9,
     "metadata": {},
     "output_type": "execute_result"
    }
   ],
   "source": [
    "# Check Missing Values in each column of Training Data\n",
    "data.isnull().sum()"
   ]
  },
  {
   "cell_type": "code",
   "execution_count": 10,
   "id": "916eac2e",
   "metadata": {},
   "outputs": [
    {
     "data": {
      "text/html": [
       "<div>\n",
       "<style scoped>\n",
       "    .dataframe tbody tr th:only-of-type {\n",
       "        vertical-align: middle;\n",
       "    }\n",
       "\n",
       "    .dataframe tbody tr th {\n",
       "        vertical-align: top;\n",
       "    }\n",
       "\n",
       "    .dataframe thead th {\n",
       "        text-align: right;\n",
       "    }\n",
       "</style>\n",
       "<table border=\"1\" class=\"dataframe\">\n",
       "  <thead>\n",
       "    <tr style=\"text-align: right;\">\n",
       "      <th></th>\n",
       "      <th>Category</th>\n",
       "      <th>Rating</th>\n",
       "      <th>Reviews</th>\n",
       "      <th>Size</th>\n",
       "      <th>Installs</th>\n",
       "      <th>Type</th>\n",
       "      <th>Price</th>\n",
       "      <th>Content Rating</th>\n",
       "      <th>Genres</th>\n",
       "    </tr>\n",
       "  </thead>\n",
       "  <tbody>\n",
       "    <tr>\n",
       "      <th>10472</th>\n",
       "      <td>1.9</td>\n",
       "      <td>19.0</td>\n",
       "      <td>3.0M</td>\n",
       "      <td>1,000+</td>\n",
       "      <td>Free</td>\n",
       "      <td>0</td>\n",
       "      <td>Everyone</td>\n",
       "      <td>NaN</td>\n",
       "      <td>February 11, 2018</td>\n",
       "    </tr>\n",
       "  </tbody>\n",
       "</table>\n",
       "</div>"
      ],
      "text/plain": [
       "      Category  Rating Reviews    Size Installs Type     Price Content Rating  \\\n",
       "10472      1.9    19.0    3.0M  1,000+     Free    0  Everyone            NaN   \n",
       "\n",
       "                  Genres  \n",
       "10472  February 11, 2018  "
      ]
     },
     "execution_count": 10,
     "metadata": {},
     "output_type": "execute_result"
    }
   ],
   "source": [
    "# Check if any of the record has rating > 5\n",
    "data[data['Rating'] > 5]"
   ]
  },
  {
   "cell_type": "code",
   "execution_count": 11,
   "id": "63aa2229",
   "metadata": {},
   "outputs": [
    {
     "data": {
      "text/plain": [
       "['ART_AND_DESIGN',\n",
       " 'AUTO_AND_VEHICLES',\n",
       " 'BEAUTY',\n",
       " 'BOOKS_AND_REFERENCE',\n",
       " 'BUSINESS',\n",
       " 'COMICS',\n",
       " 'COMMUNICATION',\n",
       " 'DATING',\n",
       " 'EDUCATION',\n",
       " 'ENTERTAINMENT',\n",
       " 'EVENTS',\n",
       " 'FINANCE',\n",
       " 'FOOD_AND_DRINK',\n",
       " 'HEALTH_AND_FITNESS',\n",
       " 'HOUSE_AND_HOME',\n",
       " 'LIBRARIES_AND_DEMO',\n",
       " 'LIFESTYLE',\n",
       " 'GAME',\n",
       " 'FAMILY',\n",
       " 'MEDICAL',\n",
       " 'SOCIAL',\n",
       " 'SHOPPING',\n",
       " 'PHOTOGRAPHY',\n",
       " 'SPORTS',\n",
       " 'TRAVEL_AND_LOCAL',\n",
       " 'TOOLS',\n",
       " 'PERSONALIZATION',\n",
       " 'PRODUCTIVITY',\n",
       " 'PARENTING',\n",
       " 'WEATHER',\n",
       " 'VIDEO_PLAYERS',\n",
       " 'NEWS_AND_MAGAZINES',\n",
       " 'MAPS_AND_NAVIGATION',\n",
       " '1.9']"
      ]
     },
     "execution_count": 11,
     "metadata": {},
     "output_type": "execute_result"
    }
   ],
   "source": [
    "# Now check if 1.9 is the real category or its a dummy data\n",
    "data['Category'].unique().tolist()"
   ]
  },
  {
   "cell_type": "code",
   "execution_count": 12,
   "id": "ef2a7de8",
   "metadata": {},
   "outputs": [],
   "source": [
    "# So its obvious that 1.9 category and rating \n",
    "# above 5 doesn't make sense, so drop this record\n",
    "rec = data[data['Category'] == '1.9'].index\n",
    "data = data.drop(rec)"
   ]
  },
  {
   "cell_type": "code",
   "execution_count": 13,
   "id": "47d9c6b9",
   "metadata": {},
   "outputs": [],
   "source": [
    "# Make a copy of data\n",
    "train_data = data.copy()"
   ]
  },
  {
   "cell_type": "code",
   "execution_count": 14,
   "id": "ff0d3911",
   "metadata": {},
   "outputs": [],
   "source": [
    "# Cleaning \"Price\" column\n",
    "train_data['Price'] = train_data['Price'].apply(lambda x : x.strip('$'))"
   ]
  },
  {
   "cell_type": "code",
   "execution_count": 15,
   "id": "b8dc1d88",
   "metadata": {},
   "outputs": [],
   "source": [
    "# Cleaning \"Installs\" column\n",
    "train_data['Installs'] = train_data['Installs'].apply(lambda x : x.strip('+').replace(',', ''))"
   ]
  },
  {
   "cell_type": "code",
   "execution_count": 16,
   "id": "7e34916f",
   "metadata": {},
   "outputs": [],
   "source": [
    "# Convert all these to float\n",
    "train_data['Price'] = train_data['Price'].astype(float)\n",
    "train_data['Installs'] = train_data['Installs'].astype(float)\n",
    "train_data['Reviews'] = train_data['Reviews'].astype(float)"
   ]
  },
  {
   "cell_type": "code",
   "execution_count": 17,
   "id": "6e2ba130",
   "metadata": {},
   "outputs": [],
   "source": [
    "# Remove record with Type nan\n",
    "rec = train_data[train_data['Type'].isnull()].index\n",
    "train_data = train_data.drop(rec)"
   ]
  },
  {
   "cell_type": "code",
   "execution_count": 18,
   "id": "75770055",
   "metadata": {},
   "outputs": [
    {
     "data": {
      "text/plain": [
       "['Category', 'Size', 'Type', 'Content Rating', 'Genres']"
      ]
     },
     "execution_count": 18,
     "metadata": {},
     "output_type": "execute_result"
    }
   ],
   "source": [
    "# Get all features with type 'object'\n",
    "col_list = [c for c in train_data.columns if train_data[c].dtype == 'object']\n",
    "col_list"
   ]
  },
  {
   "cell_type": "code",
   "execution_count": 19,
   "id": "1b41a42d",
   "metadata": {},
   "outputs": [],
   "source": [
    "# Encode features except Size\n",
    "for c in col_list:\n",
    "    if c != 'Size':\n",
    "        train_data[c] = train_data[c].astype('category')\n",
    "        train_data[c] = train_data[c].cat.codes #categorizing variables into numbers"
   ]
  },
  {
   "cell_type": "code",
   "execution_count": 20,
   "id": "e76b2966",
   "metadata": {},
   "outputs": [
    {
     "name": "stdout",
     "output_type": "stream",
     "text": [
      "['Free', 'Paid', nan]\n",
      "[0, 1] \n",
      "\n"
     ]
    }
   ],
   "source": [
    "# Compare actual and encoded labels for column 'Type'\n",
    "print(data['Type'].unique().tolist())\n",
    "print(train_data['Type'].unique().tolist(), '\\n')"
   ]
  },
  {
   "cell_type": "code",
   "execution_count": 21,
   "id": "ca904313",
   "metadata": {},
   "outputs": [],
   "source": [
    "# Replace \"Varies with device\" in Size with null value\n",
    "train_data.loc[train_data['Size'] == 'Varies with device', 'Size'] = np.nan"
   ]
  },
  {
   "cell_type": "code",
   "execution_count": 22,
   "id": "8b192c29",
   "metadata": {},
   "outputs": [],
   "source": [
    "# Removing the suffixes (k and M) and representing all the data as bytes \n",
    "# (i.e)for k, value is multiplied by 1000 and for M, the value is multiplied by 1000000 \n",
    "train_data.Size = (train_data.Size.replace(r'[kM]+$', '', regex=True).astype(float) * \\\n",
    "             train_data.Size.str.extract(r'[\\d\\.]+([KM]+)', expand=False).fillna(1)\n",
    "            .replace(['k','M'], [10**3, 10**6]).astype(int))"
   ]
  },
  {
   "cell_type": "code",
   "execution_count": 23,
   "id": "923aabd2",
   "metadata": {},
   "outputs": [
    {
     "data": {
      "text/plain": [
       "Category             0\n",
       "Rating            1473\n",
       "Reviews              0\n",
       "Size              1694\n",
       "Installs             0\n",
       "Type                 0\n",
       "Price                0\n",
       "Content Rating       0\n",
       "Genres               0\n",
       "dtype: int64"
      ]
     },
     "execution_count": 23,
     "metadata": {},
     "output_type": "execute_result"
    }
   ],
   "source": [
    "# Now check null values\n",
    "train_data.isnull().sum()"
   ]
  },
  {
   "cell_type": "code",
   "execution_count": 24,
   "id": "f47ca275",
   "metadata": {},
   "outputs": [],
   "source": [
    "# For Size missing values\n",
    "# Get rows which are not null for Size\n",
    "X = train_data[train_data['Size'].notnull()]\n",
    "y = train_data.loc[train_data['Size'].notnull(), 'Size']\n",
    "X = X.drop(columns=['Size', 'Rating'])\n",
    "\n",
    "# Fit the model\n",
    "model = linear_model.LinearRegression()\n",
    "model.fit(X, y)\n",
    "\n",
    "# Get all rows with null values\n",
    "X_miss = train_data[train_data['Size'].isnull()]\n",
    "X_miss = X_miss.drop(columns = ['Size', 'Rating'])\n",
    "\n",
    "# Fill the predicted values\n",
    "train_data.loc[train_data['Size'].isnull(), 'Size'] = model.predict(X_miss)"
   ]
  },
  {
   "cell_type": "code",
   "execution_count": 25,
   "id": "559610c9",
   "metadata": {},
   "outputs": [],
   "source": [
    "# For Rating missing values\n",
    "X = train_data[train_data['Rating'].notnull()]\n",
    "y = train_data.loc[train_data['Rating'].notnull(), 'Rating']\n",
    "X = X.drop(columns=['Rating'])\n",
    "\n",
    "# Fit model\n",
    "model = linear_model.LinearRegression()\n",
    "model.fit(X, y)\n",
    "\n",
    "# Get all rows with null values\n",
    "X_miss = train_data[train_data['Rating'].isnull()]\n",
    "X_miss = X_miss.drop(columns = ['Rating'])\n",
    "\n",
    "# Fill the predicted values\n",
    "train_data.loc[train_data['Rating'].isnull(), 'Rating'] = model.predict(X_miss)"
   ]
  },
  {
   "cell_type": "code",
   "execution_count": 26,
   "id": "2565689d",
   "metadata": {},
   "outputs": [
    {
     "data": {
      "text/plain": [
       "Category          0\n",
       "Rating            0\n",
       "Reviews           0\n",
       "Size              0\n",
       "Installs          0\n",
       "Type              0\n",
       "Price             0\n",
       "Content Rating    0\n",
       "Genres            0\n",
       "dtype: int64"
      ]
     },
     "execution_count": 26,
     "metadata": {},
     "output_type": "execute_result"
    }
   ],
   "source": [
    "train_data.isnull().sum()"
   ]
  },
  {
   "cell_type": "code",
   "execution_count": 27,
   "id": "483b4085",
   "metadata": {},
   "outputs": [
    {
     "data": {
      "text/plain": [
       "Category             int8\n",
       "Rating            float64\n",
       "Reviews           float64\n",
       "Size              float64\n",
       "Installs          float64\n",
       "Type                 int8\n",
       "Price             float64\n",
       "Content Rating       int8\n",
       "Genres               int8\n",
       "dtype: object"
      ]
     },
     "execution_count": 27,
     "metadata": {},
     "output_type": "execute_result"
    }
   ],
   "source": [
    "# Final data type of the data\n",
    "train_data.dtypes"
   ]
  },
  {
   "cell_type": "code",
   "execution_count": 28,
   "id": "ed286021",
   "metadata": {},
   "outputs": [
    {
     "data": {
      "text/html": [
       "<div>\n",
       "<style scoped>\n",
       "    .dataframe tbody tr th:only-of-type {\n",
       "        vertical-align: middle;\n",
       "    }\n",
       "\n",
       "    .dataframe tbody tr th {\n",
       "        vertical-align: top;\n",
       "    }\n",
       "\n",
       "    .dataframe thead th {\n",
       "        text-align: right;\n",
       "    }\n",
       "</style>\n",
       "<table border=\"1\" class=\"dataframe\">\n",
       "  <thead>\n",
       "    <tr style=\"text-align: right;\">\n",
       "      <th></th>\n",
       "      <th>Category</th>\n",
       "      <th>Rating</th>\n",
       "      <th>Reviews</th>\n",
       "      <th>Size</th>\n",
       "      <th>Installs</th>\n",
       "      <th>Type</th>\n",
       "      <th>Price</th>\n",
       "      <th>Content Rating</th>\n",
       "      <th>Genres</th>\n",
       "    </tr>\n",
       "  </thead>\n",
       "  <tbody>\n",
       "    <tr>\n",
       "      <th>0</th>\n",
       "      <td>0</td>\n",
       "      <td>4.1</td>\n",
       "      <td>159.0</td>\n",
       "      <td>19000000.0</td>\n",
       "      <td>10000.0</td>\n",
       "      <td>0</td>\n",
       "      <td>0.0</td>\n",
       "      <td>1</td>\n",
       "      <td>9</td>\n",
       "    </tr>\n",
       "    <tr>\n",
       "      <th>1</th>\n",
       "      <td>0</td>\n",
       "      <td>3.9</td>\n",
       "      <td>967.0</td>\n",
       "      <td>14000000.0</td>\n",
       "      <td>500000.0</td>\n",
       "      <td>0</td>\n",
       "      <td>0.0</td>\n",
       "      <td>1</td>\n",
       "      <td>12</td>\n",
       "    </tr>\n",
       "    <tr>\n",
       "      <th>2</th>\n",
       "      <td>0</td>\n",
       "      <td>4.7</td>\n",
       "      <td>87510.0</td>\n",
       "      <td>8700000.0</td>\n",
       "      <td>5000000.0</td>\n",
       "      <td>0</td>\n",
       "      <td>0.0</td>\n",
       "      <td>1</td>\n",
       "      <td>9</td>\n",
       "    </tr>\n",
       "    <tr>\n",
       "      <th>3</th>\n",
       "      <td>0</td>\n",
       "      <td>4.5</td>\n",
       "      <td>215644.0</td>\n",
       "      <td>25000000.0</td>\n",
       "      <td>50000000.0</td>\n",
       "      <td>0</td>\n",
       "      <td>0.0</td>\n",
       "      <td>4</td>\n",
       "      <td>9</td>\n",
       "    </tr>\n",
       "    <tr>\n",
       "      <th>4</th>\n",
       "      <td>0</td>\n",
       "      <td>4.3</td>\n",
       "      <td>967.0</td>\n",
       "      <td>2800000.0</td>\n",
       "      <td>100000.0</td>\n",
       "      <td>0</td>\n",
       "      <td>0.0</td>\n",
       "      <td>1</td>\n",
       "      <td>11</td>\n",
       "    </tr>\n",
       "  </tbody>\n",
       "</table>\n",
       "</div>"
      ],
      "text/plain": [
       "   Category  Rating   Reviews        Size    Installs  Type  Price  \\\n",
       "0         0     4.1     159.0  19000000.0     10000.0     0    0.0   \n",
       "1         0     3.9     967.0  14000000.0    500000.0     0    0.0   \n",
       "2         0     4.7   87510.0   8700000.0   5000000.0     0    0.0   \n",
       "3         0     4.5  215644.0  25000000.0  50000000.0     0    0.0   \n",
       "4         0     4.3     967.0   2800000.0    100000.0     0    0.0   \n",
       "\n",
       "   Content Rating  Genres  \n",
       "0               1       9  \n",
       "1               1      12  \n",
       "2               1       9  \n",
       "3               4       9  \n",
       "4               1      11  "
      ]
     },
     "execution_count": 28,
     "metadata": {},
     "output_type": "execute_result"
    }
   ],
   "source": [
    "#Analyse the preprocessed data\n",
    "train_data.head()"
   ]
  },
  {
   "cell_type": "code",
   "execution_count": 29,
   "id": "fc64b5a7",
   "metadata": {},
   "outputs": [
    {
     "data": {
      "text/plain": [
       "<AxesSubplot:>"
      ]
     },
     "execution_count": 29,
     "metadata": {},
     "output_type": "execute_result"
    },
    {
     "data": {
      "image/png": "[encoded data removed]",
      "text/plain": [
       "<Figure size 1440x720 with 2 Axes>"
      ]
     },
     "metadata": {
      "needs_background": "light"
     },
     "output_type": "display_data"
    }
   ],
   "source": [
    "import seaborn as sns\n",
    "plt.figure(figsize=(20,10))\n",
    "sns.heatmap(train_data.corr(),annot = True, cmap = 'coolwarm')"
   ]
  },
  {
   "cell_type": "code",
   "execution_count": 30,
   "id": "40f8f022",
   "metadata": {},
   "outputs": [
    {
     "data": {
      "text/html": [
       "<div>\n",
       "<style scoped>\n",
       "    .dataframe tbody tr th:only-of-type {\n",
       "        vertical-align: middle;\n",
       "    }\n",
       "\n",
       "    .dataframe tbody tr th {\n",
       "        vertical-align: top;\n",
       "    }\n",
       "\n",
       "    .dataframe thead th {\n",
       "        text-align: right;\n",
       "    }\n",
       "</style>\n",
       "<table border=\"1\" class=\"dataframe\">\n",
       "  <thead>\n",
       "    <tr style=\"text-align: right;\">\n",
       "      <th></th>\n",
       "      <th>Category</th>\n",
       "      <th>Rating</th>\n",
       "      <th>Reviews</th>\n",
       "      <th>Size</th>\n",
       "      <th>Installs</th>\n",
       "      <th>Type</th>\n",
       "      <th>Price</th>\n",
       "      <th>Content Rating</th>\n",
       "      <th>Genres</th>\n",
       "    </tr>\n",
       "  </thead>\n",
       "  <tbody>\n",
       "    <tr>\n",
       "      <th>0</th>\n",
       "      <td>0</td>\n",
       "      <td>4.1</td>\n",
       "      <td>-0.151664</td>\n",
       "      <td>-0.140860</td>\n",
       "      <td>-0.181770</td>\n",
       "      <td>0</td>\n",
       "      <td>-0.064419</td>\n",
       "      <td>1</td>\n",
       "      <td>9</td>\n",
       "    </tr>\n",
       "    <tr>\n",
       "      <th>1</th>\n",
       "      <td>0</td>\n",
       "      <td>3.9</td>\n",
       "      <td>-0.151388</td>\n",
       "      <td>-0.366005</td>\n",
       "      <td>-0.176007</td>\n",
       "      <td>0</td>\n",
       "      <td>-0.064419</td>\n",
       "      <td>1</td>\n",
       "      <td>12</td>\n",
       "    </tr>\n",
       "    <tr>\n",
       "      <th>2</th>\n",
       "      <td>0</td>\n",
       "      <td>4.7</td>\n",
       "      <td>-0.121828</td>\n",
       "      <td>-0.604659</td>\n",
       "      <td>-0.123084</td>\n",
       "      <td>0</td>\n",
       "      <td>-0.064419</td>\n",
       "      <td>1</td>\n",
       "      <td>9</td>\n",
       "    </tr>\n",
       "    <tr>\n",
       "      <th>3</th>\n",
       "      <td>0</td>\n",
       "      <td>4.5</td>\n",
       "      <td>-0.078063</td>\n",
       "      <td>0.129314</td>\n",
       "      <td>0.406145</td>\n",
       "      <td>0</td>\n",
       "      <td>-0.064419</td>\n",
       "      <td>4</td>\n",
       "      <td>9</td>\n",
       "    </tr>\n",
       "    <tr>\n",
       "      <th>4</th>\n",
       "      <td>0</td>\n",
       "      <td>4.3</td>\n",
       "      <td>-0.151388</td>\n",
       "      <td>-0.870330</td>\n",
       "      <td>-0.180712</td>\n",
       "      <td>0</td>\n",
       "      <td>-0.064419</td>\n",
       "      <td>1</td>\n",
       "      <td>11</td>\n",
       "    </tr>\n",
       "  </tbody>\n",
       "</table>\n",
       "</div>"
      ],
      "text/plain": [
       "   Category  Rating   Reviews      Size  Installs  Type     Price  \\\n",
       "0         0     4.1 -0.151664 -0.140860 -0.181770     0 -0.064419   \n",
       "1         0     3.9 -0.151388 -0.366005 -0.176007     0 -0.064419   \n",
       "2         0     4.7 -0.121828 -0.604659 -0.123084     0 -0.064419   \n",
       "3         0     4.5 -0.078063  0.129314  0.406145     0 -0.064419   \n",
       "4         0     4.3 -0.151388 -0.870330 -0.180712     0 -0.064419   \n",
       "\n",
       "   Content Rating  Genres  \n",
       "0               1       9  \n",
       "1               1      12  \n",
       "2               1       9  \n",
       "3               4       9  \n",
       "4               1      11  "
      ]
     },
     "execution_count": 30,
     "metadata": {},
     "output_type": "execute_result"
    }
   ],
   "source": [
    "# Model Training\n",
    "# Standardize data\n",
    "# Columns not to be standardized. These are columns with categorical data, \n",
    "# also we don't standardize our target vraiable\n",
    "cols = ['Category', 'Type', 'Content Rating', 'Genres', 'Rating']\n",
    "\n",
    "# Pick remaining columns and standardize them \n",
    "columns = [c for c in train_data.columns if c not in cols]\n",
    "scaler = StandardScaler()\n",
    "scaler.fit(train_data[columns])\n",
    "train_data[columns] = scaler.transform(train_data[columns])\n",
    "\n",
    "# Check data after standarization\n",
    "train_data.head()"
   ]
  },
  {
   "cell_type": "code",
   "execution_count": 31,
   "id": "afcca50b",
   "metadata": {},
   "outputs": [
    {
     "data": {
      "text/plain": [
       "array([[<AxesSubplot:xlabel='Category', ylabel='Category'>,\n",
       "        <AxesSubplot:xlabel='Rating', ylabel='Category'>,\n",
       "        <AxesSubplot:xlabel='Reviews', ylabel='Category'>,\n",
       "        <AxesSubplot:xlabel='Size', ylabel='Category'>,\n",
       "        <AxesSubplot:xlabel='Installs', ylabel='Category'>,\n",
       "        <AxesSubplot:xlabel='Type', ylabel='Category'>,\n",
       "        <AxesSubplot:xlabel='Price', ylabel='Category'>,\n",
       "        <AxesSubplot:xlabel='Content Rating', ylabel='Category'>,\n",
       "        <AxesSubplot:xlabel='Genres', ylabel='Category'>],\n",
       "       [<AxesSubplot:xlabel='Category', ylabel='Rating'>,\n",
       "        <AxesSubplot:xlabel='Rating', ylabel='Rating'>,\n",
       "        <AxesSubplot:xlabel='Reviews', ylabel='Rating'>,\n",
       "        <AxesSubplot:xlabel='Size', ylabel='Rating'>,\n",
       "        <AxesSubplot:xlabel='Installs', ylabel='Rating'>,\n",
       "        <AxesSubplot:xlabel='Type', ylabel='Rating'>,\n",
       "        <AxesSubplot:xlabel='Price', ylabel='Rating'>,\n",
       "        <AxesSubplot:xlabel='Content Rating', ylabel='Rating'>,\n",
       "        <AxesSubplot:xlabel='Genres', ylabel='Rating'>],\n",
       "       [<AxesSubplot:xlabel='Category', ylabel='Reviews'>,\n",
       "        <AxesSubplot:xlabel='Rating', ylabel='Reviews'>,\n",
       "        <AxesSubplot:xlabel='Reviews', ylabel='Reviews'>,\n",
       "        <AxesSubplot:xlabel='Size', ylabel='Reviews'>,\n",
       "        <AxesSubplot:xlabel='Installs', ylabel='Reviews'>,\n",
       "        <AxesSubplot:xlabel='Type', ylabel='Reviews'>,\n",
       "        <AxesSubplot:xlabel='Price', ylabel='Reviews'>,\n",
       "        <AxesSubplot:xlabel='Content Rating', ylabel='Reviews'>,\n",
       "        <AxesSubplot:xlabel='Genres', ylabel='Reviews'>],\n",
       "       [<AxesSubplot:xlabel='Category', ylabel='Size'>,\n",
       "        <AxesSubplot:xlabel='Rating', ylabel='Size'>,\n",
       "        <AxesSubplot:xlabel='Reviews', ylabel='Size'>,\n",
       "        <AxesSubplot:xlabel='Size', ylabel='Size'>,\n",
       "        <AxesSubplot:xlabel='Installs', ylabel='Size'>,\n",
       "        <AxesSubplot:xlabel='Type', ylabel='Size'>,\n",
       "        <AxesSubplot:xlabel='Price', ylabel='Size'>,\n",
       "        <AxesSubplot:xlabel='Content Rating', ylabel='Size'>,\n",
       "        <AxesSubplot:xlabel='Genres', ylabel='Size'>],\n",
       "       [<AxesSubplot:xlabel='Category', ylabel='Installs'>,\n",
       "        <AxesSubplot:xlabel='Rating', ylabel='Installs'>,\n",
       "        <AxesSubplot:xlabel='Reviews', ylabel='Installs'>,\n",
       "        <AxesSubplot:xlabel='Size', ylabel='Installs'>,\n",
       "        <AxesSubplot:xlabel='Installs', ylabel='Installs'>,\n",
       "        <AxesSubplot:xlabel='Type', ylabel='Installs'>,\n",
       "        <AxesSubplot:xlabel='Price', ylabel='Installs'>,\n",
       "        <AxesSubplot:xlabel='Content Rating', ylabel='Installs'>,\n",
       "        <AxesSubplot:xlabel='Genres', ylabel='Installs'>],\n",
       "       [<AxesSubplot:xlabel='Category', ylabel='Type'>,\n",
       "        <AxesSubplot:xlabel='Rating', ylabel='Type'>,\n",
       "        <AxesSubplot:xlabel='Reviews', ylabel='Type'>,\n",
       "        <AxesSubplot:xlabel='Size', ylabel='Type'>,\n",
       "        <AxesSubplot:xlabel='Installs', ylabel='Type'>,\n",
       "        <AxesSubplot:xlabel='Type', ylabel='Type'>,\n",
       "        <AxesSubplot:xlabel='Price', ylabel='Type'>,\n",
       "        <AxesSubplot:xlabel='Content Rating', ylabel='Type'>,\n",
       "        <AxesSubplot:xlabel='Genres', ylabel='Type'>],\n",
       "       [<AxesSubplot:xlabel='Category', ylabel='Price'>,\n",
       "        <AxesSubplot:xlabel='Rating', ylabel='Price'>,\n",
       "        <AxesSubplot:xlabel='Reviews', ylabel='Price'>,\n",
       "        <AxesSubplot:xlabel='Size', ylabel='Price'>,\n",
       "        <AxesSubplot:xlabel='Installs', ylabel='Price'>,\n",
       "        <AxesSubplot:xlabel='Type', ylabel='Price'>,\n",
       "        <AxesSubplot:xlabel='Price', ylabel='Price'>,\n",
       "        <AxesSubplot:xlabel='Content Rating', ylabel='Price'>,\n",
       "        <AxesSubplot:xlabel='Genres', ylabel='Price'>],\n",
       "       [<AxesSubplot:xlabel='Category', ylabel='Content Rating'>,\n",
       "        <AxesSubplot:xlabel='Rating', ylabel='Content Rating'>,\n",
       "        <AxesSubplot:xlabel='Reviews', ylabel='Content Rating'>,\n",
       "        <AxesSubplot:xlabel='Size', ylabel='Content Rating'>,\n",
       "        <AxesSubplot:xlabel='Installs', ylabel='Content Rating'>,\n",
       "        <AxesSubplot:xlabel='Type', ylabel='Content Rating'>,\n",
       "        <AxesSubplot:xlabel='Price', ylabel='Content Rating'>,\n",
       "        <AxesSubplot:xlabel='Content Rating', ylabel='Content Rating'>,\n",
       "        <AxesSubplot:xlabel='Genres', ylabel='Content Rating'>],\n",
       "       [<AxesSubplot:xlabel='Category', ylabel='Genres'>,\n",
       "        <AxesSubplot:xlabel='Rating', ylabel='Genres'>,\n",
       "        <AxesSubplot:xlabel='Reviews', ylabel='Genres'>,\n",
       "        <AxesSubplot:xlabel='Size', ylabel='Genres'>,\n",
       "        <AxesSubplot:xlabel='Installs', ylabel='Genres'>,\n",
       "        <AxesSubplot:xlabel='Type', ylabel='Genres'>,\n",
       "        <AxesSubplot:xlabel='Price', ylabel='Genres'>,\n",
       "        <AxesSubplot:xlabel='Content Rating', ylabel='Genres'>,\n",
       "        <AxesSubplot:xlabel='Genres', ylabel='Genres'>]], dtype=object)"
      ]
     },
     "execution_count": 31,
     "metadata": {},
     "output_type": "execute_result"
    },
    {
     "data": {
      "image/png": "[encoded data removed]",
      "text/plain": [
       "<Figure size 864x864 with 81 Axes>"
      ]
     },
     "metadata": {
      "needs_background": "light"
     },
     "output_type": "display_data"
    }
   ],
   "source": [
    "pd.plotting.scatter_matrix(train_data, figsize=(12,12))"
   ]
  },
  {
   "cell_type": "markdown",
   "id": "f4784222",
   "metadata": {},
   "source": [
    "# Rating vs Reviews"
   ]
  },
  {
   "cell_type": "code",
   "execution_count": 77,
   "id": "3a106052",
   "metadata": {},
   "outputs": [],
   "source": [
    "x=train_data.Reviews.to_numpy()\n",
    "y=train_data.Rating.to_numpy()"
   ]
  },
  {
   "cell_type": "code",
   "execution_count": 78,
   "id": "0c2b11c8",
   "metadata": {},
   "outputs": [
    {
     "data": {
      "text/plain": [
       "<matplotlib.collections.PathCollection at 0x24e7db80>"
      ]
     },
     "execution_count": 78,
     "metadata": {},
     "output_type": "execute_result"
    },
    {
     "data": {
      "image/png": "[encoded data removed]",
      "text/plain": [
       "<Figure size 432x288 with 1 Axes>"
      ]
     },
     "metadata": {
      "needs_background": "light"
     },
     "output_type": "display_data"
    }
   ],
   "source": [
    "plt.scatter(x,y)"
   ]
  },
  {
   "cell_type": "code",
   "execution_count": 79,
   "id": "e69754f3",
   "metadata": {},
   "outputs": [],
   "source": [
    "x=x/30.0\n",
    "y=y/5.0"
   ]
  },
  {
   "cell_type": "code",
   "execution_count": 80,
   "id": "6319c642",
   "metadata": {},
   "outputs": [
    {
     "data": {
      "text/plain": [
       "<matplotlib.collections.PathCollection at 0x24e7dbb0>"
      ]
     },
     "execution_count": 80,
     "metadata": {},
     "output_type": "execute_result"
    },
    {
     "data": {
      "image/png": "[encoded data removed]",
      "text/plain": [
       "<Figure size 432x288 with 1 Axes>"
      ]
     },
     "metadata": {
      "needs_background": "light"
     },
     "output_type": "display_data"
    }
   ],
   "source": [
    "plt.scatter(x,y)"
   ]
  },
  {
   "cell_type": "code",
   "execution_count": 81,
   "id": "cc0be817",
   "metadata": {},
   "outputs": [],
   "source": [
    "m,c=np.random.random(),np.random.random()"
   ]
  },
  {
   "cell_type": "code",
   "execution_count": 82,
   "id": "e864592f",
   "metadata": {},
   "outputs": [],
   "source": [
    "def learn(x,y,m,c,epoch):\n",
    "    for i in range(epoch):\n",
    "        error=y-(m*x+c)\n",
    "        x_error=(y-(m*x+c))*x\n",
    "        error=np.sum(error)/len(x)\n",
    "        x_error=np.sum(x_error)/len(x)\n",
    "        learning_rate = 0.01\n",
    "        delta_m= learning_rate *x_error\n",
    "        delta_c =learning_rate*error\n",
    "        m+=delta_m\n",
    "        c+=delta_c\n",
    "    return(m,c)   "
   ]
  },
  {
   "cell_type": "code",
   "execution_count": 83,
   "id": "1da6e36b",
   "metadata": {},
   "outputs": [],
   "source": [
    "m,c=learn(x,y,m,c,20000)"
   ]
  },
  {
   "cell_type": "code",
   "execution_count": 84,
   "id": "75ff1541",
   "metadata": {},
   "outputs": [],
   "source": [
    "x1=[0,1]\n",
    "y1=[0*m+c,1*m+c]"
   ]
  },
  {
   "cell_type": "code",
   "execution_count": 85,
   "id": "c248f2b1",
   "metadata": {},
   "outputs": [
    {
     "data": {
      "text/plain": [
       "[<matplotlib.lines.Line2D at 0x24f52f40>]"
      ]
     },
     "execution_count": 85,
     "metadata": {},
     "output_type": "execute_result"
    },
    {
     "data": {
      "image/png": "[encoded data removed]",
      "text/plain": [
       "<Figure size 432x288 with 1 Axes>"
      ]
     },
     "metadata": {
      "needs_background": "light"
     },
     "output_type": "display_data"
    }
   ],
   "source": [
    "plt.scatter(x,y)\n",
    "plt.plot(x1,y1, color='red')"
   ]
  },
  {
   "cell_type": "markdown",
   "id": "41fc7c0a",
   "metadata": {},
   "source": [
    "# Rating vs Installs"
   ]
  },
  {
   "cell_type": "code",
   "execution_count": 86,
   "id": "9bf89cd6",
   "metadata": {},
   "outputs": [],
   "source": [
    "x=train_data.Installs.to_numpy()\n",
    "y=train_data.Rating.to_numpy()"
   ]
  },
  {
   "cell_type": "code",
   "execution_count": 87,
   "id": "e9fa0a01",
   "metadata": {},
   "outputs": [
    {
     "data": {
      "text/plain": [
       "<matplotlib.collections.PathCollection at 0x24faddf0>"
      ]
     },
     "execution_count": 87,
     "metadata": {},
     "output_type": "execute_result"
    },
    {
     "data": {
      "image/png": "[encoded data removed]",
      "text/plain": [
       "<Figure size 432x288 with 1 Axes>"
      ]
     },
     "metadata": {
      "needs_background": "light"
     },
     "output_type": "display_data"
    }
   ],
   "source": [
    "plt.scatter(x,y)"
   ]
  },
  {
   "cell_type": "code",
   "execution_count": 88,
   "id": "affac25b",
   "metadata": {},
   "outputs": [],
   "source": [
    "x=x/15.0\n",
    "y=y/5.0"
   ]
  },
  {
   "cell_type": "code",
   "execution_count": 89,
   "id": "3f57a14e",
   "metadata": {},
   "outputs": [
    {
     "data": {
      "text/plain": [
       "<matplotlib.collections.PathCollection at 0x2501b820>"
      ]
     },
     "execution_count": 89,
     "metadata": {},
     "output_type": "execute_result"
    },
    {
     "data": {
      "image/png": "[encoded data removed]",
      "text/plain": [
       "<Figure size 432x288 with 1 Axes>"
      ]
     },
     "metadata": {
      "needs_background": "light"
     },
     "output_type": "display_data"
    }
   ],
   "source": [
    "plt.scatter(x,y)"
   ]
  },
  {
   "cell_type": "code",
   "execution_count": 90,
   "id": "f195633b",
   "metadata": {},
   "outputs": [],
   "source": [
    "m,c=np.random.random(),np.random.random()"
   ]
  },
  {
   "cell_type": "code",
   "execution_count": 91,
   "id": "e670c487",
   "metadata": {},
   "outputs": [],
   "source": [
    "def learn(x,y,m,c,epoch):\n",
    "    for i in range(epoch):\n",
    "        error=y-(m*x+c)\n",
    "        x_error=(y-(m*x+c))*x\n",
    "        error=np.sum(error)/len(x)\n",
    "        x_error=np.sum(x_error)/len(x)\n",
    "        learning_rate = 0.01\n",
    "        delta_m= learning_rate *x_error\n",
    "        delta_c =learning_rate*error\n",
    "        m+=delta_m\n",
    "        c+=delta_c\n",
    "    return(m,c)   "
   ]
  },
  {
   "cell_type": "code",
   "execution_count": 92,
   "id": "4e0dac56",
   "metadata": {},
   "outputs": [],
   "source": [
    "m,c=learn(x,y,m,c,20000)"
   ]
  },
  {
   "cell_type": "code",
   "execution_count": 93,
   "id": "ade997d7",
   "metadata": {},
   "outputs": [],
   "source": [
    "x1=[0,1]\n",
    "y1=[0*m+c,1*m+c]"
   ]
  },
  {
   "cell_type": "code",
   "execution_count": 94,
   "id": "5e41d78e",
   "metadata": {},
   "outputs": [
    {
     "data": {
      "text/plain": [
       "[<matplotlib.lines.Line2D at 0x250ad1c0>]"
      ]
     },
     "execution_count": 94,
     "metadata": {},
     "output_type": "execute_result"
    },
    {
     "data": {
      "image/png": "[encoded data removed]",
      "text/plain": [
       "<Figure size 432x288 with 1 Axes>"
      ]
     },
     "metadata": {
      "needs_background": "light"
     },
     "output_type": "display_data"
    }
   ],
   "source": [
    "plt.scatter(x,y)\n",
    "plt.plot(x1,y1, color='red')"
   ]
  },
  {
   "cell_type": "markdown",
   "id": "2e41c129",
   "metadata": {},
   "source": [
    "# Rating vs App size"
   ]
  },
  {
   "cell_type": "code",
   "execution_count": 95,
   "id": "68507d5e",
   "metadata": {},
   "outputs": [],
   "source": [
    "x=train_data.Size.to_numpy()\n",
    "y=train_data.Rating.to_numpy()"
   ]
  },
  {
   "cell_type": "code",
   "execution_count": 96,
   "id": "78109ec4",
   "metadata": {},
   "outputs": [
    {
     "data": {
      "text/plain": [
       "<matplotlib.collections.PathCollection at 0x24f71af0>"
      ]
     },
     "execution_count": 96,
     "metadata": {},
     "output_type": "execute_result"
    },
    {
     "data": {
      "image/png": "[encoded data removed]",
      "text/plain": [
       "<Figure size 432x288 with 1 Axes>"
      ]
     },
     "metadata": {
      "needs_background": "light"
     },
     "output_type": "display_data"
    }
   ],
   "source": [
    "plt.scatter(x,y)"
   ]
  },
  {
   "cell_type": "code",
   "execution_count": 97,
   "id": "6dec629c",
   "metadata": {},
   "outputs": [],
   "source": [
    "x=x/15.0\n",
    "y=y/6.0"
   ]
  },
  {
   "cell_type": "code",
   "execution_count": 98,
   "id": "32948306",
   "metadata": {},
   "outputs": [
    {
     "data": {
      "text/plain": [
       "<matplotlib.collections.PathCollection at 0x2381b490>"
      ]
     },
     "execution_count": 98,
     "metadata": {},
     "output_type": "execute_result"
    },
    {
     "data": {
      "image/png": "[encoded data removed]",
      "text/plain": [
       "<Figure size 432x288 with 1 Axes>"
      ]
     },
     "metadata": {
      "needs_background": "light"
     },
     "output_type": "display_data"
    }
   ],
   "source": [
    "plt.scatter(x,y)"
   ]
  },
  {
   "cell_type": "code",
   "execution_count": 99,
   "id": "28d34f84",
   "metadata": {},
   "outputs": [],
   "source": [
    "m,c=np.random.random(),np.random.random()"
   ]
  },
  {
   "cell_type": "code",
   "execution_count": 100,
   "id": "0b4c6a56",
   "metadata": {},
   "outputs": [],
   "source": [
    "def learn(x,y,m,c,epoch):\n",
    "    for i in range(epoch):\n",
    "        error=y-(m*x+c)\n",
    "        x_error=(y-(m*x+c))*x\n",
    "        error=np.sum(error)/len(x)\n",
    "        x_error=np.sum(x_error)/len(x)\n",
    "        learning_rate = 0.01\n",
    "        delta_m= learning_rate *x_error\n",
    "        delta_c =learning_rate*error\n",
    "        m+=delta_m\n",
    "        c+=delta_c\n",
    "    return(m,c)   "
   ]
  },
  {
   "cell_type": "code",
   "execution_count": 101,
   "id": "d8eea0fb",
   "metadata": {},
   "outputs": [],
   "source": [
    "m,c=learn(x,y,m,c,20000)"
   ]
  },
  {
   "cell_type": "code",
   "execution_count": 102,
   "id": "ade461a5",
   "metadata": {},
   "outputs": [],
   "source": [
    "x1=[0,1]\n",
    "y1=[0*m+c,1*m+c]"
   ]
  },
  {
   "cell_type": "code",
   "execution_count": 103,
   "id": "8190a4dc",
   "metadata": {},
   "outputs": [
    {
     "data": {
      "text/plain": [
       "[<matplotlib.lines.Line2D at 0x2388e550>]"
      ]
     },
     "execution_count": 103,
     "metadata": {},
     "output_type": "execute_result"
    },
    {
     "data": {
      "image/png": "[encoded data removed]",
      "text/plain": [
       "<Figure size 432x288 with 1 Axes>"
      ]
     },
     "metadata": {
      "needs_background": "light"
     },
     "output_type": "display_data"
    }
   ],
   "source": [
    "plt.scatter(x,y)\n",
    "plt.plot(x1,y1,color='red')"
   ]
  },
  {
   "cell_type": "markdown",
   "id": "47414f1a",
   "metadata": {},
   "source": [
    "# Rating vs Category"
   ]
  },
  {
   "cell_type": "code",
   "execution_count": 104,
   "id": "4912fb84",
   "metadata": {},
   "outputs": [],
   "source": [
    "x=train_data.Category.to_numpy()\n",
    "y=train_data.Rating.to_numpy()"
   ]
  },
  {
   "cell_type": "code",
   "execution_count": 105,
   "id": "6fd1cd19",
   "metadata": {},
   "outputs": [
    {
     "data": {
      "text/plain": [
       "<matplotlib.collections.PathCollection at 0x238decd0>"
      ]
     },
     "execution_count": 105,
     "metadata": {},
     "output_type": "execute_result"
    },
    {
     "data": {
      "image/png": "[encoded data removed]",
      "text/plain": [
       "<Figure size 432x288 with 1 Axes>"
      ]
     },
     "metadata": {
      "needs_background": "light"
     },
     "output_type": "display_data"
    }
   ],
   "source": [
    "plt.scatter(x,y)"
   ]
  },
  {
   "cell_type": "code",
   "execution_count": 106,
   "id": "731481d5",
   "metadata": {},
   "outputs": [],
   "source": [
    "x=x/40.0\n",
    "y=y/6.0"
   ]
  },
  {
   "cell_type": "code",
   "execution_count": 107,
   "id": "b26ee5f1",
   "metadata": {},
   "outputs": [
    {
     "data": {
      "text/plain": [
       "<matplotlib.collections.PathCollection at 0x23a34520>"
      ]
     },
     "execution_count": 107,
     "metadata": {},
     "output_type": "execute_result"
    },
    {
     "data": {
      "image/png": "[encoded data removed]",
      "text/plain": [
       "<Figure size 432x288 with 1 Axes>"
      ]
     },
     "metadata": {
      "needs_background": "light"
     },
     "output_type": "display_data"
    }
   ],
   "source": [
    "plt.scatter(x,y)"
   ]
  },
  {
   "cell_type": "code",
   "execution_count": 108,
   "id": "a106c67e",
   "metadata": {},
   "outputs": [],
   "source": [
    "m,c=np.random.random(),np.random.random()"
   ]
  },
  {
   "cell_type": "code",
   "execution_count": 109,
   "id": "2ab7198b",
   "metadata": {},
   "outputs": [],
   "source": [
    "def learn(x,y,m,c,epoch):\n",
    "    for i in range(epoch):\n",
    "        error=y-(m*x+c)\n",
    "        x_error=(y-(m*x+c))*x\n",
    "        error=np.sum(error)/len(x)\n",
    "        x_error=np.sum(x_error)/len(x)\n",
    "        learning_rate = 0.01\n",
    "        delta_m= learning_rate *x_error\n",
    "        delta_c =learning_rate*error\n",
    "        m+=delta_m\n",
    "        c+=delta_c\n",
    "    return(m,c)   "
   ]
  },
  {
   "cell_type": "code",
   "execution_count": 110,
   "id": "d70684ef",
   "metadata": {},
   "outputs": [],
   "source": [
    "m,c=learn(x,y,m,c,20000)"
   ]
  },
  {
   "cell_type": "code",
   "execution_count": 111,
   "id": "de3a22e1",
   "metadata": {},
   "outputs": [],
   "source": [
    "x1=[0,1]\n",
    "y1=[0*m+c,1*m+c]"
   ]
  },
  {
   "cell_type": "code",
   "execution_count": 112,
   "id": "c3a773a8",
   "metadata": {},
   "outputs": [
    {
     "data": {
      "text/plain": [
       "[<matplotlib.lines.Line2D at 0x23ab6400>]"
      ]
     },
     "execution_count": 112,
     "metadata": {},
     "output_type": "execute_result"
    },
    {
     "data": {
      "image/png": "[encoded data removed]",
      "text/plain": [
       "<Figure size 432x288 with 1 Axes>"
      ]
     },
     "metadata": {
      "needs_background": "light"
     },
     "output_type": "display_data"
    }
   ],
   "source": [
    "plt.scatter(x,y)\n",
    "plt.plot(x1,y1,color='red')"
   ]
  },
  {
   "cell_type": "markdown",
   "id": "6c5a49ad",
   "metadata": {},
   "source": [
    "# Multiple Linear Regression"
   ]
  },
  {
   "cell_type": "code",
   "execution_count": 68,
   "id": "13950ab6",
   "metadata": {},
   "outputs": [],
   "source": [
    "from sklearn import linear_model"
   ]
  },
  {
   "cell_type": "code",
   "execution_count": 69,
   "id": "928adf69",
   "metadata": {},
   "outputs": [],
   "source": [
    "df1=pd.DataFrame(train_data,columns=['Rating','Size','Category','Reviews'])"
   ]
  },
  {
   "cell_type": "code",
   "execution_count": 70,
   "id": "9ddab78b",
   "metadata": {},
   "outputs": [],
   "source": [
    "x=df1.drop(['Rating'],axis=1).values\n",
    "y=df1['Rating'].values"
   ]
  },
  {
   "cell_type": "code",
   "execution_count": 71,
   "id": "88165f5f",
   "metadata": {},
   "outputs": [
    {
     "name": "stdout",
     "output_type": "stream",
     "text": [
      "[[-1.40859806e-01  0.00000000e+00 -1.51663816e-01]\n",
      " [-3.66005050e-01  0.00000000e+00 -1.51387837e-01]\n",
      " [-6.04659009e-01  0.00000000e+00 -1.21828353e-01]\n",
      " ...\n",
      " [-5.68635770e-01  2.00000000e+01 -1.51717099e-01]\n",
      " [ 3.54979661e-01  3.00000000e+00 -1.51679186e-01]\n",
      " [-1.40859806e-01  1.80000000e+01 -1.56730444e-02]]\n"
     ]
    }
   ],
   "source": [
    "print(x)"
   ]
  },
  {
   "cell_type": "code",
   "execution_count": 72,
   "id": "2ce04cf0",
   "metadata": {},
   "outputs": [
    {
     "name": "stdout",
     "output_type": "stream",
     "text": [
      "[4.1        3.9        4.7        ... 4.15869989 4.5        4.5       ]\n"
     ]
    }
   ],
   "source": [
    "print(y)"
   ]
  },
  {
   "cell_type": "code",
   "execution_count": 73,
   "id": "062d24ab",
   "metadata": {},
   "outputs": [],
   "source": [
    "from sklearn.model_selection import train_test_split\n",
    "x_train,x_test,y_train,y_test=train_test_split(x,y,test_size=0.3,random_state=0)"
   ]
  },
  {
   "cell_type": "code",
   "execution_count": 74,
   "id": "8b16aed7",
   "metadata": {},
   "outputs": [
    {
     "data": {
      "text/plain": [
       "LinearRegression()"
      ]
     },
     "execution_count": 74,
     "metadata": {},
     "output_type": "execute_result"
    }
   ],
   "source": [
    "from sklearn.linear_model import LinearRegression\n",
    "ml=LinearRegression()\n",
    "ml.fit(x_train,y_train)"
   ]
  },
  {
   "cell_type": "code",
   "execution_count": 75,
   "id": "bc34ed72",
   "metadata": {},
   "outputs": [],
   "source": [
    "y_pred=ml.predict(x_test)"
   ]
  },
  {
   "cell_type": "code",
   "execution_count": 76,
   "id": "99da1179",
   "metadata": {},
   "outputs": [
    {
     "data": {
      "text/plain": [
       "Text(0.5, 1.0, 'Actual vs Predicted')"
      ]
     },
     "execution_count": 76,
     "metadata": {},
     "output_type": "execute_result"
    },
    {
     "data": {
      "image/png": "[encoded data removed]",
      "text/plain": [
       "<Figure size 432x288 with 1 Axes>"
      ]
     },
     "metadata": {
      "needs_background": "light"
     },
     "output_type": "display_data"
    }
   ],
   "source": [
    "plt.scatter(y_test,y_pred)\n",
    "plt.xlabel('Actual')\n",
    "plt.ylabel('Predicted')\n",
    "plt.title('Actual vs Predicted')"
   ]
  },
  {
   "cell_type": "code",
   "execution_count": 77,
   "id": "b77159d3",
   "metadata": {},
   "outputs": [
    {
     "data": {
      "text/html": [
       "<div>\n",
       "<style scoped>\n",
       "    .dataframe tbody tr th:only-of-type {\n",
       "        vertical-align: middle;\n",
       "    }\n",
       "\n",
       "    .dataframe tbody tr th {\n",
       "        vertical-align: top;\n",
       "    }\n",
       "\n",
       "    .dataframe thead th {\n",
       "        text-align: right;\n",
       "    }\n",
       "</style>\n",
       "<table border=\"1\" class=\"dataframe\">\n",
       "  <thead>\n",
       "    <tr style=\"text-align: right;\">\n",
       "      <th></th>\n",
       "      <th>Actual Value</th>\n",
       "      <th>Predicted value</th>\n",
       "      <th>Difference</th>\n",
       "    </tr>\n",
       "  </thead>\n",
       "  <tbody>\n",
       "    <tr>\n",
       "      <th>0</th>\n",
       "      <td>4.300000</td>\n",
       "      <td>4.315727</td>\n",
       "      <td>-0.015727</td>\n",
       "    </tr>\n",
       "    <tr>\n",
       "      <th>1</th>\n",
       "      <td>3.600000</td>\n",
       "      <td>4.185045</td>\n",
       "      <td>-0.585045</td>\n",
       "    </tr>\n",
       "    <tr>\n",
       "      <th>2</th>\n",
       "      <td>4.500000</td>\n",
       "      <td>4.179191</td>\n",
       "      <td>0.320809</td>\n",
       "    </tr>\n",
       "    <tr>\n",
       "      <th>3</th>\n",
       "      <td>4.400000</td>\n",
       "      <td>4.208801</td>\n",
       "      <td>0.191199</td>\n",
       "    </tr>\n",
       "    <tr>\n",
       "      <th>4</th>\n",
       "      <td>4.400000</td>\n",
       "      <td>4.159018</td>\n",
       "      <td>0.240982</td>\n",
       "    </tr>\n",
       "    <tr>\n",
       "      <th>5</th>\n",
       "      <td>4.500000</td>\n",
       "      <td>4.250957</td>\n",
       "      <td>0.249043</td>\n",
       "    </tr>\n",
       "    <tr>\n",
       "      <th>6</th>\n",
       "      <td>4.400000</td>\n",
       "      <td>4.201490</td>\n",
       "      <td>0.198510</td>\n",
       "    </tr>\n",
       "    <tr>\n",
       "      <th>7</th>\n",
       "      <td>4.238189</td>\n",
       "      <td>4.242144</td>\n",
       "      <td>-0.003955</td>\n",
       "    </tr>\n",
       "    <tr>\n",
       "      <th>8</th>\n",
       "      <td>4.600000</td>\n",
       "      <td>4.222527</td>\n",
       "      <td>0.377473</td>\n",
       "    </tr>\n",
       "    <tr>\n",
       "      <th>9</th>\n",
       "      <td>3.800000</td>\n",
       "      <td>4.212885</td>\n",
       "      <td>-0.412885</td>\n",
       "    </tr>\n",
       "    <tr>\n",
       "      <th>10</th>\n",
       "      <td>3.600000</td>\n",
       "      <td>4.173802</td>\n",
       "      <td>-0.573802</td>\n",
       "    </tr>\n",
       "    <tr>\n",
       "      <th>11</th>\n",
       "      <td>4.600000</td>\n",
       "      <td>4.196759</td>\n",
       "      <td>0.403241</td>\n",
       "    </tr>\n",
       "    <tr>\n",
       "      <th>12</th>\n",
       "      <td>4.183097</td>\n",
       "      <td>4.192219</td>\n",
       "      <td>-0.009122</td>\n",
       "    </tr>\n",
       "    <tr>\n",
       "      <th>13</th>\n",
       "      <td>4.700000</td>\n",
       "      <td>4.204908</td>\n",
       "      <td>0.495092</td>\n",
       "    </tr>\n",
       "    <tr>\n",
       "      <th>14</th>\n",
       "      <td>4.000000</td>\n",
       "      <td>4.238316</td>\n",
       "      <td>-0.238316</td>\n",
       "    </tr>\n",
       "    <tr>\n",
       "      <th>15</th>\n",
       "      <td>4.300000</td>\n",
       "      <td>4.209953</td>\n",
       "      <td>0.090047</td>\n",
       "    </tr>\n",
       "    <tr>\n",
       "      <th>16</th>\n",
       "      <td>4.000000</td>\n",
       "      <td>4.279267</td>\n",
       "      <td>-0.279267</td>\n",
       "    </tr>\n",
       "    <tr>\n",
       "      <th>17</th>\n",
       "      <td>4.200000</td>\n",
       "      <td>4.147493</td>\n",
       "      <td>0.052507</td>\n",
       "    </tr>\n",
       "    <tr>\n",
       "      <th>18</th>\n",
       "      <td>4.154394</td>\n",
       "      <td>4.161163</td>\n",
       "      <td>-0.006768</td>\n",
       "    </tr>\n",
       "    <tr>\n",
       "      <th>19</th>\n",
       "      <td>4.600000</td>\n",
       "      <td>4.262054</td>\n",
       "      <td>0.337946</td>\n",
       "    </tr>\n",
       "  </tbody>\n",
       "</table>\n",
       "</div>"
      ],
      "text/plain": [
       "    Actual Value  Predicted value  Difference\n",
       "0       4.300000         4.315727   -0.015727\n",
       "1       3.600000         4.185045   -0.585045\n",
       "2       4.500000         4.179191    0.320809\n",
       "3       4.400000         4.208801    0.191199\n",
       "4       4.400000         4.159018    0.240982\n",
       "5       4.500000         4.250957    0.249043\n",
       "6       4.400000         4.201490    0.198510\n",
       "7       4.238189         4.242144   -0.003955\n",
       "8       4.600000         4.222527    0.377473\n",
       "9       3.800000         4.212885   -0.412885\n",
       "10      3.600000         4.173802   -0.573802\n",
       "11      4.600000         4.196759    0.403241\n",
       "12      4.183097         4.192219   -0.009122\n",
       "13      4.700000         4.204908    0.495092\n",
       "14      4.000000         4.238316   -0.238316\n",
       "15      4.300000         4.209953    0.090047\n",
       "16      4.000000         4.279267   -0.279267\n",
       "17      4.200000         4.147493    0.052507\n",
       "18      4.154394         4.161163   -0.006768\n",
       "19      4.600000         4.262054    0.337946"
      ]
     },
     "execution_count": 77,
     "metadata": {},
     "output_type": "execute_result"
    }
   ],
   "source": [
    "pred_y_df=pd.DataFrame({'Actual Value':y_test,'Predicted value':y_pred,'Difference': y_test-y_pred})\n",
    "pred_y_df[0:20]"
   ]
  },
  {
   "cell_type": "markdown",
   "id": "09ceaab5",
   "metadata": {},
   "source": [
    "# Linear Regression"
   ]
  },
  {
   "cell_type": "code",
   "execution_count": 78,
   "id": "0553d088",
   "metadata": {},
   "outputs": [
    {
     "name": "stdout",
     "output_type": "stream",
     "text": [
      "Training Set Dimensions: (7587, 8)\n",
      "Validation Set Dimensions: (3252, 8)\n"
     ]
    }
   ],
   "source": [
    "# Train Test Split\n",
    "# Split data to 70% of the training and 30% for the validation\n",
    "y = train_data['Rating']\n",
    "X = train_data.drop(columns=['Rating'])\n",
    "X_train, X_test, y_train, y_test = train_test_split(X, y, test_size=0.3)\n",
    "print(\"Training Set Dimensions:\", X_train.shape)\n",
    "print(\"Validation Set Dimensions:\", X_test.shape)"
   ]
  },
  {
   "cell_type": "code",
   "execution_count": 79,
   "id": "b4310109",
   "metadata": {},
   "outputs": [
    {
     "data": {
      "text/plain": [
       "LinearRegression()"
      ]
     },
     "execution_count": 79,
     "metadata": {},
     "output_type": "execute_result"
    }
   ],
   "source": [
    "model = LinearRegression()\n",
    "model.fit(X_train, y_train)"
   ]
  },
  {
   "cell_type": "code",
   "execution_count": 80,
   "id": "c6f192ef",
   "metadata": {},
   "outputs": [],
   "source": [
    "y_pred=model.predict(X_test)"
   ]
  },
  {
   "cell_type": "code",
   "execution_count": 81,
   "id": "75b948a3",
   "metadata": {},
   "outputs": [
    {
     "data": {
      "text/plain": [
       "array([4.19957466, 4.19778009, 4.18667576, 4.17939161, 4.13456031,\n",
       "       4.329273  , 4.24349236, 4.33803713, 4.18066555, 4.13309046])"
      ]
     },
     "execution_count": 81,
     "metadata": {},
     "output_type": "execute_result"
    }
   ],
   "source": [
    "y_pred[1:11]"
   ]
  },
  {
   "cell_type": "code",
   "execution_count": 82,
   "id": "6b18e557",
   "metadata": {},
   "outputs": [
    {
     "name": "stdout",
     "output_type": "stream",
     "text": [
      "Mean squared Error for Test Set: 0.22553823371681142\n"
     ]
    }
   ],
   "source": [
    "# Measure mean squared error for validation sets\n",
    "print('Mean squared Error for Test Set:', mean_squared_error(y_test, y_pred))"
   ]
  },
  {
   "cell_type": "code",
   "execution_count": 83,
   "id": "dada07dc",
   "metadata": {},
   "outputs": [],
   "source": [
    "from sklearn.metrics import mean_absolute_error"
   ]
  },
  {
   "cell_type": "code",
   "execution_count": 84,
   "id": "810b957f",
   "metadata": {},
   "outputs": [
    {
     "name": "stdout",
     "output_type": "stream",
     "text": [
      "Mean absolute Error for Test Set: 0.31099483057920124\n"
     ]
    }
   ],
   "source": [
    "# Measure mean absolute error for validation sets\n",
    "print('Mean absolute Error for Test Set:', mean_absolute_error(y_test, y_pred))"
   ]
  },
  {
   "cell_type": "code",
   "execution_count": 85,
   "id": "6fea37ef",
   "metadata": {},
   "outputs": [],
   "source": [
    "from sklearn.metrics import r2_score"
   ]
  },
  {
   "cell_type": "code",
   "execution_count": 86,
   "id": "ff05a35e",
   "metadata": {},
   "outputs": [
    {
     "name": "stdout",
     "output_type": "stream",
     "text": [
      "R-squared Error for Test Set: 0.014658464835751284\n"
     ]
    }
   ],
   "source": [
    "# Measure R-squared for validation sets\n",
    "print('R-squared Error for Test Set:', r2_score(y_test, y_pred))"
   ]
  },
  {
   "cell_type": "code",
   "execution_count": 87,
   "id": "f83aee1e",
   "metadata": {},
   "outputs": [
    {
     "name": "stdout",
     "output_type": "stream",
     "text": [
      "Root mean squared Error for Test Set: 0.47490865828789797\n"
     ]
    }
   ],
   "source": [
    "import math\n",
    "# Measure root mean squared error for validation sets\n",
    "print('Root mean squared Error for Test Set:', math.sqrt(mean_squared_error(y_test, y_pred)))"
   ]
  },
  {
   "cell_type": "markdown",
   "id": "08099f7f",
   "metadata": {},
   "source": [
    "### KNN Model: K-Nearest Neighbors Model"
   ]
  },
  {
   "cell_type": "code",
   "execution_count": 88,
   "id": "b3425f9b",
   "metadata": {},
   "outputs": [],
   "source": [
    "from sklearn.neighbors import KNeighborsRegressor"
   ]
  },
  {
   "cell_type": "code",
   "execution_count": 89,
   "id": "07f9bd24",
   "metadata": {},
   "outputs": [
    {
     "name": "stdout",
     "output_type": "stream",
     "text": [
      "Mean squared Error for Training Set: 0.1618615339949217\n",
      "Mean squared Error for Test Set: 0.24331168271222978\n"
     ]
    }
   ],
   "source": [
    "# Fit model\n",
    "knr = KNeighborsRegressor(n_neighbors = 5)\n",
    "knr.fit(X_train, y_train)\n",
    "\n",
    "# Measure mean squared error for training and validation sets\n",
    "print('Mean squared Error for Training Set:', mean_squared_error(y_train, knr.predict(X_train)))\n",
    "print('Mean squared Error for Test Set:', mean_squared_error(y_test, knr.predict(X_test)))"
   ]
  },
  {
   "cell_type": "markdown",
   "id": "38576bcf",
   "metadata": {},
   "source": [
    "# Random Forest Regressor"
   ]
  },
  {
   "cell_type": "code",
   "execution_count": 90,
   "id": "fdb51d83",
   "metadata": {},
   "outputs": [],
   "source": [
    "from sklearn.ensemble import RandomForestRegressor"
   ]
  },
  {
   "cell_type": "code",
   "execution_count": 91,
   "id": "ea67cd2b",
   "metadata": {},
   "outputs": [
    {
     "name": "stdout",
     "output_type": "stream",
     "text": [
      "Mean squared Error for Training Set: 0.028226766895962947\n",
      "Mean squared Error for Test Set: 0.19902366809134187\n"
     ]
    }
   ],
   "source": [
    "# Train Random Forest Regressor\n",
    "randomf = RandomForestRegressor(n_estimators=300)\n",
    "randomf.fit(X_train, y_train)\n",
    "\n",
    "# Measure mean squared error for training and validation sets\n",
    "print('Mean squared Error for Training Set:', mean_squared_error(y_train, randomf.predict(X_train)))\n",
    "print('Mean squared Error for Test Set:', mean_squared_error(y_test, randomf.predict(X_test)))"
   ]
  },
  {
   "cell_type": "code",
   "execution_count": 92,
   "id": "6b437b7a",
   "metadata": {},
   "outputs": [
    {
     "name": "stdout",
     "output_type": "stream",
     "text": [
      "feature: Category = 0.09787285756361797\n",
      "feature: Reviews = 0.3393285584647029\n",
      "feature: Size = 0.29473025819616694\n",
      "feature: Installs = 0.10101916829515543\n",
      "feature: Type = 0.005276351932548129\n",
      "feature: Price = 0.02655492907226782\n",
      "feature: Content Rating = 0.025566720490326933\n",
      "feature: Genres = 0.10965115598521398\n"
     ]
    },
    {
     "data": {
      "image/png": "[encoded data removed]",
      "text/plain": [
       "<Figure size 432x288 with 1 Axes>"
      ]
     },
     "metadata": {
      "needs_background": "light"
     },
     "output_type": "display_data"
    }
   ],
   "source": [
    "# Important features for random forest regressor\n",
    "for name, importance in zip(X.columns, randomf.feature_importances_):\n",
    "    print('feature:', name, \"=\", importance)\n",
    "    \n",
    "importances = randomf.feature_importances_\n",
    "indices = np.argsort(importances)\n",
    "features = X.columns\n",
    "plt.figure(figsize=(6, 4))\n",
    "plt.title('Feature Importances')\n",
    "plt.barh(range(len(indices)), importances[indices], color='g', align='center')\n",
    "plt.yticks(range(len(indices)), [features[i] for i in indices])\n",
    "plt.xlabel('Relative Importance')\n",
    "plt.show()"
   ]
  },
  {
   "cell_type": "markdown",
   "id": "a3b1b03b",
   "metadata": {},
   "source": [
    "# Bagging Regressor"
   ]
  },
  {
   "cell_type": "code",
   "execution_count": 93,
   "id": "5a4bdf7f",
   "metadata": {},
   "outputs": [],
   "source": [
    "from sklearn.ensemble import BaggingRegressor "
   ]
  },
  {
   "cell_type": "code",
   "execution_count": 94,
   "id": "845a5111",
   "metadata": {},
   "outputs": [
    {
     "name": "stdout",
     "output_type": "stream",
     "text": [
      "Mean squared Error for Training Set: 0.03989299884581395\n",
      "Mean squared Error for Test Set: 0.21711816904674575\n"
     ]
    }
   ],
   "source": [
    "# Fit model\n",
    "br = BaggingRegressor(random_state=300)\n",
    "                            \n",
    "br.fit(X_train, y_train)\n",
    "\n",
    "# Measure mean squared error for training and validation sets\n",
    "print('Mean squared Error for Training Set:', mean_squared_error(y_train, br.predict(X_train)))\n",
    "print('Mean squared Error for Test Set:', mean_squared_error(y_test, br.predict(X_test)))"
   ]
  },
  {
   "cell_type": "markdown",
   "id": "2e98b5df",
   "metadata": {},
   "source": [
    "### Conclusion"
   ]
  },
  {
   "attachments": {
    "image.png": {
     "image/png": "[encoded data removed]"
    }
   },
   "cell_type": "markdown",
   "id": "f3f06f3c",
   "metadata": {},
   "source": [
    "Above all techniques, Random Forest Regressor performed best with testing mean squared error of 0.19 which is also confirmed with the help of Lazy-Library which tells us which model is best among all types.\n",
    "![image.png](attachment:image.png)"
   ]
  },
  {
   "cell_type": "markdown",
   "id": "4f57e1e1",
   "metadata": {},
   "source": [
    "# P1 (Reviews)"
   ]
  },
  {
   "cell_type": "code",
   "execution_count": 95,
   "id": "360c6279",
   "metadata": {},
   "outputs": [],
   "source": [
    "X = train_data.iloc[:, 2:3].values\n",
    "Y = train_data.iloc[:, 1].values"
   ]
  },
  {
   "cell_type": "code",
   "execution_count": 96,
   "id": "55b7e000",
   "metadata": {},
   "outputs": [],
   "source": [
    "from sklearn.model_selection import train_test_split\n",
    "x_train, x_test, y_train, y_test = train_test_split(X, Y, test_size=0.3, random_state=0)"
   ]
  },
  {
   "cell_type": "code",
   "execution_count": 97,
   "id": "c2095903",
   "metadata": {},
   "outputs": [
    {
     "data": {
      "text/plain": [
       "LinearRegression()"
      ]
     },
     "execution_count": 97,
     "metadata": {},
     "output_type": "execute_result"
    }
   ],
   "source": [
    "from sklearn.linear_model import LinearRegression\n",
    "regressor = LinearRegression()\n",
    "regressor.fit(x_train, y_train)"
   ]
  },
  {
   "cell_type": "code",
   "execution_count": 98,
   "id": "44995a4b",
   "metadata": {},
   "outputs": [
    {
     "data": {
      "text/plain": [
       "array([4.28854279, 4.18571249, 4.18571477, ..., 4.19944098, 4.18698091,\n",
       "       4.1879264 ])"
      ]
     },
     "execution_count": 98,
     "metadata": {},
     "output_type": "execute_result"
    }
   ],
   "source": [
    "regressor.predict(x_test)"
   ]
  },
  {
   "cell_type": "code",
   "execution_count": 99,
   "id": "7a356b15",
   "metadata": {},
   "outputs": [
    {
     "name": "stdout",
     "output_type": "stream",
     "text": [
      "Coeff: 0.037\n",
      "Intercept: 4.191\n",
      "R2 score : 0.003\n",
      "MSE: 0.229\n",
      "RMSE: 0.479\n",
      "MAE: 0.560\n"
     ]
    }
   ],
   "source": [
    "from sklearn.metrics import mean_squared_error, r2_score, mean_absolute_error\n",
    "from math import sqrt\n",
    "print(\"Coeff: %0.3f\" % regressor.coef_)\n",
    "print(\"Intercept: %0.3f\" % regressor.intercept_)\n",
    "print(\"R2 score : %.3f\" % r2_score(y_test, regressor.predict(x_test)))\n",
    "print(\"MSE: %.3f\" % mean_squared_error(y_test, regressor.predict(x_test)))\n",
    "print(\"RMSE: %.3f\" % sqrt(mean_squared_error(y_test, regressor.predict(x_test))))\n",
    "print(\"MAE: %.3f\" % sqrt(mean_absolute_error(y_test, regressor.predict(x_test))))"
   ]
  },
  {
   "cell_type": "code",
   "execution_count": 100,
   "id": "57b7ec61",
   "metadata": {},
   "outputs": [
    {
     "name": "stdout",
     "output_type": "stream",
     "text": [
      "14764.413645446773\n",
      "14778.995457486404\n",
      "2477.032016599371\n"
     ]
    }
   ],
   "source": [
    "#AIC,BIC,RSS\n",
    "y = train_data['Rating']\n",
    "\n",
    "#define predictor variables\n",
    "x = train_data[['Reviews']]\n",
    "\n",
    "#add constant to predictor variables\n",
    "x = sm.add_constant(x)\n",
    "\n",
    "#fit regression model\n",
    "model = sm.OLS(y, x).fit()\n",
    "\n",
    "#view AIC of model\n",
    "print(model.aic)\n",
    "print(model.bic)\n",
    "print(model.ssr)"
   ]
  },
  {
   "cell_type": "code",
   "execution_count": 101,
   "id": "daefda17",
   "metadata": {},
   "outputs": [
    {
     "data": {
      "text/plain": [
       "0.004611067021882742"
      ]
     },
     "execution_count": 101,
     "metadata": {},
     "output_type": "execute_result"
    }
   ],
   "source": [
    "model = LinearRegression()\n",
    "X, y = train_data[[\"Reviews\"]], train_data.Rating\n",
    "model.fit(X, y)\n",
    "\n",
    "#display adjusted R-squared\n",
    "1 - (1-model.score(X, y))*(len(y)-1)/(len(y)-X.shape[1]-1)"
   ]
  },
  {
   "cell_type": "code",
   "execution_count": 102,
   "id": "95022b92",
   "metadata": {},
   "outputs": [
    {
     "data": {
      "text/plain": [
       "0.22857174647959502"
      ]
     },
     "execution_count": 102,
     "metadata": {},
     "output_type": "execute_result"
    }
   ],
   "source": [
    "#cp\n",
    "\n",
    "m=len(Y)\n",
    "p=1\n",
    "hat_sigma_squared=(1/(m-p-1))*2477.032016599371\n",
    "Cp=(1/m)*(2477.032016599371+2* hat_sigma_squared)\n",
    "Cp"
   ]
  },
  {
   "cell_type": "markdown",
   "id": "96f0affa",
   "metadata": {},
   "source": [
    "# P2 (Installs)"
   ]
  },
  {
   "cell_type": "code",
   "execution_count": 103,
   "id": "d8ae61e0",
   "metadata": {},
   "outputs": [],
   "source": [
    "X = train_data.iloc[:, 4:5].values\n",
    "Y = train_data.iloc[:, 1].values"
   ]
  },
  {
   "cell_type": "code",
   "execution_count": 104,
   "id": "92f31d5c",
   "metadata": {},
   "outputs": [],
   "source": [
    "from sklearn.model_selection import train_test_split\n",
    "x_train, x_test, y_train, y_test = train_test_split(X, Y, test_size=0.3, random_state=0)"
   ]
  },
  {
   "cell_type": "code",
   "execution_count": 105,
   "id": "ec0ed165",
   "metadata": {},
   "outputs": [
    {
     "data": {
      "text/plain": [
       "LinearRegression()"
      ]
     },
     "execution_count": 105,
     "metadata": {},
     "output_type": "execute_result"
    }
   ],
   "source": [
    "from sklearn.linear_model import LinearRegression\n",
    "regressor = LinearRegression()\n",
    "regressor.fit(x_train, y_train)"
   ]
  },
  {
   "cell_type": "code",
   "execution_count": 106,
   "id": "321a85df",
   "metadata": {},
   "outputs": [
    {
     "data": {
      "text/plain": [
       "array([4.34001661, 4.18644466, 4.18644466, ..., 4.20180158, 4.18798007,\n",
       "       4.1895158 ])"
      ]
     },
     "execution_count": 106,
     "metadata": {},
     "output_type": "execute_result"
    }
   ],
   "source": [
    "regressor.predict(x_test)"
   ]
  },
  {
   "cell_type": "code",
   "execution_count": 107,
   "id": "ed6ed8a2",
   "metadata": {},
   "outputs": [
    {
     "name": "stdout",
     "output_type": "stream",
     "text": [
      "Coeff: 0.026\n",
      "Intercept: 4.191\n",
      "R2 score : 0.002\n",
      "MSE: 0.229\n",
      "RMSE: 0.479\n",
      "MAE: 0.561\n"
     ]
    }
   ],
   "source": [
    "from sklearn.metrics import mean_squared_error, r2_score, mean_absolute_error\n",
    "from math import sqrt\n",
    "print(\"Coeff: %0.3f\" % regressor.coef_)\n",
    "print(\"Intercept: %0.3f\" % regressor.intercept_)\n",
    "print(\"R2 score : %.3f\" % r2_score(y_test, regressor.predict(x_test)))\n",
    "print(\"MSE: %.3f\" % mean_squared_error(y_test, regressor.predict(x_test)))\n",
    "print(\"RMSE: %.3f\" % sqrt(mean_squared_error(y_test, regressor.predict(x_test))))\n",
    "print(\"MAE: %.3f\" % sqrt(mean_absolute_error(y_test, regressor.predict(x_test))))"
   ]
  },
  {
   "cell_type": "code",
   "execution_count": 108,
   "id": "563edfb7",
   "metadata": {},
   "outputs": [
    {
     "name": "stdout",
     "output_type": "stream",
     "text": [
      "14786.263645226072\n",
      "14800.845457265703\n",
      "2482.0304240419223\n"
     ]
    }
   ],
   "source": [
    "#AIC,BIC,RSS\n",
    "y = train_data['Rating']\n",
    "\n",
    "#define predictor variables\n",
    "x = train_data[['Installs']]\n",
    "\n",
    "#add constant to predictor variables\n",
    "x = sm.add_constant(x)\n",
    "\n",
    "#fit regression model\n",
    "model = sm.OLS(y, x).fit()\n",
    "\n",
    "#view AIC of model\n",
    "print(model.aic)\n",
    "print(model.bic)\n",
    "print(model.ssr)"
   ]
  },
  {
   "cell_type": "code",
   "execution_count": 109,
   "id": "87604455",
   "metadata": {},
   "outputs": [
    {
     "data": {
      "text/plain": [
       "0.004611067021882742"
      ]
     },
     "execution_count": 109,
     "metadata": {},
     "output_type": "execute_result"
    }
   ],
   "source": [
    "model = LinearRegression()\n",
    "X, y = train_data[[\"Reviews\"]], train_data.Rating\n",
    "model.fit(X, y)\n",
    "\n",
    "#display adjusted R-squared\n",
    "1 - (1-model.score(X, y))*(len(y)-1)/(len(y)-X.shape[1]-1)"
   ]
  },
  {
   "cell_type": "code",
   "execution_count": 110,
   "id": "b9bd56bd",
   "metadata": {},
   "outputs": [
    {
     "data": {
      "text/plain": [
       "0.22903298182540577"
      ]
     },
     "execution_count": 110,
     "metadata": {},
     "output_type": "execute_result"
    }
   ],
   "source": [
    "#cp\n",
    "\n",
    "m=len(Y)\n",
    "p=1\n",
    "hat_sigma_squared=(1/(m-p-1))*2482.0304240419223\n",
    "Cp=(1/m)*(2482.0304240419223+2* hat_sigma_squared)\n",
    "Cp"
   ]
  },
  {
   "cell_type": "markdown",
   "id": "5360c63b",
   "metadata": {},
   "source": [
    "# P1+P2 (Reviews and Installs)"
   ]
  },
  {
   "cell_type": "code",
   "execution_count": 111,
   "id": "09f81a7b",
   "metadata": {},
   "outputs": [],
   "source": [
    "X = train_data.iloc[:, 2:5:2].values\n",
    "Y = train_data.iloc[:, 1].values"
   ]
  },
  {
   "cell_type": "code",
   "execution_count": 112,
   "id": "54ec8032",
   "metadata": {},
   "outputs": [
    {
     "data": {
      "text/plain": [
       "(10839, 2)"
      ]
     },
     "execution_count": 112,
     "metadata": {},
     "output_type": "execute_result"
    }
   ],
   "source": [
    "X.shape"
   ]
  },
  {
   "cell_type": "code",
   "execution_count": 113,
   "id": "b2f046fa",
   "metadata": {},
   "outputs": [],
   "source": [
    "from sklearn.model_selection import train_test_split\n",
    "x_train, x_test, y_train, y_test = train_test_split(X, Y, test_size=0.3, random_state=0)"
   ]
  },
  {
   "cell_type": "code",
   "execution_count": 114,
   "id": "a2a7048f",
   "metadata": {},
   "outputs": [
    {
     "data": {
      "text/plain": [
       "LinearRegression()"
      ]
     },
     "execution_count": 114,
     "metadata": {},
     "output_type": "execute_result"
    }
   ],
   "source": [
    "from sklearn.linear_model import LinearRegression\n",
    "regressor = LinearRegression()\n",
    "regressor.fit(x_train, y_train)"
   ]
  },
  {
   "cell_type": "code",
   "execution_count": 115,
   "id": "5a4b6c48",
   "metadata": {},
   "outputs": [
    {
     "data": {
      "text/plain": [
       "array([4.31357579, 4.18517002, 4.18517207, ..., 4.20110345, 4.18666955,\n",
       "       4.18787927])"
      ]
     },
     "execution_count": 115,
     "metadata": {},
     "output_type": "execute_result"
    }
   ],
   "source": [
    "regressor.predict(x_test)"
   ]
  },
  {
   "cell_type": "code",
   "execution_count": 116,
   "id": "a2820b25",
   "metadata": {},
   "outputs": [
    {
     "name": "stdout",
     "output_type": "stream",
     "text": [
      "[0.03329882 0.00613863]\n",
      "Intercept: 4.191\n",
      "R2 score : 0.003\n",
      "MSE: 0.229\n",
      "RMSE: 0.479\n",
      "MAE: 0.560\n"
     ]
    }
   ],
   "source": [
    "from sklearn.metrics import mean_squared_error, r2_score, mean_absolute_error\n",
    "from math import sqrt\n",
    "print( regressor.coef_)\n",
    "print(\"Intercept: %0.3f\" % regressor.intercept_)\n",
    "print(\"R2 score : %.3f\" % r2_score(y_test, regressor.predict(x_test)))\n",
    "print(\"MSE: %.3f\" % mean_squared_error(y_test, regressor.predict(x_test)))\n",
    "print(\"RMSE: %.3f\" % sqrt(mean_squared_error(y_test, regressor.predict(x_test))))\n",
    "print(\"MAE: %.3f\" % sqrt(mean_absolute_error(y_test, regressor.predict(x_test))))"
   ]
  },
  {
   "cell_type": "code",
   "execution_count": 117,
   "id": "09728051",
   "metadata": {},
   "outputs": [
    {
     "name": "stdout",
     "output_type": "stream",
     "text": [
      "14765.282325153008\n",
      "14787.155043212455\n",
      "2476.7734899504253\n"
     ]
    }
   ],
   "source": [
    "#AIC,BIC,RSS\n",
    "y = train_data['Rating']\n",
    "\n",
    "#define predictor variables\n",
    "x = train_data[['Installs','Reviews']]\n",
    "\n",
    "#add constant to predictor variables\n",
    "x = sm.add_constant(x)\n",
    "\n",
    "#fit regression model\n",
    "model = sm.OLS(y, x).fit()\n",
    "\n",
    "#view AIC of model\n",
    "print(model.aic)\n",
    "print(model.bic)\n",
    "print(model.ssr)"
   ]
  },
  {
   "cell_type": "code",
   "execution_count": 118,
   "id": "342ef4f1",
   "metadata": {},
   "outputs": [
    {
     "data": {
      "text/plain": [
       "0.004611067021882742"
      ]
     },
     "execution_count": 118,
     "metadata": {},
     "output_type": "execute_result"
    }
   ],
   "source": [
    "model = LinearRegression()\n",
    "X, y = train_data[[\"Reviews\"]], train_data.Rating\n",
    "model.fit(X, y)\n",
    "\n",
    "#display adjusted R-squared\n",
    "1 - (1-model.score(X, y))*(len(y)-1)/(len(y)-X.shape[1]-1)"
   ]
  },
  {
   "cell_type": "code",
   "execution_count": 119,
   "id": "02417f91",
   "metadata": {},
   "outputs": [
    {
     "data": {
      "text/plain": [
       "0.22859006973694934"
      ]
     },
     "execution_count": 119,
     "metadata": {},
     "output_type": "execute_result"
    }
   ],
   "source": [
    "#cp\n",
    "\n",
    "m=len(Y)\n",
    "p=2\n",
    "hat_sigma_squared=(1/(m-p-1))*2476.7734899504253\n",
    "Cp=(1/m)*(2476.7734899504253+2* 2*hat_sigma_squared)\n",
    "Cp"
   ]
  },
  {
   "cell_type": "markdown",
   "id": "ed930c94",
   "metadata": {},
   "source": [
    "# All Predictors"
   ]
  },
  {
   "cell_type": "code",
   "execution_count": 120,
   "id": "8a0d8610",
   "metadata": {},
   "outputs": [],
   "source": [
    "X = train_data.iloc[:, 2:].values\n",
    "Y = train_data.iloc[:, 1].values"
   ]
  },
  {
   "cell_type": "code",
   "execution_count": 121,
   "id": "deaf834b",
   "metadata": {},
   "outputs": [],
   "source": [
    "from sklearn.model_selection import train_test_split\n",
    "x_train, x_test, y_train, y_test = train_test_split(X, Y, test_size=0.3, random_state=0)"
   ]
  },
  {
   "cell_type": "code",
   "execution_count": 122,
   "id": "ed6b86df",
   "metadata": {},
   "outputs": [
    {
     "data": {
      "text/plain": [
       "LinearRegression()"
      ]
     },
     "execution_count": 122,
     "metadata": {},
     "output_type": "execute_result"
    }
   ],
   "source": [
    "from sklearn.linear_model import LinearRegression\n",
    "regressor = LinearRegression()\n",
    "regressor.fit(x_train, y_train)"
   ]
  },
  {
   "cell_type": "code",
   "execution_count": 123,
   "id": "abdc93b9",
   "metadata": {},
   "outputs": [
    {
     "data": {
      "text/plain": [
       "array([4.36149235, 4.18529968, 4.28638138, ..., 4.22225606, 4.16706078,\n",
       "       4.31906926])"
      ]
     },
     "execution_count": 123,
     "metadata": {},
     "output_type": "execute_result"
    }
   ],
   "source": [
    "regressor.predict(x_test)"
   ]
  },
  {
   "cell_type": "code",
   "execution_count": 124,
   "id": "36767acf",
   "metadata": {},
   "outputs": [
    {
     "name": "stdout",
     "output_type": "stream",
     "text": [
      "[ 0.02123165  0.03174628  0.00602473  0.10860319 -0.01709335  0.00127802\n",
      " -0.00047579]\n",
      "Intercept: 4.212\n",
      "R2 score : 0.012\n",
      "MSE: 0.227\n",
      "RMSE: 0.477\n",
      "MAE: 0.555\n"
     ]
    }
   ],
   "source": [
    "from sklearn.metrics import mean_squared_error, r2_score, mean_absolute_error\n",
    "from math import sqrt\n",
    "print( regressor.coef_)\n",
    "print(\"Intercept: %0.3f\" % regressor.intercept_)\n",
    "print(\"R2 score : %.3f\" % r2_score(y_test, regressor.predict(x_test)))\n",
    "print(\"MSE: %.3f\" % mean_squared_error(y_test, regressor.predict(x_test)))\n",
    "print(\"RMSE: %.3f\" % sqrt(mean_squared_error(y_test, regressor.predict(x_test))))\n",
    "print(\"MAE: %.3f\" % sqrt(mean_absolute_error(y_test, regressor.predict(x_test))))"
   ]
  },
  {
   "cell_type": "code",
   "execution_count": 125,
   "id": "923800cd",
   "metadata": {},
   "outputs": [
    {
     "name": "stdout",
     "output_type": "stream",
     "text": [
      "14676.303637211453\n",
      "14734.63088536998\n",
      "2454.2592469880774\n"
     ]
    }
   ],
   "source": [
    "#AIC,BIC,RSS\n",
    "y = train_data['Rating']\n",
    "\n",
    "#define predictor variables\n",
    "x = train_data[['Installs','Reviews','Size','Type','Price','Content Rating','Genres']]\n",
    "\n",
    "#add constant to predictor variables\n",
    "x = sm.add_constant(x)\n",
    "\n",
    "#fit regression model\n",
    "model = sm.OLS(y, x).fit()\n",
    "\n",
    "#view AIC of model\n",
    "print(model.aic)\n",
    "print(model.bic)\n",
    "print(model.ssr)"
   ]
  },
  {
   "cell_type": "code",
   "execution_count": 126,
   "id": "3c73bb21",
   "metadata": {},
   "outputs": [
    {
     "data": {
      "text/plain": [
       "0.004611067021882742"
      ]
     },
     "execution_count": 126,
     "metadata": {},
     "output_type": "execute_result"
    }
   ],
   "source": [
    "model = LinearRegression()\n",
    "X, y = train_data[[\"Reviews\"]], train_data.Rating\n",
    "model.fit(X, y)\n",
    "\n",
    "#display adjusted R-squared\n",
    "1 - (1-model.score(X, y))*(len(y)-1)/(len(y)-X.shape[1]-1)"
   ]
  },
  {
   "cell_type": "code",
   "execution_count": 127,
   "id": "57581d01",
   "metadata": {},
   "outputs": [
    {
     "data": {
      "text/plain": [
       "0.2288010824730285"
      ]
     },
     "execution_count": 127,
     "metadata": {},
     "output_type": "execute_result"
    }
   ],
   "source": [
    "#cp\n",
    "\n",
    "m=len(Y)\n",
    "p=7\n",
    "hat_sigma_squared=(1/(m-p-1))*2476.7734899504253\n",
    "Cp=(1/m)*(2476.7734899504253+2* 7*hat_sigma_squared)\n",
    "Cp"
   ]
  },
  {
   "cell_type": "markdown",
   "id": "6c4bc794",
   "metadata": {},
   "source": [
    "# Pzero"
   ]
  },
  {
   "cell_type": "code",
   "execution_count": 128,
   "id": "8720c406",
   "metadata": {},
   "outputs": [
    {
     "data": {
      "text/plain": [
       "LinearRegression()"
      ]
     },
     "execution_count": 128,
     "metadata": {},
     "output_type": "execute_result"
    }
   ],
   "source": [
    "y = train_data['Rating']\n",
    "y_zero = np.full((len(train_data.Rating),1),train_data.Rating.mean())\n",
    "from sklearn.linear_model import LinearRegression\n",
    "regressor = LinearRegression()\n",
    "regressor.fit(y_zero, y)"
   ]
  },
  {
   "cell_type": "code",
   "execution_count": 129,
   "id": "578a1f05",
   "metadata": {},
   "outputs": [
    {
     "name": "stdout",
     "output_type": "stream",
     "text": [
      "[-0.09335032]\n",
      "Intercept: 4.581\n",
      "R2 score : 0.000\n",
      "MSE: 0.230\n",
      "RMSE: 0.479\n",
      "MAE: 0.563\n"
     ]
    }
   ],
   "source": [
    "from sklearn.metrics import mean_squared_error, r2_score, mean_absolute_error\n",
    "from math import sqrt\n",
    "print( regressor.coef_)\n",
    "print(\"Intercept: %0.3f\" % regressor.intercept_)\n",
    "print(\"R2 score : %.3f\" % r2_score(y, y_zero))\n",
    "print(\"MSE: %.3f\" % mean_squared_error(y, y_zero))\n",
    "print(\"RMSE: %.3f\" % sqrt(mean_squared_error(y, y_zero)))\n",
    "print(\"MAE: %.3f\" % sqrt(mean_absolute_error(y, y_zero)))"
   ]
  },
  {
   "cell_type": "code",
   "execution_count": 130,
   "id": "b6d0a0cd",
   "metadata": {},
   "outputs": [
    {
     "name": "stdout",
     "output_type": "stream",
     "text": [
      "14813.508723833693\n",
      "14820.799629853509\n",
      "2488.73631830937\n"
     ]
    }
   ],
   "source": [
    "#AIC,BIC,RSS\n",
    "y = train_data['Rating']\n",
    "\n",
    "#define predictor variables\n",
    "x = y_zero\n",
    "\n",
    "#add constant to predictor variables\n",
    "x = sm.add_constant(x)\n",
    "\n",
    "#fit regression model\n",
    "model = sm.OLS(y, x).fit()\n",
    "\n",
    "#view AIC of model\n",
    "print(model.aic)\n",
    "print(model.bic)\n",
    "print(model.ssr)"
   ]
  },
  {
   "cell_type": "code",
   "execution_count": 131,
   "id": "1cdf7f52",
   "metadata": {},
   "outputs": [
    {
     "data": {
      "text/plain": [
       "-9.227646027487602e-05"
      ]
     },
     "execution_count": 131,
     "metadata": {},
     "output_type": "execute_result"
    }
   ],
   "source": [
    "model = LinearRegression()\n",
    "X, y = y_zero, train_data.Rating\n",
    "model.fit(X, y)\n",
    "\n",
    "#display adjusted R-squared\n",
    "1 - (1-model.score(X, y))*(len(y)-1)/(len(y)-X.shape[1]-1)"
   ]
  },
  {
   "cell_type": "code",
   "execution_count": 132,
   "id": "194c9d1d",
   "metadata": {},
   "outputs": [
    {
     "data": {
      "text/plain": [
       "0.22960940292548848"
      ]
     },
     "execution_count": 132,
     "metadata": {},
     "output_type": "execute_result"
    }
   ],
   "source": [
    "#cp\n",
    "\n",
    "m=len(y)\n",
    "p=0\n",
    "hat_sigma_squared=(1/(m-p-1))*2488.73631830937\n",
    "Cp=(1/m)*(2488.73631830937+2*0* hat_sigma_squared)\n",
    "Cp"
   ]
  },
  {
   "cell_type": "markdown",
   "id": "15676a87",
   "metadata": {},
   "source": [
    "# Ridge Regression"
   ]
  },
  {
   "cell_type": "markdown",
   "id": "6ee55b48",
   "metadata": {},
   "source": [
    "### For  P1 (Reviews)"
   ]
  },
  {
   "cell_type": "code",
   "execution_count": 133,
   "id": "6027f54b",
   "metadata": {},
   "outputs": [],
   "source": [
    "X = train_data[['Reviews']]\n",
    "Y = train_data['Rating']"
   ]
  },
  {
   "cell_type": "code",
   "execution_count": 134,
   "id": "0502a4e6",
   "metadata": {},
   "outputs": [
    {
     "name": "stdout",
     "output_type": "stream",
     "text": [
      "(7587, 1) (3252, 1) (7587,) (3252,)\n"
     ]
    }
   ],
   "source": [
    "from sklearn.model_selection import train_test_split\n",
    "X_train,X_test,y_train,y_test=train_test_split(X,Y,test_size=0.30,random_state=1)\n",
    "print(X_train.shape, X_test.shape, y_train.shape,y_test.shape)"
   ]
  },
  {
   "cell_type": "code",
   "execution_count": 135,
   "id": "9016334f",
   "metadata": {},
   "outputs": [
    {
     "data": {
      "text/plain": [
       "0.22572668501506277"
      ]
     },
     "execution_count": 135,
     "metadata": {},
     "output_type": "execute_result"
    }
   ],
   "source": [
    "from sklearn.linear_model import Ridge\n",
    "ridgeReg=Ridge(alpha=0.05, normalize=True)\n",
    "ridgeReg.fit(X_train,y_train)\n",
    "pred=ridgeReg.predict(X_test)\n",
    "mse=np.mean((pred-y_test)**2)\n",
    "mse"
   ]
  },
  {
   "cell_type": "code",
   "execution_count": 136,
   "id": "ad911ddb",
   "metadata": {},
   "outputs": [
    {
     "name": "stdout",
     "output_type": "stream",
     "text": [
      "[0.03102091]\n",
      "Intercept: 4.191\n",
      "R2 score : 0.005\n",
      "MSE: 0.226\n",
      "RMSE: 0.475\n",
      "MAE: 0.558\n"
     ]
    }
   ],
   "source": [
    "from sklearn.metrics import mean_squared_error, r2_score, mean_absolute_error\n",
    "from math import sqrt\n",
    "print(ridgeReg.coef_)\n",
    "print(\"Intercept: %0.3f\" % ridgeReg.intercept_)\n",
    "print(\"R2 score : %.3f\" % r2_score(y_test,ridgeReg.predict(X_test)))\n",
    "print(\"MSE: %.3f\" % mean_squared_error(y_test, ridgeReg.predict(X_test)))\n",
    "print(\"RMSE: %.3f\" % sqrt(mean_squared_error(y_test, ridgeReg.predict(X_test))))\n",
    "print(\"MAE: %.3f\" % sqrt(mean_absolute_error(y_test, ridgeReg.predict(X_test))))"
   ]
  },
  {
   "cell_type": "code",
   "execution_count": 137,
   "id": "d8b94b57",
   "metadata": {},
   "outputs": [
    {
     "data": {
      "text/plain": [
       "const      4.190773\n",
       "Reviews    0.032572\n",
       "dtype: float64"
      ]
     },
     "execution_count": 137,
     "metadata": {},
     "output_type": "execute_result"
    }
   ],
   "source": [
    "import statsmodels.api as sm\n",
    "X_train_sm=sm.add_constant(X_train)\n",
    "lr=sm.OLS(y_train,X_train_sm).fit()\n",
    "lr.params"
   ]
  },
  {
   "cell_type": "code",
   "execution_count": 138,
   "id": "d31f0a18",
   "metadata": {},
   "outputs": [
    {
     "name": "stdout",
     "output_type": "stream",
     "text": [
      "1742.9957318861946\n"
     ]
    }
   ],
   "source": [
    "print(lr.ssr)"
   ]
  },
  {
   "cell_type": "code",
   "execution_count": 139,
   "id": "d8d2d197",
   "metadata": {},
   "outputs": [
    {
     "data": {
      "text/plain": [
       "0.16083747641286283"
      ]
     },
     "execution_count": 139,
     "metadata": {},
     "output_type": "execute_result"
    }
   ],
   "source": [
    "#cp\n",
    "\n",
    "m=len(Y)\n",
    "p=1\n",
    "hat_sigma_squared=(1/(m-p-1))*1742.9957318861946\n",
    "Cp=(1/m)*(1742.9957318861946+2*1* hat_sigma_squared)\n",
    "Cp"
   ]
  },
  {
   "cell_type": "code",
   "execution_count": 140,
   "id": "cfbe242a",
   "metadata": {},
   "outputs": [
    {
     "data": {
      "text/html": [
       "<table class=\"simpletable\">\n",
       "<caption>OLS Regression Results</caption>\n",
       "<tr>\n",
       "  <th>Dep. Variable:</th>         <td>Rating</td>      <th>  R-squared:         </th> <td>   0.005</td> \n",
       "</tr>\n",
       "<tr>\n",
       "  <th>Model:</th>                   <td>OLS</td>       <th>  Adj. R-squared:    </th> <td>   0.005</td> \n",
       "</tr>\n",
       "<tr>\n",
       "  <th>Method:</th>             <td>Least Squares</td>  <th>  F-statistic:       </th> <td>   35.97</td> \n",
       "</tr>\n",
       "<tr>\n",
       "  <th>Date:</th>             <td>Sat, 05 Feb 2022</td> <th>  Prob (F-statistic):</th> <td>2.10e-09</td> \n",
       "</tr>\n",
       "<tr>\n",
       "  <th>Time:</th>                 <td>05:42:26</td>     <th>  Log-Likelihood:    </th> <td> -5185.9</td> \n",
       "</tr>\n",
       "<tr>\n",
       "  <th>No. Observations:</th>      <td>  7587</td>      <th>  AIC:               </th> <td>1.038e+04</td>\n",
       "</tr>\n",
       "<tr>\n",
       "  <th>Df Residuals:</th>          <td>  7585</td>      <th>  BIC:               </th> <td>1.039e+04</td>\n",
       "</tr>\n",
       "<tr>\n",
       "  <th>Df Model:</th>              <td>     1</td>      <th>                     </th>     <td> </td>    \n",
       "</tr>\n",
       "<tr>\n",
       "  <th>Covariance Type:</th>      <td>nonrobust</td>    <th>                     </th>     <td> </td>    \n",
       "</tr>\n",
       "</table>\n",
       "<table class=\"simpletable\">\n",
       "<tr>\n",
       "     <td></td>        <th>coef</th>     <th>std err</th>      <th>t</th>      <th>P>|t|</th>  <th>[0.025</th>    <th>0.975]</th>  \n",
       "</tr>\n",
       "<tr>\n",
       "  <th>const</th>   <td>    4.1908</td> <td>    0.006</td> <td>  761.478</td> <td> 0.000</td> <td>    4.180</td> <td>    4.202</td>\n",
       "</tr>\n",
       "<tr>\n",
       "  <th>Reviews</th> <td>    0.0326</td> <td>    0.005</td> <td>    5.997</td> <td> 0.000</td> <td>    0.022</td> <td>    0.043</td>\n",
       "</tr>\n",
       "</table>\n",
       "<table class=\"simpletable\">\n",
       "<tr>\n",
       "  <th>Omnibus:</th>       <td>3172.793</td> <th>  Durbin-Watson:     </th> <td>   1.954</td> \n",
       "</tr>\n",
       "<tr>\n",
       "  <th>Prob(Omnibus):</th>  <td> 0.000</td>  <th>  Jarque-Bera (JB):  </th> <td>18735.978</td>\n",
       "</tr>\n",
       "<tr>\n",
       "  <th>Skew:</th>           <td>-1.920</td>  <th>  Prob(JB):          </th> <td>    0.00</td> \n",
       "</tr>\n",
       "<tr>\n",
       "  <th>Kurtosis:</th>       <td> 9.673</td>  <th>  Cond. No.          </th> <td>    1.01</td> \n",
       "</tr>\n",
       "</table><br/><br/>Notes:<br/>[1] Standard Errors assume that the covariance matrix of the errors is correctly specified."
      ],
      "text/plain": [
       "<class 'statsmodels.iolib.summary.Summary'>\n",
       "\"\"\"\n",
       "                            OLS Regression Results                            \n",
       "==============================================================================\n",
       "Dep. Variable:                 Rating   R-squared:                       0.005\n",
       "Model:                            OLS   Adj. R-squared:                  0.005\n",
       "Method:                 Least Squares   F-statistic:                     35.97\n",
       "Date:                Sat, 05 Feb 2022   Prob (F-statistic):           2.10e-09\n",
       "Time:                        05:42:26   Log-Likelihood:                -5185.9\n",
       "No. Observations:                7587   AIC:                         1.038e+04\n",
       "Df Residuals:                    7585   BIC:                         1.039e+04\n",
       "Df Model:                           1                                         \n",
       "Covariance Type:            nonrobust                                         \n",
       "==============================================================================\n",
       "                 coef    std err          t      P>|t|      [0.025      0.975]\n",
       "------------------------------------------------------------------------------\n",
       "const          4.1908      0.006    761.478      0.000       4.180       4.202\n",
       "Reviews        0.0326      0.005      5.997      0.000       0.022       0.043\n",
       "==============================================================================\n",
       "Omnibus:                     3172.793   Durbin-Watson:                   1.954\n",
       "Prob(Omnibus):                  0.000   Jarque-Bera (JB):            18735.978\n",
       "Skew:                          -1.920   Prob(JB):                         0.00\n",
       "Kurtosis:                       9.673   Cond. No.                         1.01\n",
       "==============================================================================\n",
       "\n",
       "Notes:\n",
       "[1] Standard Errors assume that the covariance matrix of the errors is correctly specified.\n",
       "\"\"\""
      ]
     },
     "execution_count": 140,
     "metadata": {},
     "output_type": "execute_result"
    }
   ],
   "source": [
    "lr.summary()"
   ]
  },
  {
   "cell_type": "markdown",
   "id": "82ae37ae",
   "metadata": {},
   "source": [
    "### For  P2 (Installs)"
   ]
  },
  {
   "cell_type": "code",
   "execution_count": 141,
   "id": "992b2c01",
   "metadata": {},
   "outputs": [],
   "source": [
    "X = train_data[['Installs']]\n",
    "Y = train_data['Rating']"
   ]
  },
  {
   "cell_type": "code",
   "execution_count": 142,
   "id": "cf06d9a2",
   "metadata": {},
   "outputs": [
    {
     "name": "stdout",
     "output_type": "stream",
     "text": [
      "(7587, 1) (3252, 1) (7587,) (3252,)\n"
     ]
    }
   ],
   "source": [
    "from sklearn.model_selection import train_test_split\n",
    "X_train,X_test,y_train,y_test=train_test_split(X,Y,test_size=0.30,random_state=1)\n",
    "print(X_train.shape, X_test.shape, y_train.shape,y_test.shape)"
   ]
  },
  {
   "cell_type": "code",
   "execution_count": 143,
   "id": "8ee7fa17",
   "metadata": {},
   "outputs": [
    {
     "data": {
      "text/plain": [
       "0.2261539292724255"
      ]
     },
     "execution_count": 143,
     "metadata": {},
     "output_type": "execute_result"
    }
   ],
   "source": [
    "from sklearn.linear_model import Ridge\n",
    "ridgeReg=Ridge(alpha=0.05, normalize=True)\n",
    "ridgeReg.fit(X_train,y_train)\n",
    "pred=ridgeReg.predict(X_test)\n",
    "mse=np.mean((pred-y_test)**2)\n",
    "mse"
   ]
  },
  {
   "cell_type": "code",
   "execution_count": 144,
   "id": "d3e30c89",
   "metadata": {},
   "outputs": [
    {
     "name": "stdout",
     "output_type": "stream",
     "text": [
      "[0.0227551]\n",
      "Intercept: 4.191\n",
      "R2 score : 0.003\n",
      "MSE: 0.226\n",
      "RMSE: 0.476\n",
      "MAE: 0.559\n"
     ]
    }
   ],
   "source": [
    "from sklearn.metrics import mean_squared_error, r2_score, mean_absolute_error\n",
    "from math import sqrt\n",
    "print(ridgeReg.coef_)\n",
    "print(\"Intercept: %0.3f\" % ridgeReg.intercept_)\n",
    "print(\"R2 score : %.3f\" % r2_score(y_test,ridgeReg.predict(X_test)))\n",
    "print(\"MSE: %.3f\" % mean_squared_error(y_test, ridgeReg.predict(X_test)))\n",
    "print(\"RMSE: %.3f\" % sqrt(mean_squared_error(y_test, ridgeReg.predict(X_test))))\n",
    "print(\"MAE: %.3f\" % sqrt(mean_absolute_error(y_test, ridgeReg.predict(X_test))))"
   ]
  },
  {
   "cell_type": "code",
   "execution_count": 145,
   "id": "c7526be3",
   "metadata": {},
   "outputs": [
    {
     "data": {
      "text/plain": [
       "const       4.190641\n",
       "Installs    0.023893\n",
       "dtype: float64"
      ]
     },
     "execution_count": 145,
     "metadata": {},
     "output_type": "execute_result"
    }
   ],
   "source": [
    "import statsmodels.api as sm\n",
    "X_train_sm=sm.add_constant(X_train)\n",
    "lr=sm.OLS(y_train,X_train_sm).fit()\n",
    "lr.params"
   ]
  },
  {
   "cell_type": "code",
   "execution_count": 146,
   "id": "a1c34788",
   "metadata": {},
   "outputs": [
    {
     "name": "stdout",
     "output_type": "stream",
     "text": [
      "1746.6225916651158\n"
     ]
    }
   ],
   "source": [
    "print(lr.ssr)"
   ]
  },
  {
   "cell_type": "code",
   "execution_count": 147,
   "id": "66aac4ae",
   "metadata": {},
   "outputs": [
    {
     "data": {
      "text/plain": [
       "0.1611721501951754"
      ]
     },
     "execution_count": 147,
     "metadata": {},
     "output_type": "execute_result"
    }
   ],
   "source": [
    "#cp\n",
    "\n",
    "m=len(Y)\n",
    "p=1\n",
    "hat_sigma_squared=(1/(m-p-1))*1746.6225916651158\n",
    "Cp=(1/m)*(1746.6225916651158+2*1* hat_sigma_squared)\n",
    "Cp"
   ]
  },
  {
   "cell_type": "code",
   "execution_count": 148,
   "id": "d440c59e",
   "metadata": {},
   "outputs": [
    {
     "data": {
      "text/html": [
       "<table class=\"simpletable\">\n",
       "<caption>OLS Regression Results</caption>\n",
       "<tr>\n",
       "  <th>Dep. Variable:</th>         <td>Rating</td>      <th>  R-squared:         </th> <td>   0.003</td> \n",
       "</tr>\n",
       "<tr>\n",
       "  <th>Model:</th>                   <td>OLS</td>       <th>  Adj. R-squared:    </th> <td>   0.003</td> \n",
       "</tr>\n",
       "<tr>\n",
       "  <th>Method:</th>             <td>Least Squares</td>  <th>  F-statistic:       </th> <td>   20.15</td> \n",
       "</tr>\n",
       "<tr>\n",
       "  <th>Date:</th>             <td>Sat, 05 Feb 2022</td> <th>  Prob (F-statistic):</th> <td>7.28e-06</td> \n",
       "</tr>\n",
       "<tr>\n",
       "  <th>Time:</th>                 <td>05:42:36</td>     <th>  Log-Likelihood:    </th> <td> -5193.8</td> \n",
       "</tr>\n",
       "<tr>\n",
       "  <th>No. Observations:</th>      <td>  7587</td>      <th>  AIC:               </th> <td>1.039e+04</td>\n",
       "</tr>\n",
       "<tr>\n",
       "  <th>Df Residuals:</th>          <td>  7585</td>      <th>  BIC:               </th> <td>1.041e+04</td>\n",
       "</tr>\n",
       "<tr>\n",
       "  <th>Df Model:</th>              <td>     1</td>      <th>                     </th>     <td> </td>    \n",
       "</tr>\n",
       "<tr>\n",
       "  <th>Covariance Type:</th>      <td>nonrobust</td>    <th>                     </th>     <td> </td>    \n",
       "</tr>\n",
       "</table>\n",
       "<table class=\"simpletable\">\n",
       "<tr>\n",
       "      <td></td>        <th>coef</th>     <th>std err</th>      <th>t</th>      <th>P>|t|</th>  <th>[0.025</th>    <th>0.975]</th>  \n",
       "</tr>\n",
       "<tr>\n",
       "  <th>const</th>    <td>    4.1906</td> <td>    0.006</td> <td>  760.635</td> <td> 0.000</td> <td>    4.180</td> <td>    4.201</td>\n",
       "</tr>\n",
       "<tr>\n",
       "  <th>Installs</th> <td>    0.0239</td> <td>    0.005</td> <td>    4.488</td> <td> 0.000</td> <td>    0.013</td> <td>    0.034</td>\n",
       "</tr>\n",
       "</table>\n",
       "<table class=\"simpletable\">\n",
       "<tr>\n",
       "  <th>Omnibus:</th>       <td>3160.891</td> <th>  Durbin-Watson:     </th> <td>   1.954</td> \n",
       "</tr>\n",
       "<tr>\n",
       "  <th>Prob(Omnibus):</th>  <td> 0.000</td>  <th>  Jarque-Bera (JB):  </th> <td>18566.871</td>\n",
       "</tr>\n",
       "<tr>\n",
       "  <th>Skew:</th>           <td>-1.913</td>  <th>  Prob(JB):          </th> <td>    0.00</td> \n",
       "</tr>\n",
       "<tr>\n",
       "  <th>Kurtosis:</th>       <td> 9.640</td>  <th>  Cond. No.          </th> <td>    1.04</td> \n",
       "</tr>\n",
       "</table><br/><br/>Notes:<br/>[1] Standard Errors assume that the covariance matrix of the errors is correctly specified."
      ],
      "text/plain": [
       "<class 'statsmodels.iolib.summary.Summary'>\n",
       "\"\"\"\n",
       "                            OLS Regression Results                            \n",
       "==============================================================================\n",
       "Dep. Variable:                 Rating   R-squared:                       0.003\n",
       "Model:                            OLS   Adj. R-squared:                  0.003\n",
       "Method:                 Least Squares   F-statistic:                     20.15\n",
       "Date:                Sat, 05 Feb 2022   Prob (F-statistic):           7.28e-06\n",
       "Time:                        05:42:36   Log-Likelihood:                -5193.8\n",
       "No. Observations:                7587   AIC:                         1.039e+04\n",
       "Df Residuals:                    7585   BIC:                         1.041e+04\n",
       "Df Model:                           1                                         \n",
       "Covariance Type:            nonrobust                                         \n",
       "==============================================================================\n",
       "                 coef    std err          t      P>|t|      [0.025      0.975]\n",
       "------------------------------------------------------------------------------\n",
       "const          4.1906      0.006    760.635      0.000       4.180       4.201\n",
       "Installs       0.0239      0.005      4.488      0.000       0.013       0.034\n",
       "==============================================================================\n",
       "Omnibus:                     3160.891   Durbin-Watson:                   1.954\n",
       "Prob(Omnibus):                  0.000   Jarque-Bera (JB):            18566.871\n",
       "Skew:                          -1.913   Prob(JB):                         0.00\n",
       "Kurtosis:                       9.640   Cond. No.                         1.04\n",
       "==============================================================================\n",
       "\n",
       "Notes:\n",
       "[1] Standard Errors assume that the covariance matrix of the errors is correctly specified.\n",
       "\"\"\""
      ]
     },
     "execution_count": 148,
     "metadata": {},
     "output_type": "execute_result"
    }
   ],
   "source": [
    "lr.summary()"
   ]
  },
  {
   "cell_type": "markdown",
   "id": "a2d27729",
   "metadata": {},
   "source": [
    "### For P3 (Size)"
   ]
  },
  {
   "cell_type": "code",
   "execution_count": 149,
   "id": "9c71433f",
   "metadata": {},
   "outputs": [],
   "source": [
    "X = train_data[['Size']]\n",
    "Y = train_data['Rating']"
   ]
  },
  {
   "cell_type": "code",
   "execution_count": 150,
   "id": "7099cb52",
   "metadata": {},
   "outputs": [
    {
     "name": "stdout",
     "output_type": "stream",
     "text": [
      "(7587, 1) (3252, 1) (7587,) (3252,)\n"
     ]
    }
   ],
   "source": [
    "from sklearn.model_selection import train_test_split\n",
    "X_train,X_test,y_train,y_test=train_test_split(X,Y,test_size=0.30,random_state=1)\n",
    "print(X_train.shape, X_test.shape, y_train.shape,y_test.shape)"
   ]
  },
  {
   "cell_type": "code",
   "execution_count": 151,
   "id": "65b96f32",
   "metadata": {},
   "outputs": [
    {
     "data": {
      "text/plain": [
       "0.22482748112083453"
      ]
     },
     "execution_count": 151,
     "metadata": {},
     "output_type": "execute_result"
    }
   ],
   "source": [
    "from sklearn.linear_model import Ridge\n",
    "ridgeReg=Ridge(alpha=0.05, normalize=True)\n",
    "ridgeReg.fit(X_train,y_train)\n",
    "pred=ridgeReg.predict(X_test)\n",
    "mse=np.mean((pred-y_test)**2)\n",
    "mse"
   ]
  },
  {
   "cell_type": "code",
   "execution_count": 152,
   "id": "bff6e1a3",
   "metadata": {},
   "outputs": [
    {
     "name": "stdout",
     "output_type": "stream",
     "text": [
      "[0.03738379]\n",
      "Intercept: 4.191\n",
      "R2 score : 0.009\n",
      "MSE: 0.225\n",
      "RMSE: 0.474\n",
      "MAE: 0.557\n"
     ]
    }
   ],
   "source": [
    "from sklearn.metrics import mean_squared_error, r2_score, mean_absolute_error\n",
    "from math import sqrt\n",
    "print(ridgeReg.coef_)\n",
    "print(\"Intercept: %0.3f\" % ridgeReg.intercept_)\n",
    "print(\"R2 score : %.3f\" % r2_score(y_test,ridgeReg.predict(X_test)))\n",
    "print(\"MSE: %.3f\" % mean_squared_error(y_test, ridgeReg.predict(X_test)))\n",
    "print(\"RMSE: %.3f\" % sqrt(mean_squared_error(y_test, ridgeReg.predict(X_test))))\n",
    "print(\"MAE: %.3f\" % sqrt(mean_absolute_error(y_test, ridgeReg.predict(X_test))))"
   ]
  },
  {
   "cell_type": "code",
   "execution_count": 153,
   "id": "22ca2951",
   "metadata": {},
   "outputs": [
    {
     "data": {
      "text/plain": [
       "const    4.190776\n",
       "Size     0.039253\n",
       "dtype: float64"
      ]
     },
     "execution_count": 153,
     "metadata": {},
     "output_type": "execute_result"
    }
   ],
   "source": [
    "import statsmodels.api as sm\n",
    "X_train_sm=sm.add_constant(X_train)\n",
    "lr=sm.OLS(y_train,X_train_sm).fit()\n",
    "lr.params"
   ]
  },
  {
   "cell_type": "code",
   "execution_count": 154,
   "id": "dff25027",
   "metadata": {},
   "outputs": [
    {
     "name": "stdout",
     "output_type": "stream",
     "text": [
      "1739.5159280750015\n"
     ]
    }
   ],
   "source": [
    "print(lr.ssr)"
   ]
  },
  {
   "cell_type": "code",
   "execution_count": 155,
   "id": "3b79d86f",
   "metadata": {},
   "outputs": [
    {
     "data": {
      "text/plain": [
       "0.16051637243471453"
      ]
     },
     "execution_count": 155,
     "metadata": {},
     "output_type": "execute_result"
    }
   ],
   "source": [
    "#cp\n",
    "\n",
    "m=len(Y)\n",
    "p=1\n",
    "hat_sigma_squared=(1/(m-p-1))*1739.5159280750015\n",
    "Cp=(1/m)*(1739.5159280750015+2*1* hat_sigma_squared)\n",
    "Cp"
   ]
  },
  {
   "cell_type": "code",
   "execution_count": 156,
   "id": "8a16b87f",
   "metadata": {},
   "outputs": [
    {
     "data": {
      "text/html": [
       "<table class=\"simpletable\">\n",
       "<caption>OLS Regression Results</caption>\n",
       "<tr>\n",
       "  <th>Dep. Variable:</th>         <td>Rating</td>      <th>  R-squared:         </th> <td>   0.007</td> \n",
       "</tr>\n",
       "<tr>\n",
       "  <th>Model:</th>                   <td>OLS</td>       <th>  Adj. R-squared:    </th> <td>   0.007</td> \n",
       "</tr>\n",
       "<tr>\n",
       "  <th>Method:</th>             <td>Least Squares</td>  <th>  F-statistic:       </th> <td>   51.22</td> \n",
       "</tr>\n",
       "<tr>\n",
       "  <th>Date:</th>             <td>Sat, 05 Feb 2022</td> <th>  Prob (F-statistic):</th> <td>9.05e-13</td> \n",
       "</tr>\n",
       "<tr>\n",
       "  <th>Time:</th>                 <td>05:42:45</td>     <th>  Log-Likelihood:    </th> <td> -5178.3</td> \n",
       "</tr>\n",
       "<tr>\n",
       "  <th>No. Observations:</th>      <td>  7587</td>      <th>  AIC:               </th> <td>1.036e+04</td>\n",
       "</tr>\n",
       "<tr>\n",
       "  <th>Df Residuals:</th>          <td>  7585</td>      <th>  BIC:               </th> <td>1.037e+04</td>\n",
       "</tr>\n",
       "<tr>\n",
       "  <th>Df Model:</th>              <td>     1</td>      <th>                     </th>     <td> </td>    \n",
       "</tr>\n",
       "<tr>\n",
       "  <th>Covariance Type:</th>      <td>nonrobust</td>    <th>                     </th>     <td> </td>    \n",
       "</tr>\n",
       "</table>\n",
       "<table class=\"simpletable\">\n",
       "<tr>\n",
       "    <td></td>       <th>coef</th>     <th>std err</th>      <th>t</th>      <th>P>|t|</th>  <th>[0.025</th>    <th>0.975]</th>  \n",
       "</tr>\n",
       "<tr>\n",
       "  <th>const</th> <td>    4.1908</td> <td>    0.005</td> <td>  762.241</td> <td> 0.000</td> <td>    4.180</td> <td>    4.202</td>\n",
       "</tr>\n",
       "<tr>\n",
       "  <th>Size</th>  <td>    0.0393</td> <td>    0.005</td> <td>    7.156</td> <td> 0.000</td> <td>    0.029</td> <td>    0.050</td>\n",
       "</tr>\n",
       "</table>\n",
       "<table class=\"simpletable\">\n",
       "<tr>\n",
       "  <th>Omnibus:</th>       <td>3138.109</td> <th>  Durbin-Watson:     </th> <td>   1.958</td> \n",
       "</tr>\n",
       "<tr>\n",
       "  <th>Prob(Omnibus):</th>  <td> 0.000</td>  <th>  Jarque-Bera (JB):  </th> <td>18420.422</td>\n",
       "</tr>\n",
       "<tr>\n",
       "  <th>Skew:</th>           <td>-1.897</td>  <th>  Prob(JB):          </th> <td>    0.00</td> \n",
       "</tr>\n",
       "<tr>\n",
       "  <th>Kurtosis:</th>       <td> 9.624</td>  <th>  Cond. No.          </th> <td>    1.00</td> \n",
       "</tr>\n",
       "</table><br/><br/>Notes:<br/>[1] Standard Errors assume that the covariance matrix of the errors is correctly specified."
      ],
      "text/plain": [
       "<class 'statsmodels.iolib.summary.Summary'>\n",
       "\"\"\"\n",
       "                            OLS Regression Results                            \n",
       "==============================================================================\n",
       "Dep. Variable:                 Rating   R-squared:                       0.007\n",
       "Model:                            OLS   Adj. R-squared:                  0.007\n",
       "Method:                 Least Squares   F-statistic:                     51.22\n",
       "Date:                Sat, 05 Feb 2022   Prob (F-statistic):           9.05e-13\n",
       "Time:                        05:42:45   Log-Likelihood:                -5178.3\n",
       "No. Observations:                7587   AIC:                         1.036e+04\n",
       "Df Residuals:                    7585   BIC:                         1.037e+04\n",
       "Df Model:                           1                                         \n",
       "Covariance Type:            nonrobust                                         \n",
       "==============================================================================\n",
       "                 coef    std err          t      P>|t|      [0.025      0.975]\n",
       "------------------------------------------------------------------------------\n",
       "const          4.1908      0.005    762.241      0.000       4.180       4.202\n",
       "Size           0.0393      0.005      7.156      0.000       0.029       0.050\n",
       "==============================================================================\n",
       "Omnibus:                     3138.109   Durbin-Watson:                   1.958\n",
       "Prob(Omnibus):                  0.000   Jarque-Bera (JB):            18420.422\n",
       "Skew:                          -1.897   Prob(JB):                         0.00\n",
       "Kurtosis:                       9.624   Cond. No.                         1.00\n",
       "==============================================================================\n",
       "\n",
       "Notes:\n",
       "[1] Standard Errors assume that the covariance matrix of the errors is correctly specified.\n",
       "\"\"\""
      ]
     },
     "execution_count": 156,
     "metadata": {},
     "output_type": "execute_result"
    }
   ],
   "source": [
    "lr.summary()"
   ]
  },
  {
   "cell_type": "markdown",
   "id": "ea82b72f",
   "metadata": {},
   "source": [
    "# Lasso Regression"
   ]
  },
  {
   "cell_type": "markdown",
   "id": "a887060b",
   "metadata": {},
   "source": [
    "### For P1 (Reviews)"
   ]
  },
  {
   "cell_type": "code",
   "execution_count": 157,
   "id": "70328a43",
   "metadata": {},
   "outputs": [],
   "source": [
    "X = train_data[['Reviews']]\n",
    "Y = train_data['Rating']"
   ]
  },
  {
   "cell_type": "code",
   "execution_count": 158,
   "id": "59e9c98b",
   "metadata": {},
   "outputs": [
    {
     "name": "stdout",
     "output_type": "stream",
     "text": [
      "(7587, 1) (3252, 1) (7587,) (3252,)\n"
     ]
    }
   ],
   "source": [
    "from sklearn.model_selection import train_test_split\n",
    "X_train,X_test,y_train,y_test=train_test_split(X,Y,test_size=0.30,random_state=1)\n",
    "print(X_train.shape, X_test.shape, y_train.shape,y_test.shape)"
   ]
  },
  {
   "cell_type": "code",
   "execution_count": 159,
   "id": "e594e592",
   "metadata": {},
   "outputs": [
    {
     "data": {
      "text/plain": [
       "0.22677906326072836"
      ]
     },
     "execution_count": 159,
     "metadata": {},
     "output_type": "execute_result"
    }
   ],
   "source": [
    "from sklearn.linear_model import Lasso\n",
    "lassoReg=Lasso(alpha=0.05, normalize=True)\n",
    "lassoReg.fit(X_train,y_train)\n",
    "laspred=lassoReg.predict(X_test)\n",
    "las_mse=np.mean((laspred-y_test)**2)\n",
    "las_mse"
   ]
  },
  {
   "cell_type": "code",
   "execution_count": 160,
   "id": "c23e4c47",
   "metadata": {},
   "outputs": [
    {
     "name": "stdout",
     "output_type": "stream",
     "text": [
      "Coeffiecient: 0.000\n",
      "Intercept: 4.191\n",
      "R2 score : -0.000\n",
      "MSE: 0.227\n",
      "RMSE: 0.476\n",
      "MAE: 0.560\n"
     ]
    }
   ],
   "source": [
    "from sklearn.metrics import mean_squared_error, r2_score, mean_absolute_error\n",
    "from math import sqrt\n",
    "print(\"Coeffiecient: %0.3f\" % lassoReg.coef_)\n",
    "print(\"Intercept: %0.3f\" % lassoReg.intercept_)\n",
    "print(\"R2 score : %.3f\" % r2_score(y_test,lassoReg.predict(X_test)))\n",
    "print(\"MSE: %.3f\" % mean_squared_error(y_test, lassoReg.predict(X_test)))\n",
    "print(\"RMSE: %.3f\" % sqrt(mean_squared_error(y_test, lassoReg.predict(X_test))))\n",
    "print(\"MAE: %.3f\" % sqrt(mean_absolute_error(y_test, lassoReg.predict(X_test))))"
   ]
  },
  {
   "cell_type": "code",
   "execution_count": 161,
   "id": "d175c7b6",
   "metadata": {},
   "outputs": [
    {
     "data": {
      "text/plain": [
       "const      4.190773\n",
       "Reviews    0.032572\n",
       "dtype: float64"
      ]
     },
     "execution_count": 161,
     "metadata": {},
     "output_type": "execute_result"
    }
   ],
   "source": [
    "import statsmodels.api as sm\n",
    "X_train_sm=sm.add_constant(X_train)\n",
    "lr=sm.OLS(y_train,X_train_sm).fit()\n",
    "lr.params"
   ]
  },
  {
   "cell_type": "code",
   "execution_count": 162,
   "id": "5d5385cd",
   "metadata": {},
   "outputs": [
    {
     "name": "stdout",
     "output_type": "stream",
     "text": [
      "1742.9957318861946\n"
     ]
    }
   ],
   "source": [
    "print(lr.ssr)"
   ]
  },
  {
   "cell_type": "code",
   "execution_count": 163,
   "id": "f2e9360a",
   "metadata": {},
   "outputs": [
    {
     "data": {
      "text/plain": [
       "0.16083747641286283"
      ]
     },
     "execution_count": 163,
     "metadata": {},
     "output_type": "execute_result"
    }
   ],
   "source": [
    "#cp\n",
    "\n",
    "m=len(Y)\n",
    "p=1\n",
    "hat_sigma_squared=(1/(m-p-1))*1742.9957318861946\n",
    "Cp=(1/m)*(1742.9957318861946+2*1* hat_sigma_squared)\n",
    "Cp"
   ]
  },
  {
   "cell_type": "code",
   "execution_count": 164,
   "id": "d75bc622",
   "metadata": {},
   "outputs": [
    {
     "data": {
      "text/html": [
       "<table class=\"simpletable\">\n",
       "<caption>OLS Regression Results</caption>\n",
       "<tr>\n",
       "  <th>Dep. Variable:</th>         <td>Rating</td>      <th>  R-squared:         </th> <td>   0.005</td> \n",
       "</tr>\n",
       "<tr>\n",
       "  <th>Model:</th>                   <td>OLS</td>       <th>  Adj. R-squared:    </th> <td>   0.005</td> \n",
       "</tr>\n",
       "<tr>\n",
       "  <th>Method:</th>             <td>Least Squares</td>  <th>  F-statistic:       </th> <td>   35.97</td> \n",
       "</tr>\n",
       "<tr>\n",
       "  <th>Date:</th>             <td>Sat, 05 Feb 2022</td> <th>  Prob (F-statistic):</th> <td>2.10e-09</td> \n",
       "</tr>\n",
       "<tr>\n",
       "  <th>Time:</th>                 <td>05:42:57</td>     <th>  Log-Likelihood:    </th> <td> -5185.9</td> \n",
       "</tr>\n",
       "<tr>\n",
       "  <th>No. Observations:</th>      <td>  7587</td>      <th>  AIC:               </th> <td>1.038e+04</td>\n",
       "</tr>\n",
       "<tr>\n",
       "  <th>Df Residuals:</th>          <td>  7585</td>      <th>  BIC:               </th> <td>1.039e+04</td>\n",
       "</tr>\n",
       "<tr>\n",
       "  <th>Df Model:</th>              <td>     1</td>      <th>                     </th>     <td> </td>    \n",
       "</tr>\n",
       "<tr>\n",
       "  <th>Covariance Type:</th>      <td>nonrobust</td>    <th>                     </th>     <td> </td>    \n",
       "</tr>\n",
       "</table>\n",
       "<table class=\"simpletable\">\n",
       "<tr>\n",
       "     <td></td>        <th>coef</th>     <th>std err</th>      <th>t</th>      <th>P>|t|</th>  <th>[0.025</th>    <th>0.975]</th>  \n",
       "</tr>\n",
       "<tr>\n",
       "  <th>const</th>   <td>    4.1908</td> <td>    0.006</td> <td>  761.478</td> <td> 0.000</td> <td>    4.180</td> <td>    4.202</td>\n",
       "</tr>\n",
       "<tr>\n",
       "  <th>Reviews</th> <td>    0.0326</td> <td>    0.005</td> <td>    5.997</td> <td> 0.000</td> <td>    0.022</td> <td>    0.043</td>\n",
       "</tr>\n",
       "</table>\n",
       "<table class=\"simpletable\">\n",
       "<tr>\n",
       "  <th>Omnibus:</th>       <td>3172.793</td> <th>  Durbin-Watson:     </th> <td>   1.954</td> \n",
       "</tr>\n",
       "<tr>\n",
       "  <th>Prob(Omnibus):</th>  <td> 0.000</td>  <th>  Jarque-Bera (JB):  </th> <td>18735.978</td>\n",
       "</tr>\n",
       "<tr>\n",
       "  <th>Skew:</th>           <td>-1.920</td>  <th>  Prob(JB):          </th> <td>    0.00</td> \n",
       "</tr>\n",
       "<tr>\n",
       "  <th>Kurtosis:</th>       <td> 9.673</td>  <th>  Cond. No.          </th> <td>    1.01</td> \n",
       "</tr>\n",
       "</table><br/><br/>Notes:<br/>[1] Standard Errors assume that the covariance matrix of the errors is correctly specified."
      ],
      "text/plain": [
       "<class 'statsmodels.iolib.summary.Summary'>\n",
       "\"\"\"\n",
       "                            OLS Regression Results                            \n",
       "==============================================================================\n",
       "Dep. Variable:                 Rating   R-squared:                       0.005\n",
       "Model:                            OLS   Adj. R-squared:                  0.005\n",
       "Method:                 Least Squares   F-statistic:                     35.97\n",
       "Date:                Sat, 05 Feb 2022   Prob (F-statistic):           2.10e-09\n",
       "Time:                        05:42:57   Log-Likelihood:                -5185.9\n",
       "No. Observations:                7587   AIC:                         1.038e+04\n",
       "Df Residuals:                    7585   BIC:                         1.039e+04\n",
       "Df Model:                           1                                         \n",
       "Covariance Type:            nonrobust                                         \n",
       "==============================================================================\n",
       "                 coef    std err          t      P>|t|      [0.025      0.975]\n",
       "------------------------------------------------------------------------------\n",
       "const          4.1908      0.006    761.478      0.000       4.180       4.202\n",
       "Reviews        0.0326      0.005      5.997      0.000       0.022       0.043\n",
       "==============================================================================\n",
       "Omnibus:                     3172.793   Durbin-Watson:                   1.954\n",
       "Prob(Omnibus):                  0.000   Jarque-Bera (JB):            18735.978\n",
       "Skew:                          -1.920   Prob(JB):                         0.00\n",
       "Kurtosis:                       9.673   Cond. No.                         1.01\n",
       "==============================================================================\n",
       "\n",
       "Notes:\n",
       "[1] Standard Errors assume that the covariance matrix of the errors is correctly specified.\n",
       "\"\"\""
      ]
     },
     "execution_count": 164,
     "metadata": {},
     "output_type": "execute_result"
    }
   ],
   "source": [
    "lr.summary()"
   ]
  },
  {
   "cell_type": "markdown",
   "id": "9c57eada",
   "metadata": {},
   "source": [
    "### For P2 (Installs)"
   ]
  },
  {
   "cell_type": "code",
   "execution_count": 165,
   "id": "9a878c79",
   "metadata": {},
   "outputs": [],
   "source": [
    "X = train_data[['Installs']]\n",
    "Y = train_data['Rating']"
   ]
  },
  {
   "cell_type": "code",
   "execution_count": 166,
   "id": "52da6138",
   "metadata": {},
   "outputs": [
    {
     "name": "stdout",
     "output_type": "stream",
     "text": [
      "(7587, 1) (3252, 1) (7587,) (3252,)\n"
     ]
    }
   ],
   "source": [
    "from sklearn.model_selection import train_test_split\n",
    "X_train,X_test,y_train,y_test=train_test_split(X,Y,test_size=0.30,random_state=1)\n",
    "print(X_train.shape, X_test.shape, y_train.shape,y_test.shape)"
   ]
  },
  {
   "cell_type": "code",
   "execution_count": 167,
   "id": "4d4c2446",
   "metadata": {},
   "outputs": [
    {
     "data": {
      "text/plain": [
       "0.22677906326072836"
      ]
     },
     "execution_count": 167,
     "metadata": {},
     "output_type": "execute_result"
    }
   ],
   "source": [
    "from sklearn.linear_model import Lasso\n",
    "lassoReg=Lasso(alpha=0.05, normalize=True)\n",
    "lassoReg.fit(X_train,y_train)\n",
    "laspred=lassoReg.predict(X_test)\n",
    "las_mse=np.mean((laspred-y_test)**2)\n",
    "las_mse"
   ]
  },
  {
   "cell_type": "code",
   "execution_count": 168,
   "id": "24b2af53",
   "metadata": {},
   "outputs": [
    {
     "name": "stdout",
     "output_type": "stream",
     "text": [
      "Coeffiecient: 0.000\n",
      "Intercept: 4.191\n",
      "R2 score : -0.000\n",
      "MSE: 0.227\n",
      "RMSE: 0.476\n",
      "MAE: 0.560\n"
     ]
    }
   ],
   "source": [
    "from sklearn.metrics import mean_squared_error, r2_score, mean_absolute_error\n",
    "from math import sqrt\n",
    "print(\"Coeffiecient: %0.3f\" % lassoReg.coef_)\n",
    "print(\"Intercept: %0.3f\" % lassoReg.intercept_)\n",
    "print(\"R2 score : %.3f\" % r2_score(y_test,lassoReg.predict(X_test)))\n",
    "print(\"MSE: %.3f\" % mean_squared_error(y_test, lassoReg.predict(X_test)))\n",
    "print(\"RMSE: %.3f\" % sqrt(mean_squared_error(y_test, lassoReg.predict(X_test))))\n",
    "print(\"MAE: %.3f\" % sqrt(mean_absolute_error(y_test, lassoReg.predict(X_test))))"
   ]
  },
  {
   "cell_type": "code",
   "execution_count": 169,
   "id": "03830f52",
   "metadata": {},
   "outputs": [
    {
     "data": {
      "text/plain": [
       "const       4.190641\n",
       "Installs    0.023893\n",
       "dtype: float64"
      ]
     },
     "execution_count": 169,
     "metadata": {},
     "output_type": "execute_result"
    }
   ],
   "source": [
    "import statsmodels.api as sm\n",
    "X_train_sm=sm.add_constant(X_train)\n",
    "lr=sm.OLS(y_train,X_train_sm).fit()\n",
    "lr.params"
   ]
  },
  {
   "cell_type": "code",
   "execution_count": 170,
   "id": "8f800735",
   "metadata": {},
   "outputs": [
    {
     "name": "stdout",
     "output_type": "stream",
     "text": [
      "1746.6225916651158\n"
     ]
    }
   ],
   "source": [
    "print(lr.ssr)"
   ]
  },
  {
   "cell_type": "code",
   "execution_count": 171,
   "id": "fd03c6b5",
   "metadata": {},
   "outputs": [
    {
     "data": {
      "text/plain": [
       "0.1611721501951754"
      ]
     },
     "execution_count": 171,
     "metadata": {},
     "output_type": "execute_result"
    }
   ],
   "source": [
    "#cp\n",
    "\n",
    "m=len(Y)\n",
    "p=1\n",
    "hat_sigma_squared=(1/(m-p-1))*1746.6225916651158\n",
    "Cp=(1/m)*(1746.6225916651158+2*1* hat_sigma_squared)\n",
    "Cp"
   ]
  },
  {
   "cell_type": "code",
   "execution_count": 172,
   "id": "ea9ac909",
   "metadata": {},
   "outputs": [
    {
     "data": {
      "text/html": [
       "<table class=\"simpletable\">\n",
       "<caption>OLS Regression Results</caption>\n",
       "<tr>\n",
       "  <th>Dep. Variable:</th>         <td>Rating</td>      <th>  R-squared:         </th> <td>   0.003</td> \n",
       "</tr>\n",
       "<tr>\n",
       "  <th>Model:</th>                   <td>OLS</td>       <th>  Adj. R-squared:    </th> <td>   0.003</td> \n",
       "</tr>\n",
       "<tr>\n",
       "  <th>Method:</th>             <td>Least Squares</td>  <th>  F-statistic:       </th> <td>   20.15</td> \n",
       "</tr>\n",
       "<tr>\n",
       "  <th>Date:</th>             <td>Sat, 05 Feb 2022</td> <th>  Prob (F-statistic):</th> <td>7.28e-06</td> \n",
       "</tr>\n",
       "<tr>\n",
       "  <th>Time:</th>                 <td>05:43:06</td>     <th>  Log-Likelihood:    </th> <td> -5193.8</td> \n",
       "</tr>\n",
       "<tr>\n",
       "  <th>No. Observations:</th>      <td>  7587</td>      <th>  AIC:               </th> <td>1.039e+04</td>\n",
       "</tr>\n",
       "<tr>\n",
       "  <th>Df Residuals:</th>          <td>  7585</td>      <th>  BIC:               </th> <td>1.041e+04</td>\n",
       "</tr>\n",
       "<tr>\n",
       "  <th>Df Model:</th>              <td>     1</td>      <th>                     </th>     <td> </td>    \n",
       "</tr>\n",
       "<tr>\n",
       "  <th>Covariance Type:</th>      <td>nonrobust</td>    <th>                     </th>     <td> </td>    \n",
       "</tr>\n",
       "</table>\n",
       "<table class=\"simpletable\">\n",
       "<tr>\n",
       "      <td></td>        <th>coef</th>     <th>std err</th>      <th>t</th>      <th>P>|t|</th>  <th>[0.025</th>    <th>0.975]</th>  \n",
       "</tr>\n",
       "<tr>\n",
       "  <th>const</th>    <td>    4.1906</td> <td>    0.006</td> <td>  760.635</td> <td> 0.000</td> <td>    4.180</td> <td>    4.201</td>\n",
       "</tr>\n",
       "<tr>\n",
       "  <th>Installs</th> <td>    0.0239</td> <td>    0.005</td> <td>    4.488</td> <td> 0.000</td> <td>    0.013</td> <td>    0.034</td>\n",
       "</tr>\n",
       "</table>\n",
       "<table class=\"simpletable\">\n",
       "<tr>\n",
       "  <th>Omnibus:</th>       <td>3160.891</td> <th>  Durbin-Watson:     </th> <td>   1.954</td> \n",
       "</tr>\n",
       "<tr>\n",
       "  <th>Prob(Omnibus):</th>  <td> 0.000</td>  <th>  Jarque-Bera (JB):  </th> <td>18566.871</td>\n",
       "</tr>\n",
       "<tr>\n",
       "  <th>Skew:</th>           <td>-1.913</td>  <th>  Prob(JB):          </th> <td>    0.00</td> \n",
       "</tr>\n",
       "<tr>\n",
       "  <th>Kurtosis:</th>       <td> 9.640</td>  <th>  Cond. No.          </th> <td>    1.04</td> \n",
       "</tr>\n",
       "</table><br/><br/>Notes:<br/>[1] Standard Errors assume that the covariance matrix of the errors is correctly specified."
      ],
      "text/plain": [
       "<class 'statsmodels.iolib.summary.Summary'>\n",
       "\"\"\"\n",
       "                            OLS Regression Results                            \n",
       "==============================================================================\n",
       "Dep. Variable:                 Rating   R-squared:                       0.003\n",
       "Model:                            OLS   Adj. R-squared:                  0.003\n",
       "Method:                 Least Squares   F-statistic:                     20.15\n",
       "Date:                Sat, 05 Feb 2022   Prob (F-statistic):           7.28e-06\n",
       "Time:                        05:43:06   Log-Likelihood:                -5193.8\n",
       "No. Observations:                7587   AIC:                         1.039e+04\n",
       "Df Residuals:                    7585   BIC:                         1.041e+04\n",
       "Df Model:                           1                                         \n",
       "Covariance Type:            nonrobust                                         \n",
       "==============================================================================\n",
       "                 coef    std err          t      P>|t|      [0.025      0.975]\n",
       "------------------------------------------------------------------------------\n",
       "const          4.1906      0.006    760.635      0.000       4.180       4.201\n",
       "Installs       0.0239      0.005      4.488      0.000       0.013       0.034\n",
       "==============================================================================\n",
       "Omnibus:                     3160.891   Durbin-Watson:                   1.954\n",
       "Prob(Omnibus):                  0.000   Jarque-Bera (JB):            18566.871\n",
       "Skew:                          -1.913   Prob(JB):                         0.00\n",
       "Kurtosis:                       9.640   Cond. No.                         1.04\n",
       "==============================================================================\n",
       "\n",
       "Notes:\n",
       "[1] Standard Errors assume that the covariance matrix of the errors is correctly specified.\n",
       "\"\"\""
      ]
     },
     "execution_count": 172,
     "metadata": {},
     "output_type": "execute_result"
    }
   ],
   "source": [
    "lr.summary()"
   ]
  },
  {
   "cell_type": "markdown",
   "id": "9ab73467",
   "metadata": {},
   "source": [
    "### For P3 (Size)"
   ]
  },
  {
   "cell_type": "code",
   "execution_count": 173,
   "id": "a0ddb371",
   "metadata": {},
   "outputs": [],
   "source": [
    "X = train_data[['Size']]\n",
    "Y = train_data['Rating']"
   ]
  },
  {
   "cell_type": "code",
   "execution_count": 174,
   "id": "aaf81de8",
   "metadata": {},
   "outputs": [
    {
     "name": "stdout",
     "output_type": "stream",
     "text": [
      "(7587, 1) (3252, 1) (7587,) (3252,)\n"
     ]
    }
   ],
   "source": [
    "from sklearn.model_selection import train_test_split\n",
    "X_train,X_test,y_train,y_test=train_test_split(X,Y,test_size=0.30,random_state=1)\n",
    "print(X_train.shape, X_test.shape, y_train.shape,y_test.shape)"
   ]
  },
  {
   "cell_type": "code",
   "execution_count": 175,
   "id": "e35834be",
   "metadata": {},
   "outputs": [
    {
     "data": {
      "text/plain": [
       "0.22677906326072836"
      ]
     },
     "execution_count": 175,
     "metadata": {},
     "output_type": "execute_result"
    }
   ],
   "source": [
    "from sklearn.linear_model import Lasso\n",
    "lassoReg=Lasso(alpha=0.05, normalize=True)\n",
    "lassoReg.fit(X_train,y_train)\n",
    "laspred=lassoReg.predict(X_test)\n",
    "las_mse=np.mean((laspred-y_test)**2)\n",
    "las_mse"
   ]
  },
  {
   "cell_type": "code",
   "execution_count": 176,
   "id": "305b9fe9",
   "metadata": {},
   "outputs": [
    {
     "name": "stdout",
     "output_type": "stream",
     "text": [
      "Coeffiecient: 0.000\n",
      "Intercept: 4.191\n",
      "R2 score : -0.000\n",
      "MSE: 0.227\n",
      "RMSE: 0.476\n",
      "MAE: 0.560\n"
     ]
    }
   ],
   "source": [
    "from sklearn.metrics import mean_squared_error, r2_score, mean_absolute_error\n",
    "from math import sqrt\n",
    "print(\"Coeffiecient: %0.3f\" % lassoReg.coef_)\n",
    "print(\"Intercept: %0.3f\" % lassoReg.intercept_)\n",
    "print(\"R2 score : %.3f\" % r2_score(y_test,lassoReg.predict(X_test)))\n",
    "print(\"MSE: %.3f\" % mean_squared_error(y_test, lassoReg.predict(X_test)))\n",
    "print(\"RMSE: %.3f\" % sqrt(mean_squared_error(y_test, lassoReg.predict(X_test))))\n",
    "print(\"MAE: %.3f\" % sqrt(mean_absolute_error(y_test, lassoReg.predict(X_test))))"
   ]
  },
  {
   "cell_type": "code",
   "execution_count": 177,
   "id": "24ba90d2",
   "metadata": {},
   "outputs": [
    {
     "data": {
      "text/plain": [
       "const    4.190776\n",
       "Size     0.039253\n",
       "dtype: float64"
      ]
     },
     "execution_count": 177,
     "metadata": {},
     "output_type": "execute_result"
    }
   ],
   "source": [
    "import statsmodels.api as sm\n",
    "X_train_sm=sm.add_constant(X_train)\n",
    "lr=sm.OLS(y_train,X_train_sm).fit()\n",
    "lr.params"
   ]
  },
  {
   "cell_type": "code",
   "execution_count": 178,
   "id": "48132662",
   "metadata": {},
   "outputs": [
    {
     "name": "stdout",
     "output_type": "stream",
     "text": [
      "1739.5159280750015\n"
     ]
    }
   ],
   "source": [
    "print(lr.ssr)"
   ]
  },
  {
   "cell_type": "code",
   "execution_count": 179,
   "id": "82ed7741",
   "metadata": {},
   "outputs": [
    {
     "data": {
      "text/plain": [
       "0.16051637243471453"
      ]
     },
     "execution_count": 179,
     "metadata": {},
     "output_type": "execute_result"
    }
   ],
   "source": [
    "#cp\n",
    "\n",
    "m=len(Y)\n",
    "p=1\n",
    "hat_sigma_squared=(1/(m-p-1))*1739.5159280750015\n",
    "Cp=(1/m)*(1739.5159280750015+2*1* hat_sigma_squared)\n",
    "Cp"
   ]
  },
  {
   "cell_type": "code",
   "execution_count": 180,
   "id": "667a8ada",
   "metadata": {},
   "outputs": [
    {
     "data": {
      "text/html": [
       "<table class=\"simpletable\">\n",
       "<caption>OLS Regression Results</caption>\n",
       "<tr>\n",
       "  <th>Dep. Variable:</th>         <td>Rating</td>      <th>  R-squared:         </th> <td>   0.007</td> \n",
       "</tr>\n",
       "<tr>\n",
       "  <th>Model:</th>                   <td>OLS</td>       <th>  Adj. R-squared:    </th> <td>   0.007</td> \n",
       "</tr>\n",
       "<tr>\n",
       "  <th>Method:</th>             <td>Least Squares</td>  <th>  F-statistic:       </th> <td>   51.22</td> \n",
       "</tr>\n",
       "<tr>\n",
       "  <th>Date:</th>             <td>Sat, 05 Feb 2022</td> <th>  Prob (F-statistic):</th> <td>9.05e-13</td> \n",
       "</tr>\n",
       "<tr>\n",
       "  <th>Time:</th>                 <td>05:43:14</td>     <th>  Log-Likelihood:    </th> <td> -5178.3</td> \n",
       "</tr>\n",
       "<tr>\n",
       "  <th>No. Observations:</th>      <td>  7587</td>      <th>  AIC:               </th> <td>1.036e+04</td>\n",
       "</tr>\n",
       "<tr>\n",
       "  <th>Df Residuals:</th>          <td>  7585</td>      <th>  BIC:               </th> <td>1.037e+04</td>\n",
       "</tr>\n",
       "<tr>\n",
       "  <th>Df Model:</th>              <td>     1</td>      <th>                     </th>     <td> </td>    \n",
       "</tr>\n",
       "<tr>\n",
       "  <th>Covariance Type:</th>      <td>nonrobust</td>    <th>                     </th>     <td> </td>    \n",
       "</tr>\n",
       "</table>\n",
       "<table class=\"simpletable\">\n",
       "<tr>\n",
       "    <td></td>       <th>coef</th>     <th>std err</th>      <th>t</th>      <th>P>|t|</th>  <th>[0.025</th>    <th>0.975]</th>  \n",
       "</tr>\n",
       "<tr>\n",
       "  <th>const</th> <td>    4.1908</td> <td>    0.005</td> <td>  762.241</td> <td> 0.000</td> <td>    4.180</td> <td>    4.202</td>\n",
       "</tr>\n",
       "<tr>\n",
       "  <th>Size</th>  <td>    0.0393</td> <td>    0.005</td> <td>    7.156</td> <td> 0.000</td> <td>    0.029</td> <td>    0.050</td>\n",
       "</tr>\n",
       "</table>\n",
       "<table class=\"simpletable\">\n",
       "<tr>\n",
       "  <th>Omnibus:</th>       <td>3138.109</td> <th>  Durbin-Watson:     </th> <td>   1.958</td> \n",
       "</tr>\n",
       "<tr>\n",
       "  <th>Prob(Omnibus):</th>  <td> 0.000</td>  <th>  Jarque-Bera (JB):  </th> <td>18420.422</td>\n",
       "</tr>\n",
       "<tr>\n",
       "  <th>Skew:</th>           <td>-1.897</td>  <th>  Prob(JB):          </th> <td>    0.00</td> \n",
       "</tr>\n",
       "<tr>\n",
       "  <th>Kurtosis:</th>       <td> 9.624</td>  <th>  Cond. No.          </th> <td>    1.00</td> \n",
       "</tr>\n",
       "</table><br/><br/>Notes:<br/>[1] Standard Errors assume that the covariance matrix of the errors is correctly specified."
      ],
      "text/plain": [
       "<class 'statsmodels.iolib.summary.Summary'>\n",
       "\"\"\"\n",
       "                            OLS Regression Results                            \n",
       "==============================================================================\n",
       "Dep. Variable:                 Rating   R-squared:                       0.007\n",
       "Model:                            OLS   Adj. R-squared:                  0.007\n",
       "Method:                 Least Squares   F-statistic:                     51.22\n",
       "Date:                Sat, 05 Feb 2022   Prob (F-statistic):           9.05e-13\n",
       "Time:                        05:43:14   Log-Likelihood:                -5178.3\n",
       "No. Observations:                7587   AIC:                         1.036e+04\n",
       "Df Residuals:                    7585   BIC:                         1.037e+04\n",
       "Df Model:                           1                                         \n",
       "Covariance Type:            nonrobust                                         \n",
       "==============================================================================\n",
       "                 coef    std err          t      P>|t|      [0.025      0.975]\n",
       "------------------------------------------------------------------------------\n",
       "const          4.1908      0.005    762.241      0.000       4.180       4.202\n",
       "Size           0.0393      0.005      7.156      0.000       0.029       0.050\n",
       "==============================================================================\n",
       "Omnibus:                     3138.109   Durbin-Watson:                   1.958\n",
       "Prob(Omnibus):                  0.000   Jarque-Bera (JB):            18420.422\n",
       "Skew:                          -1.897   Prob(JB):                         0.00\n",
       "Kurtosis:                       9.624   Cond. No.                         1.00\n",
       "==============================================================================\n",
       "\n",
       "Notes:\n",
       "[1] Standard Errors assume that the covariance matrix of the errors is correctly specified.\n",
       "\"\"\""
      ]
     },
     "execution_count": 180,
     "metadata": {},
     "output_type": "execute_result"
    }
   ],
   "source": [
    "lr.summary()"
   ]
  },
  {
   "cell_type": "markdown",
   "id": "7634200f",
   "metadata": {},
   "source": [
    "# Polynomial Regression"
   ]
  },
  {
   "cell_type": "markdown",
   "id": "77849f40",
   "metadata": {},
   "source": [
    "### For P1 (Reviews)"
   ]
  },
  {
   "cell_type": "code",
   "execution_count": 181,
   "id": "daa63bd0",
   "metadata": {},
   "outputs": [],
   "source": [
    "X = train_data[['Reviews']]\n",
    "Y = train_data['Rating']"
   ]
  },
  {
   "cell_type": "code",
   "execution_count": 182,
   "id": "ce0f3955",
   "metadata": {},
   "outputs": [],
   "source": [
    "from sklearn.model_selection import train_test_split\n",
    "X_train,X_test,y_train,y_test=train_test_split(X,Y,test_size=0.3,random_state=0)"
   ]
  },
  {
   "cell_type": "code",
   "execution_count": 183,
   "id": "d40d4c74",
   "metadata": {},
   "outputs": [
    {
     "data": {
      "text/plain": [
       "array([[ 1.00000000e+00, -1.50144564e-01,  2.25433902e-02,\n",
       "        -3.38476749e-03,  5.08204440e-04, -7.63041342e-05],\n",
       "       [ 1.00000000e+00, -1.51713342e-01,  2.30169381e-02,\n",
       "        -3.49197659e-03,  5.29779437e-04, -8.03746088e-05],\n",
       "       [ 1.00000000e+00, -1.49790368e-01,  2.24371544e-02,\n",
       "        -3.36086962e-03,  5.03425898e-04, -7.54083507e-05],\n",
       "       ...,\n",
       "       [ 1.00000000e+00, -1.27507443e-01,  1.62581481e-02,\n",
       "        -2.07303490e-03,  2.64327381e-04, -3.37037086e-05],\n",
       "       [ 1.00000000e+00, -1.51700362e-01,  2.30130000e-02,\n",
       "        -3.49108044e-03,  5.29598168e-04, -8.03402341e-05],\n",
       "       [ 1.00000000e+00,  3.16472634e-01,  1.00154928e-01,\n",
       "         3.16962939e-02,  1.00310096e-02,  3.17454004e-03]])"
      ]
     },
     "execution_count": 183,
     "metadata": {},
     "output_type": "execute_result"
    }
   ],
   "source": [
    "from sklearn.preprocessing import PolynomialFeatures\n",
    "polynom=PolynomialFeatures(degree=5)\n",
    "X_polynom=polynom.fit_transform(X_train)\n",
    "X_polynom"
   ]
  },
  {
   "cell_type": "code",
   "execution_count": 184,
   "id": "6821665e",
   "metadata": {},
   "outputs": [
    {
     "data": {
      "text/plain": [
       "LinearRegression()"
      ]
     },
     "execution_count": 184,
     "metadata": {},
     "output_type": "execute_result"
    }
   ],
   "source": [
    "PolyRegr=LinearRegression()\n",
    "PolyRegr.fit(X_polynom,y_train)"
   ]
  },
  {
   "cell_type": "code",
   "execution_count": 185,
   "id": "223ad656",
   "metadata": {},
   "outputs": [
    {
     "data": {
      "text/plain": [
       "0.0179684205474705"
      ]
     },
     "execution_count": 185,
     "metadata": {},
     "output_type": "execute_result"
    }
   ],
   "source": [
    "y_predict_polyr=PolyRegr.predict(polynom.fit_transform(X_test))\n",
    "from sklearn import metrics\n",
    "r_square=metrics.r2_score(y_test,y_predict_polyr)\n",
    "r_square"
   ]
  },
  {
   "cell_type": "code",
   "execution_count": 186,
   "id": "9c81b9f4",
   "metadata": {},
   "outputs": [
    {
     "name": "stdout",
     "output_type": "stream",
     "text": [
      "[ 0.00000000e+00  4.11792554e-01 -1.50466344e-01  1.76568916e-02\n",
      " -7.97928304e-04  1.22262004e-05]\n",
      "Intercept: 4.231\n",
      "R2 score : 0.018\n",
      "MSE: 0.226\n",
      "RMSE: 0.475\n",
      "MAE: 0.557\n"
     ]
    }
   ],
   "source": [
    "from sklearn.metrics import mean_squared_error, r2_score, mean_absolute_error\n",
    "from math import sqrt\n",
    "print(PolyRegr.coef_)\n",
    "print(\"Intercept: %0.3f\" % PolyRegr.intercept_)\n",
    "print(\"R2 score : %.3f\" % r2_score(y_test, PolyRegr.predict(polynom.fit_transform(X_test))))\n",
    "print(\"MSE: %.3f\" % mean_squared_error(y_test, PolyRegr.predict(polynom.fit_transform(X_test))))\n",
    "print(\"RMSE: %.3f\" % sqrt(mean_squared_error(y_test, PolyRegr.predict(polynom.fit_transform(X_test)))))\n",
    "print(\"MAE: %.3f\" % sqrt(mean_absolute_error(y_test, PolyRegr.predict(polynom.fit_transform(X_test)))))"
   ]
  },
  {
   "cell_type": "code",
   "execution_count": 187,
   "id": "1b77884e",
   "metadata": {},
   "outputs": [
    {
     "data": {
      "text/plain": [
       "[<matplotlib.lines.Line2D at 0x2e993640>]"
      ]
     },
     "execution_count": 187,
     "metadata": {},
     "output_type": "execute_result"
    },
    {
     "data": {
      "image/png": "[encoded data removed]",
      "text/plain": [
       "<Figure size 432x288 with 1 Axes>"
      ]
     },
     "metadata": {
      "needs_background": "light"
     },
     "output_type": "display_data"
    }
   ],
   "source": [
    "plt.scatter(X_train, y_train,color='red')\n",
    "plt.plot(X_train, PolyRegr.predict(polynom.fit_transform(X_train)),color='blue')"
   ]
  },
  {
   "cell_type": "code",
   "execution_count": 188,
   "id": "171022c9",
   "metadata": {},
   "outputs": [
    {
     "data": {
      "text/plain": [
       "const    4.231012\n",
       "x1       0.411793\n",
       "x2      -0.150466\n",
       "x3       0.017657\n",
       "x4      -0.000798\n",
       "x5       0.000012\n",
       "dtype: float64"
      ]
     },
     "execution_count": 188,
     "metadata": {},
     "output_type": "execute_result"
    }
   ],
   "source": [
    "import statsmodels.api as sm\n",
    "X_train_sm=sm.add_constant(X_polynom)\n",
    "lr=sm.OLS(y_train,X_train_sm).fit()\n",
    "lr.params"
   ]
  },
  {
   "cell_type": "code",
   "execution_count": 189,
   "id": "6359d3c9",
   "metadata": {},
   "outputs": [
    {
     "name": "stdout",
     "output_type": "stream",
     "text": [
      "1697.2194190803843\n"
     ]
    }
   ],
   "source": [
    "print(lr.ssr)"
   ]
  },
  {
   "cell_type": "code",
   "execution_count": 190,
   "id": "28fe1835",
   "metadata": {},
   "outputs": [
    {
     "data": {
      "text/plain": [
       "0.15661340030270227"
      ]
     },
     "execution_count": 190,
     "metadata": {},
     "output_type": "execute_result"
    }
   ],
   "source": [
    "#cp\n",
    "\n",
    "m=len(Y)\n",
    "p=1\n",
    "hat_sigma_squared=(1/(m-p-1))*1697.2194190803843\n",
    "Cp=(1/m)*(1697.2194190803843+2*1* hat_sigma_squared)\n",
    "Cp\n"
   ]
  },
  {
   "cell_type": "code",
   "execution_count": 191,
   "id": "fa7a741d",
   "metadata": {},
   "outputs": [
    {
     "data": {
      "text/html": [
       "<table class=\"simpletable\">\n",
       "<caption>OLS Regression Results</caption>\n",
       "<tr>\n",
       "  <th>Dep. Variable:</th>         <td>Rating</td>      <th>  R-squared:         </th> <td>   0.025</td> \n",
       "</tr>\n",
       "<tr>\n",
       "  <th>Model:</th>                   <td>OLS</td>       <th>  Adj. R-squared:    </th> <td>   0.025</td> \n",
       "</tr>\n",
       "<tr>\n",
       "  <th>Method:</th>             <td>Least Squares</td>  <th>  F-statistic:       </th> <td>   39.16</td> \n",
       "</tr>\n",
       "<tr>\n",
       "  <th>Date:</th>             <td>Sat, 05 Feb 2022</td> <th>  Prob (F-statistic):</th> <td>7.55e-40</td> \n",
       "</tr>\n",
       "<tr>\n",
       "  <th>Time:</th>                 <td>05:43:53</td>     <th>  Log-Likelihood:    </th> <td> -5084.9</td> \n",
       "</tr>\n",
       "<tr>\n",
       "  <th>No. Observations:</th>      <td>  7587</td>      <th>  AIC:               </th> <td>1.018e+04</td>\n",
       "</tr>\n",
       "<tr>\n",
       "  <th>Df Residuals:</th>          <td>  7581</td>      <th>  BIC:               </th> <td>1.022e+04</td>\n",
       "</tr>\n",
       "<tr>\n",
       "  <th>Df Model:</th>              <td>     5</td>      <th>                     </th>     <td> </td>    \n",
       "</tr>\n",
       "<tr>\n",
       "  <th>Covariance Type:</th>      <td>nonrobust</td>    <th>                     </th>     <td> </td>    \n",
       "</tr>\n",
       "</table>\n",
       "<table class=\"simpletable\">\n",
       "<tr>\n",
       "    <td></td>       <th>coef</th>     <th>std err</th>      <th>t</th>      <th>P>|t|</th>  <th>[0.025</th>    <th>0.975]</th>  \n",
       "</tr>\n",
       "<tr>\n",
       "  <th>const</th> <td>    4.2310</td> <td>    0.007</td> <td>  641.613</td> <td> 0.000</td> <td>    4.218</td> <td>    4.244</td>\n",
       "</tr>\n",
       "<tr>\n",
       "  <th>x1</th>    <td>    0.4118</td> <td>    0.033</td> <td>   12.555</td> <td> 0.000</td> <td>    0.347</td> <td>    0.476</td>\n",
       "</tr>\n",
       "<tr>\n",
       "  <th>x2</th>    <td>   -0.1505</td> <td>    0.017</td> <td>   -8.994</td> <td> 0.000</td> <td>   -0.183</td> <td>   -0.118</td>\n",
       "</tr>\n",
       "<tr>\n",
       "  <th>x3</th>    <td>    0.0177</td> <td>    0.002</td> <td>    7.470</td> <td> 0.000</td> <td>    0.013</td> <td>    0.022</td>\n",
       "</tr>\n",
       "<tr>\n",
       "  <th>x4</th>    <td>   -0.0008</td> <td>    0.000</td> <td>   -6.491</td> <td> 0.000</td> <td>   -0.001</td> <td>   -0.001</td>\n",
       "</tr>\n",
       "<tr>\n",
       "  <th>x5</th>    <td> 1.223e-05</td> <td> 2.13e-06</td> <td>    5.747</td> <td> 0.000</td> <td> 8.06e-06</td> <td> 1.64e-05</td>\n",
       "</tr>\n",
       "</table>\n",
       "<table class=\"simpletable\">\n",
       "<tr>\n",
       "  <th>Omnibus:</th>       <td>3227.896</td> <th>  Durbin-Watson:     </th> <td>   2.010</td> \n",
       "</tr>\n",
       "<tr>\n",
       "  <th>Prob(Omnibus):</th>  <td> 0.000</td>  <th>  Jarque-Bera (JB):  </th> <td>21024.200</td>\n",
       "</tr>\n",
       "<tr>\n",
       "  <th>Skew:</th>           <td>-1.921</td>  <th>  Prob(JB):          </th> <td>    0.00</td> \n",
       "</tr>\n",
       "<tr>\n",
       "  <th>Kurtosis:</th>       <td>10.193</td>  <th>  Cond. No.          </th> <td>1.60e+06</td> \n",
       "</tr>\n",
       "</table><br/><br/>Notes:<br/>[1] Standard Errors assume that the covariance matrix of the errors is correctly specified.<br/>[2] The condition number is large, 1.6e+06. This might indicate that there are<br/>strong multicollinearity or other numerical problems."
      ],
      "text/plain": [
       "<class 'statsmodels.iolib.summary.Summary'>\n",
       "\"\"\"\n",
       "                            OLS Regression Results                            \n",
       "==============================================================================\n",
       "Dep. Variable:                 Rating   R-squared:                       0.025\n",
       "Model:                            OLS   Adj. R-squared:                  0.025\n",
       "Method:                 Least Squares   F-statistic:                     39.16\n",
       "Date:                Sat, 05 Feb 2022   Prob (F-statistic):           7.55e-40\n",
       "Time:                        05:43:53   Log-Likelihood:                -5084.9\n",
       "No. Observations:                7587   AIC:                         1.018e+04\n",
       "Df Residuals:                    7581   BIC:                         1.022e+04\n",
       "Df Model:                           5                                         \n",
       "Covariance Type:            nonrobust                                         \n",
       "==============================================================================\n",
       "                 coef    std err          t      P>|t|      [0.025      0.975]\n",
       "------------------------------------------------------------------------------\n",
       "const          4.2310      0.007    641.613      0.000       4.218       4.244\n",
       "x1             0.4118      0.033     12.555      0.000       0.347       0.476\n",
       "x2            -0.1505      0.017     -8.994      0.000      -0.183      -0.118\n",
       "x3             0.0177      0.002      7.470      0.000       0.013       0.022\n",
       "x4            -0.0008      0.000     -6.491      0.000      -0.001      -0.001\n",
       "x5          1.223e-05   2.13e-06      5.747      0.000    8.06e-06    1.64e-05\n",
       "==============================================================================\n",
       "Omnibus:                     3227.896   Durbin-Watson:                   2.010\n",
       "Prob(Omnibus):                  0.000   Jarque-Bera (JB):            21024.200\n",
       "Skew:                          -1.921   Prob(JB):                         0.00\n",
       "Kurtosis:                      10.193   Cond. No.                     1.60e+06\n",
       "==============================================================================\n",
       "\n",
       "Notes:\n",
       "[1] Standard Errors assume that the covariance matrix of the errors is correctly specified.\n",
       "[2] The condition number is large, 1.6e+06. This might indicate that there are\n",
       "strong multicollinearity or other numerical problems.\n",
       "\"\"\""
      ]
     },
     "execution_count": 191,
     "metadata": {},
     "output_type": "execute_result"
    }
   ],
   "source": [
    "lr.summary()"
   ]
  },
  {
   "cell_type": "markdown",
   "id": "420e862e",
   "metadata": {},
   "source": [
    "### For P2 (Installs)"
   ]
  },
  {
   "cell_type": "code",
   "execution_count": 192,
   "id": "070f1d4f",
   "metadata": {},
   "outputs": [],
   "source": [
    "X = train_data[['Installs']]\n",
    "Y = train_data['Rating']"
   ]
  },
  {
   "cell_type": "code",
   "execution_count": 193,
   "id": "260b616e",
   "metadata": {},
   "outputs": [],
   "source": [
    "from sklearn.model_selection import train_test_split\n",
    "X_train,X_test,y_train,y_test=train_test_split(X,Y,test_size=0.3,random_state=0)"
   ]
  },
  {
   "cell_type": "code",
   "execution_count": 194,
   "id": "9337acf5",
   "metadata": {},
   "outputs": [
    {
     "data": {
      "text/plain": [
       "array([[ 1.00000000e+00, -1.80711566e-01,  3.26566701e-02,\n",
       "        -5.90143800e-03,  1.06645810e-03, -1.92721314e-04],\n",
       "       [ 1.00000000e+00, -1.81875872e-01,  3.30788327e-02,\n",
       "        -6.01624152e-03,  1.09420917e-03, -1.99010246e-04],\n",
       "       [ 1.00000000e+00, -1.70126971e-01,  2.89431862e-02,\n",
       "        -4.92401660e-03,  8.37708028e-04, -1.42516729e-04],\n",
       "       ...,\n",
       "       [ 1.00000000e+00, -1.70126971e-01,  2.89431862e-02,\n",
       "        -4.92401660e-03,  8.37708028e-04, -1.42516729e-04],\n",
       "       [ 1.00000000e+00, -1.81875872e-01,  3.30788327e-02,\n",
       "        -6.01624152e-03,  1.09420917e-03, -1.99010246e-04],\n",
       "       [ 1.00000000e+00,  4.06145436e-01,  1.64954115e-01,\n",
       "         6.69953612e-02,  2.72098602e-02,  1.10511605e-02]])"
      ]
     },
     "execution_count": 194,
     "metadata": {},
     "output_type": "execute_result"
    }
   ],
   "source": [
    "from sklearn.preprocessing import PolynomialFeatures\n",
    "polynom=PolynomialFeatures(degree=5)\n",
    "X_polynom=polynom.fit_transform(X_train)\n",
    "X_polynom"
   ]
  },
  {
   "cell_type": "code",
   "execution_count": 195,
   "id": "dece045f",
   "metadata": {},
   "outputs": [
    {
     "data": {
      "text/plain": [
       "LinearRegression()"
      ]
     },
     "execution_count": 195,
     "metadata": {},
     "output_type": "execute_result"
    }
   ],
   "source": [
    "PolyRegr=LinearRegression()\n",
    "PolyRegr.fit(X_polynom,y_train)"
   ]
  },
  {
   "cell_type": "code",
   "execution_count": 196,
   "id": "e41b7cab",
   "metadata": {},
   "outputs": [
    {
     "data": {
      "text/plain": [
       "0.025949995535503367"
      ]
     },
     "execution_count": 196,
     "metadata": {},
     "output_type": "execute_result"
    }
   ],
   "source": [
    "y_predict_polyr=PolyRegr.predict(polynom.fit_transform(X_test))\n",
    "from sklearn import metrics\n",
    "r_square=metrics.r2_score(y_test,y_predict_polyr)\n",
    "r_square"
   ]
  },
  {
   "cell_type": "code",
   "execution_count": 197,
   "id": "9a61f6d6",
   "metadata": {},
   "outputs": [
    {
     "name": "stdout",
     "output_type": "stream",
     "text": [
      "[ 0.          0.70561162 -3.07995135  2.99488528 -0.62684387  0.03374295]\n",
      "Intercept: 4.388\n",
      "R2 score : 0.026\n",
      "MSE: 0.224\n",
      "RMSE: 0.473\n",
      "MAE: 0.557\n"
     ]
    }
   ],
   "source": [
    "from sklearn.metrics import mean_squared_error, r2_score, mean_absolute_error\n",
    "from math import sqrt\n",
    "print(PolyRegr.coef_)\n",
    "print(\"Intercept: %0.3f\" % PolyRegr.intercept_)\n",
    "print(\"R2 score : %.3f\" % r2_score(y_test, PolyRegr.predict(polynom.fit_transform(X_test))))\n",
    "print(\"MSE: %.3f\" % mean_squared_error(y_test, PolyRegr.predict(polynom.fit_transform(X_test))))\n",
    "print(\"RMSE: %.3f\" % sqrt(mean_squared_error(y_test, PolyRegr.predict(polynom.fit_transform(X_test)))))\n",
    "print(\"MAE: %.3f\" % sqrt(mean_absolute_error(y_test, PolyRegr.predict(polynom.fit_transform(X_test)))))"
   ]
  },
  {
   "cell_type": "code",
   "execution_count": 198,
   "id": "67b1eb3a",
   "metadata": {},
   "outputs": [
    {
     "data": {
      "text/plain": [
       "[<matplotlib.lines.Line2D at 0x2ea13970>]"
      ]
     },
     "execution_count": 198,
     "metadata": {},
     "output_type": "execute_result"
    },
    {
     "data": {
      "image/png": "[encoded data removed]",
      "text/plain": [
       "<Figure size 432x288 with 1 Axes>"
      ]
     },
     "metadata": {
      "needs_background": "light"
     },
     "output_type": "display_data"
    }
   ],
   "source": [
    "plt.scatter(X_train, y_train,color='red')\n",
    "plt.plot(X_train, PolyRegr.predict(polynom.fit_transform(X_train)),color='blue')"
   ]
  },
  {
   "cell_type": "code",
   "execution_count": 199,
   "id": "89ff336d",
   "metadata": {},
   "outputs": [
    {
     "data": {
      "text/plain": [
       "const    4.387873\n",
       "x1       0.705612\n",
       "x2      -3.079951\n",
       "x3       2.994885\n",
       "x4      -0.626844\n",
       "x5       0.033743\n",
       "dtype: float64"
      ]
     },
     "execution_count": 199,
     "metadata": {},
     "output_type": "execute_result"
    }
   ],
   "source": [
    "import statsmodels.api as sm\n",
    "X_train_sm=sm.add_constant(X_polynom)\n",
    "lr=sm.OLS(y_train,X_train_sm).fit()\n",
    "lr.params"
   ]
  },
  {
   "cell_type": "code",
   "execution_count": 200,
   "id": "46970344",
   "metadata": {},
   "outputs": [
    {
     "name": "stdout",
     "output_type": "stream",
     "text": [
      "1689.8477131108657\n"
     ]
    }
   ],
   "source": [
    "print(lr.ssr)"
   ]
  },
  {
   "cell_type": "code",
   "execution_count": 201,
   "id": "75424127",
   "metadata": {},
   "outputs": [
    {
     "data": {
      "text/plain": [
       "0.1559331653696471"
      ]
     },
     "execution_count": 201,
     "metadata": {},
     "output_type": "execute_result"
    }
   ],
   "source": [
    "#cp\n",
    "\n",
    "m=len(Y)\n",
    "p=1\n",
    "hat_sigma_squared=(1/(m-p-1))*1689.8477131108657\n",
    "Cp=(1/m)*(1689.8477131108657+2*1* hat_sigma_squared)\n",
    "Cp"
   ]
  },
  {
   "cell_type": "code",
   "execution_count": 202,
   "id": "adb680b3",
   "metadata": {},
   "outputs": [
    {
     "data": {
      "text/html": [
       "<table class=\"simpletable\">\n",
       "<caption>OLS Regression Results</caption>\n",
       "<tr>\n",
       "  <th>Dep. Variable:</th>         <td>Rating</td>      <th>  R-squared:         </th> <td>   0.029</td> \n",
       "</tr>\n",
       "<tr>\n",
       "  <th>Model:</th>                   <td>OLS</td>       <th>  Adj. R-squared:    </th> <td>   0.029</td> \n",
       "</tr>\n",
       "<tr>\n",
       "  <th>Method:</th>             <td>Least Squares</td>  <th>  F-statistic:       </th> <td>   45.94</td> \n",
       "</tr>\n",
       "<tr>\n",
       "  <th>Date:</th>             <td>Sat, 05 Feb 2022</td> <th>  Prob (F-statistic):</th> <td>6.49e-47</td> \n",
       "</tr>\n",
       "<tr>\n",
       "  <th>Time:</th>                 <td>05:44:05</td>     <th>  Log-Likelihood:    </th> <td> -5068.4</td> \n",
       "</tr>\n",
       "<tr>\n",
       "  <th>No. Observations:</th>      <td>  7587</td>      <th>  AIC:               </th> <td>1.015e+04</td>\n",
       "</tr>\n",
       "<tr>\n",
       "  <th>Df Residuals:</th>          <td>  7581</td>      <th>  BIC:               </th> <td>1.019e+04</td>\n",
       "</tr>\n",
       "<tr>\n",
       "  <th>Df Model:</th>              <td>     5</td>      <th>                     </th>     <td> </td>    \n",
       "</tr>\n",
       "<tr>\n",
       "  <th>Covariance Type:</th>      <td>nonrobust</td>    <th>                     </th>     <td> </td>    \n",
       "</tr>\n",
       "</table>\n",
       "<table class=\"simpletable\">\n",
       "<tr>\n",
       "    <td></td>       <th>coef</th>     <th>std err</th>      <th>t</th>      <th>P>|t|</th>  <th>[0.025</th>    <th>0.975]</th>  \n",
       "</tr>\n",
       "<tr>\n",
       "  <th>const</th> <td>    4.3879</td> <td>    0.018</td> <td>  238.212</td> <td> 0.000</td> <td>    4.352</td> <td>    4.424</td>\n",
       "</tr>\n",
       "<tr>\n",
       "  <th>x1</th>    <td>    0.7056</td> <td>    0.067</td> <td>   10.543</td> <td> 0.000</td> <td>    0.574</td> <td>    0.837</td>\n",
       "</tr>\n",
       "<tr>\n",
       "  <th>x2</th>    <td>   -3.0800</td> <td>    0.369</td> <td>   -8.354</td> <td> 0.000</td> <td>   -3.803</td> <td>   -2.357</td>\n",
       "</tr>\n",
       "<tr>\n",
       "  <th>x3</th>    <td>    2.9949</td> <td>    0.441</td> <td>    6.788</td> <td> 0.000</td> <td>    2.130</td> <td>    3.860</td>\n",
       "</tr>\n",
       "<tr>\n",
       "  <th>x4</th>    <td>   -0.6268</td> <td>    0.097</td> <td>   -6.492</td> <td> 0.000</td> <td>   -0.816</td> <td>   -0.438</td>\n",
       "</tr>\n",
       "<tr>\n",
       "  <th>x5</th>    <td>    0.0337</td> <td>    0.005</td> <td>    6.392</td> <td> 0.000</td> <td>    0.023</td> <td>    0.044</td>\n",
       "</tr>\n",
       "</table>\n",
       "<table class=\"simpletable\">\n",
       "<tr>\n",
       "  <th>Omnibus:</th>       <td>3098.363</td> <th>  Durbin-Watson:     </th> <td>   2.014</td> \n",
       "</tr>\n",
       "<tr>\n",
       "  <th>Prob(Omnibus):</th>  <td> 0.000</td>  <th>  Jarque-Bera (JB):  </th> <td>19467.485</td>\n",
       "</tr>\n",
       "<tr>\n",
       "  <th>Skew:</th>           <td>-1.842</td>  <th>  Prob(JB):          </th> <td>    0.00</td> \n",
       "</tr>\n",
       "<tr>\n",
       "  <th>Kurtosis:</th>       <td> 9.929</td>  <th>  Cond. No.          </th> <td>1.56e+06</td> \n",
       "</tr>\n",
       "</table><br/><br/>Notes:<br/>[1] Standard Errors assume that the covariance matrix of the errors is correctly specified.<br/>[2] The condition number is large, 1.56e+06. This might indicate that there are<br/>strong multicollinearity or other numerical problems."
      ],
      "text/plain": [
       "<class 'statsmodels.iolib.summary.Summary'>\n",
       "\"\"\"\n",
       "                            OLS Regression Results                            \n",
       "==============================================================================\n",
       "Dep. Variable:                 Rating   R-squared:                       0.029\n",
       "Model:                            OLS   Adj. R-squared:                  0.029\n",
       "Method:                 Least Squares   F-statistic:                     45.94\n",
       "Date:                Sat, 05 Feb 2022   Prob (F-statistic):           6.49e-47\n",
       "Time:                        05:44:05   Log-Likelihood:                -5068.4\n",
       "No. Observations:                7587   AIC:                         1.015e+04\n",
       "Df Residuals:                    7581   BIC:                         1.019e+04\n",
       "Df Model:                           5                                         \n",
       "Covariance Type:            nonrobust                                         \n",
       "==============================================================================\n",
       "                 coef    std err          t      P>|t|      [0.025      0.975]\n",
       "------------------------------------------------------------------------------\n",
       "const          4.3879      0.018    238.212      0.000       4.352       4.424\n",
       "x1             0.7056      0.067     10.543      0.000       0.574       0.837\n",
       "x2            -3.0800      0.369     -8.354      0.000      -3.803      -2.357\n",
       "x3             2.9949      0.441      6.788      0.000       2.130       3.860\n",
       "x4            -0.6268      0.097     -6.492      0.000      -0.816      -0.438\n",
       "x5             0.0337      0.005      6.392      0.000       0.023       0.044\n",
       "==============================================================================\n",
       "Omnibus:                     3098.363   Durbin-Watson:                   2.014\n",
       "Prob(Omnibus):                  0.000   Jarque-Bera (JB):            19467.485\n",
       "Skew:                          -1.842   Prob(JB):                         0.00\n",
       "Kurtosis:                       9.929   Cond. No.                     1.56e+06\n",
       "==============================================================================\n",
       "\n",
       "Notes:\n",
       "[1] Standard Errors assume that the covariance matrix of the errors is correctly specified.\n",
       "[2] The condition number is large, 1.56e+06. This might indicate that there are\n",
       "strong multicollinearity or other numerical problems.\n",
       "\"\"\""
      ]
     },
     "execution_count": 202,
     "metadata": {},
     "output_type": "execute_result"
    }
   ],
   "source": [
    "lr.summary()"
   ]
  },
  {
   "cell_type": "markdown",
   "id": "a80c7e7a",
   "metadata": {},
   "source": [
    "### For P3 (Size)"
   ]
  },
  {
   "cell_type": "code",
   "execution_count": 203,
   "id": "44640daa",
   "metadata": {},
   "outputs": [],
   "source": [
    "X = train_data[['Size']]\n",
    "Y = train_data['Rating']"
   ]
  },
  {
   "cell_type": "code",
   "execution_count": 204,
   "id": "a3e2d864",
   "metadata": {},
   "outputs": [],
   "source": [
    "from sklearn.model_selection import train_test_split\n",
    "X_train,X_test,y_train,y_test=train_test_split(X,Y,test_size=0.3,random_state=0)"
   ]
  },
  {
   "cell_type": "code",
   "execution_count": 205,
   "id": "08e0687b",
   "metadata": {},
   "outputs": [
    {
     "data": {
      "text/plain": [
       "array([[ 1.        , -0.14085981,  0.01984149, -0.00279487],\n",
       "       [ 1.        ,  0.26440163,  0.06990822,  0.01848385],\n",
       "       [ 1.        , -0.36600505,  0.1339597 , -0.04902993],\n",
       "       ...,\n",
       "       [ 1.        ,  0.39948878,  0.15959129,  0.06375493],\n",
       "       [ 1.        , -0.14085981,  0.01984149, -0.00279487],\n",
       "       [ 1.        ,  0.40537136,  0.16432594,  0.06661303]])"
      ]
     },
     "execution_count": 205,
     "metadata": {},
     "output_type": "execute_result"
    }
   ],
   "source": [
    "from sklearn.preprocessing import PolynomialFeatures\n",
    "polynom=PolynomialFeatures(degree=3)\n",
    "X_polynom=polynom.fit_transform(X_train)\n",
    "X_polynom"
   ]
  },
  {
   "cell_type": "code",
   "execution_count": 206,
   "id": "ca9383c4",
   "metadata": {},
   "outputs": [
    {
     "data": {
      "text/plain": [
       "LinearRegression()"
      ]
     },
     "execution_count": 206,
     "metadata": {},
     "output_type": "execute_result"
    }
   ],
   "source": [
    "PolyRegr=LinearRegression()\n",
    "PolyRegr.fit(X_polynom,y_train)"
   ]
  },
  {
   "cell_type": "code",
   "execution_count": 207,
   "id": "a887b3f1",
   "metadata": {},
   "outputs": [
    {
     "data": {
      "text/plain": [
       "0.0073576070086428524"
      ]
     },
     "execution_count": 207,
     "metadata": {},
     "output_type": "execute_result"
    }
   ],
   "source": [
    "y_predict_polyr=PolyRegr.predict(polynom.fit_transform(X_test))\n",
    "from sklearn import metrics\n",
    "r_square=metrics.r2_score(y_test,y_predict_polyr)\n",
    "r_square"
   ]
  },
  {
   "cell_type": "code",
   "execution_count": 208,
   "id": "d9d83702",
   "metadata": {},
   "outputs": [
    {
     "name": "stdout",
     "output_type": "stream",
     "text": [
      "[ 0.          0.05850124 -0.01166628  0.00081405]\n",
      "Intercept: 4.201\n",
      "R2 score : 0.007\n",
      "MSE: 0.228\n",
      "RMSE: 0.478\n",
      "MAE: 0.559\n"
     ]
    }
   ],
   "source": [
    "from sklearn.metrics import mean_squared_error, r2_score, mean_absolute_error\n",
    "from math import sqrt\n",
    "print(PolyRegr.coef_)\n",
    "print(\"Intercept: %0.3f\" % PolyRegr.intercept_)\n",
    "print(\"R2 score : %.3f\" % r2_score(y_test, PolyRegr.predict(polynom.fit_transform(X_test))))\n",
    "print(\"MSE: %.3f\" % mean_squared_error(y_test, PolyRegr.predict(polynom.fit_transform(X_test))))\n",
    "print(\"RMSE: %.3f\" % sqrt(mean_squared_error(y_test, PolyRegr.predict(polynom.fit_transform(X_test)))))\n",
    "print(\"MAE: %.3f\" % sqrt(mean_absolute_error(y_test, PolyRegr.predict(polynom.fit_transform(X_test)))))"
   ]
  },
  {
   "cell_type": "code",
   "execution_count": 209,
   "id": "48b63c3f",
   "metadata": {},
   "outputs": [
    {
     "data": {
      "text/plain": [
       "[<matplotlib.lines.Line2D at 0x2fbc0d30>]"
      ]
     },
     "execution_count": 209,
     "metadata": {},
     "output_type": "execute_result"
    },
    {
     "data": {
      "image/png": "[encoded data removed]",
      "text/plain": [
       "<Figure size 432x288 with 1 Axes>"
      ]
     },
     "metadata": {
      "needs_background": "light"
     },
     "output_type": "display_data"
    }
   ],
   "source": [
    "plt.scatter(X_train, y_train,color='red')\n",
    "plt.plot(X_train, PolyRegr.predict(polynom.fit_transform(X_train)),color='blue')"
   ]
  },
  {
   "cell_type": "code",
   "execution_count": 210,
   "id": "72e649ef",
   "metadata": {},
   "outputs": [
    {
     "data": {
      "text/plain": [
       "const    4.201307\n",
       "x1       0.058501\n",
       "x2      -0.011666\n",
       "x3       0.000814\n",
       "dtype: float64"
      ]
     },
     "execution_count": 210,
     "metadata": {},
     "output_type": "execute_result"
    }
   ],
   "source": [
    "import statsmodels.api as sm\n",
    "X_train_sm=sm.add_constant(X_polynom)\n",
    "lr=sm.OLS(y_train,X_train_sm).fit()\n",
    "lr.params"
   ]
  },
  {
   "cell_type": "code",
   "execution_count": 211,
   "id": "9e217272",
   "metadata": {},
   "outputs": [
    {
     "name": "stdout",
     "output_type": "stream",
     "text": [
      "1726.128598259959\n"
     ]
    }
   ],
   "source": [
    "print(lr.ssr)"
   ]
  },
  {
   "cell_type": "code",
   "execution_count": 212,
   "id": "25007f8f",
   "metadata": {},
   "outputs": [
    {
     "data": {
      "text/plain": [
       "0.15928103702684868"
      ]
     },
     "execution_count": 212,
     "metadata": {},
     "output_type": "execute_result"
    }
   ],
   "source": [
    "#cp\n",
    "\n",
    "m=len(Y)\n",
    "p=1\n",
    "hat_sigma_squared=(1/(m-p-1))*1726.128598259959\n",
    "Cp=(1/m)*(1726.128598259959+2*1* hat_sigma_squared)\n",
    "Cp"
   ]
  },
  {
   "cell_type": "code",
   "execution_count": 213,
   "id": "20faefdd",
   "metadata": {},
   "outputs": [
    {
     "data": {
      "text/html": [
       "<table class=\"simpletable\">\n",
       "<caption>OLS Regression Results</caption>\n",
       "<tr>\n",
       "  <th>Dep. Variable:</th>         <td>Rating</td>      <th>  R-squared:         </th> <td>   0.009</td> \n",
       "</tr>\n",
       "<tr>\n",
       "  <th>Model:</th>                   <td>OLS</td>       <th>  Adj. R-squared:    </th> <td>   0.008</td> \n",
       "</tr>\n",
       "<tr>\n",
       "  <th>Method:</th>             <td>Least Squares</td>  <th>  F-statistic:       </th> <td>   21.85</td> \n",
       "</tr>\n",
       "<tr>\n",
       "  <th>Date:</th>             <td>Sat, 05 Feb 2022</td> <th>  Prob (F-statistic):</th> <td>4.37e-14</td> \n",
       "</tr>\n",
       "<tr>\n",
       "  <th>Time:</th>                 <td>05:44:15</td>     <th>  Log-Likelihood:    </th> <td> -5149.0</td> \n",
       "</tr>\n",
       "<tr>\n",
       "  <th>No. Observations:</th>      <td>  7587</td>      <th>  AIC:               </th> <td>1.031e+04</td>\n",
       "</tr>\n",
       "<tr>\n",
       "  <th>Df Residuals:</th>          <td>  7583</td>      <th>  BIC:               </th> <td>1.033e+04</td>\n",
       "</tr>\n",
       "<tr>\n",
       "  <th>Df Model:</th>              <td>     3</td>      <th>                     </th>     <td> </td>    \n",
       "</tr>\n",
       "<tr>\n",
       "  <th>Covariance Type:</th>      <td>nonrobust</td>    <th>                     </th>     <td> </td>    \n",
       "</tr>\n",
       "</table>\n",
       "<table class=\"simpletable\">\n",
       "<tr>\n",
       "    <td></td>       <th>coef</th>     <th>std err</th>      <th>t</th>      <th>P>|t|</th>  <th>[0.025</th>    <th>0.975]</th>  \n",
       "</tr>\n",
       "<tr>\n",
       "  <th>const</th> <td>    4.2013</td> <td>    0.007</td> <td>  585.974</td> <td> 0.000</td> <td>    4.187</td> <td>    4.215</td>\n",
       "</tr>\n",
       "<tr>\n",
       "  <th>x1</th>    <td>    0.0585</td> <td>    0.009</td> <td>    6.824</td> <td> 0.000</td> <td>    0.042</td> <td>    0.075</td>\n",
       "</tr>\n",
       "<tr>\n",
       "  <th>x2</th>    <td>   -0.0117</td> <td>    0.006</td> <td>   -1.967</td> <td> 0.049</td> <td>   -0.023</td> <td>-4.14e-05</td>\n",
       "</tr>\n",
       "<tr>\n",
       "  <th>x3</th>    <td>    0.0008</td> <td>    0.001</td> <td>    1.315</td> <td> 0.189</td> <td>   -0.000</td> <td>    0.002</td>\n",
       "</tr>\n",
       "</table>\n",
       "<table class=\"simpletable\">\n",
       "<tr>\n",
       "  <th>Omnibus:</th>       <td>3234.952</td> <th>  Durbin-Watson:     </th> <td>   2.011</td> \n",
       "</tr>\n",
       "<tr>\n",
       "  <th>Prob(Omnibus):</th>  <td> 0.000</td>  <th>  Jarque-Bera (JB):  </th> <td>20551.533</td>\n",
       "</tr>\n",
       "<tr>\n",
       "  <th>Skew:</th>           <td>-1.936</td>  <th>  Prob(JB):          </th> <td>    0.00</td> \n",
       "</tr>\n",
       "<tr>\n",
       "  <th>Kurtosis:</th>       <td>10.072</td>  <th>  Cond. No.          </th> <td>    53.7</td> \n",
       "</tr>\n",
       "</table><br/><br/>Notes:<br/>[1] Standard Errors assume that the covariance matrix of the errors is correctly specified."
      ],
      "text/plain": [
       "<class 'statsmodels.iolib.summary.Summary'>\n",
       "\"\"\"\n",
       "                            OLS Regression Results                            \n",
       "==============================================================================\n",
       "Dep. Variable:                 Rating   R-squared:                       0.009\n",
       "Model:                            OLS   Adj. R-squared:                  0.008\n",
       "Method:                 Least Squares   F-statistic:                     21.85\n",
       "Date:                Sat, 05 Feb 2022   Prob (F-statistic):           4.37e-14\n",
       "Time:                        05:44:15   Log-Likelihood:                -5149.0\n",
       "No. Observations:                7587   AIC:                         1.031e+04\n",
       "Df Residuals:                    7583   BIC:                         1.033e+04\n",
       "Df Model:                           3                                         \n",
       "Covariance Type:            nonrobust                                         \n",
       "==============================================================================\n",
       "                 coef    std err          t      P>|t|      [0.025      0.975]\n",
       "------------------------------------------------------------------------------\n",
       "const          4.2013      0.007    585.974      0.000       4.187       4.215\n",
       "x1             0.0585      0.009      6.824      0.000       0.042       0.075\n",
       "x2            -0.0117      0.006     -1.967      0.049      -0.023   -4.14e-05\n",
       "x3             0.0008      0.001      1.315      0.189      -0.000       0.002\n",
       "==============================================================================\n",
       "Omnibus:                     3234.952   Durbin-Watson:                   2.011\n",
       "Prob(Omnibus):                  0.000   Jarque-Bera (JB):            20551.533\n",
       "Skew:                          -1.936   Prob(JB):                         0.00\n",
       "Kurtosis:                      10.072   Cond. No.                         53.7\n",
       "==============================================================================\n",
       "\n",
       "Notes:\n",
       "[1] Standard Errors assume that the covariance matrix of the errors is correctly specified.\n",
       "\"\"\""
      ]
     },
     "execution_count": 213,
     "metadata": {},
     "output_type": "execute_result"
    }
   ],
   "source": [
    "lr.summary()"
   ]
  },
  {
   "cell_type": "markdown",
   "id": "75651e3d",
   "metadata": {},
   "source": [
    "### For All Predictors"
   ]
  },
  {
   "cell_type": "code",
   "execution_count": 214,
   "id": "911aa2d9",
   "metadata": {},
   "outputs": [],
   "source": [
    "X = train_data[['Installs','Reviews','Size','Type','Price','Content Rating','Genres']]\n",
    "Y = train_data['Rating']"
   ]
  },
  {
   "cell_type": "code",
   "execution_count": 215,
   "id": "709a899f",
   "metadata": {},
   "outputs": [],
   "source": [
    "from sklearn.model_selection import train_test_split\n",
    "X_train,X_test,y_train,y_test=train_test_split(X,Y,test_size=0.3,random_state=0)"
   ]
  },
  {
   "cell_type": "code",
   "execution_count": 216,
   "id": "bdf6cc56",
   "metadata": {},
   "outputs": [
    {
     "data": {
      "text/plain": [
       "array([[ 1.00000000e+00, -1.80711566e-01, -1.50144564e-01, ...,\n",
       "        -6.44189445e-02,  1.00000000e+00,  9.70000000e+01],\n",
       "       [ 1.00000000e+00, -1.81875872e-01, -1.51713342e-01, ...,\n",
       "        -6.44189445e-02,  1.00000000e+00,  1.08000000e+02],\n",
       "       [ 1.00000000e+00, -1.70126971e-01, -1.49790368e-01, ...,\n",
       "        -6.44189445e-02,  1.00000000e+00,  1.02000000e+02],\n",
       "       ...,\n",
       "       [ 1.00000000e+00, -1.70126971e-01, -1.27507443e-01, ...,\n",
       "        -6.44189445e-02,  1.00000000e+00,  8.60000000e+01],\n",
       "       [ 1.00000000e+00, -1.81875872e-01, -1.51700362e-01, ...,\n",
       "        -6.44189445e-02,  1.00000000e+00,  3.90000000e+01],\n",
       "       [ 1.00000000e+00,  4.06145436e-01,  3.16472634e-01, ...,\n",
       "        -6.44189445e-02,  4.00000000e+00,  9.60000000e+01]])"
      ]
     },
     "execution_count": 216,
     "metadata": {},
     "output_type": "execute_result"
    }
   ],
   "source": [
    "from sklearn.preprocessing import PolynomialFeatures\n",
    "polynom=PolynomialFeatures(degree=1)\n",
    "X_polynom=polynom.fit_transform(X_train)\n",
    "X_polynom"
   ]
  },
  {
   "cell_type": "code",
   "execution_count": 217,
   "id": "73188185",
   "metadata": {},
   "outputs": [
    {
     "data": {
      "text/plain": [
       "LinearRegression()"
      ]
     },
     "execution_count": 217,
     "metadata": {},
     "output_type": "execute_result"
    }
   ],
   "source": [
    "PolyRegr=LinearRegression()\n",
    "PolyRegr.fit(X_polynom,y_train)"
   ]
  },
  {
   "cell_type": "code",
   "execution_count": 218,
   "id": "ee153114",
   "metadata": {},
   "outputs": [
    {
     "data": {
      "text/plain": [
       "0.012371314142605394"
      ]
     },
     "execution_count": 218,
     "metadata": {},
     "output_type": "execute_result"
    }
   ],
   "source": [
    "y_predict_polyr=PolyRegr.predict(polynom.fit_transform(X_test))\n",
    "from sklearn import metrics\n",
    "r_square=metrics.r2_score(y_test,y_predict_polyr)\n",
    "r_square"
   ]
  },
  {
   "cell_type": "code",
   "execution_count": 219,
   "id": "c6a49d7d",
   "metadata": {},
   "outputs": [
    {
     "name": "stdout",
     "output_type": "stream",
     "text": [
      "[ 0.          0.00602473  0.02123165  0.03174628  0.10860319 -0.01709335\n",
      "  0.00127802 -0.00047579]\n",
      "Intercept: 4.212\n",
      "R2 score : 0.012\n",
      "MSE: 0.227\n",
      "RMSE: 0.477\n",
      "MAE: 0.555\n"
     ]
    }
   ],
   "source": [
    "from sklearn.metrics import mean_squared_error, r2_score, mean_absolute_error\n",
    "from math import sqrt\n",
    "print(PolyRegr.coef_)\n",
    "print(\"Intercept: %0.3f\" % PolyRegr.intercept_)\n",
    "print(\"R2 score : %.3f\" % r2_score(y_test, PolyRegr.predict(polynom.fit_transform(X_test))))\n",
    "print(\"MSE: %.3f\" % mean_squared_error(y_test, PolyRegr.predict(polynom.fit_transform(X_test))))\n",
    "print(\"RMSE: %.3f\" % sqrt(mean_squared_error(y_test, PolyRegr.predict(polynom.fit_transform(X_test)))))\n",
    "print(\"MAE: %.3f\" % sqrt(mean_absolute_error(y_test, PolyRegr.predict(polynom.fit_transform(X_test)))))"
   ]
  },
  {
   "cell_type": "code",
   "execution_count": 220,
   "id": "f9acd67e",
   "metadata": {},
   "outputs": [
    {
     "data": {
      "text/plain": [
       "const    4.212149\n",
       "x1       0.006025\n",
       "x2       0.021232\n",
       "x3       0.031746\n",
       "x4       0.108603\n",
       "x5      -0.017093\n",
       "x6       0.001278\n",
       "x7      -0.000476\n",
       "dtype: float64"
      ]
     },
     "execution_count": 220,
     "metadata": {},
     "output_type": "execute_result"
    }
   ],
   "source": [
    "import statsmodels.api as sm\n",
    "X_train_sm=sm.add_constant(X_polynom)\n",
    "lr=sm.OLS(y_train,X_train_sm).fit()\n",
    "lr.params"
   ]
  },
  {
   "cell_type": "code",
   "execution_count": 221,
   "id": "467d2e20",
   "metadata": {},
   "outputs": [
    {
     "name": "stdout",
     "output_type": "stream",
     "text": [
      "1716.309478077619\n"
     ]
    }
   ],
   "source": [
    "print(lr.ssr)"
   ]
  },
  {
   "cell_type": "code",
   "execution_count": 222,
   "id": "ffdec77b",
   "metadata": {},
   "outputs": [
    {
     "data": {
      "text/plain": [
       "0.15855041570666106"
      ]
     },
     "execution_count": 222,
     "metadata": {},
     "output_type": "execute_result"
    }
   ],
   "source": [
    "#cp\n",
    "\n",
    "m=len(Y)\n",
    "p=7\n",
    "hat_sigma_squared=(1/(m-p-1))*1716.3094780776185\n",
    "Cp=(1/m)*(1716.3094780776185+2*7* hat_sigma_squared)\n",
    "Cp"
   ]
  },
  {
   "cell_type": "code",
   "execution_count": 223,
   "id": "e23a74ca",
   "metadata": {},
   "outputs": [
    {
     "data": {
      "text/html": [
       "<table class=\"simpletable\">\n",
       "<caption>OLS Regression Results</caption>\n",
       "<tr>\n",
       "  <th>Dep. Variable:</th>         <td>Rating</td>      <th>  R-squared:         </th> <td>   0.014</td> \n",
       "</tr>\n",
       "<tr>\n",
       "  <th>Model:</th>                   <td>OLS</td>       <th>  Adj. R-squared:    </th> <td>   0.013</td> \n",
       "</tr>\n",
       "<tr>\n",
       "  <th>Method:</th>             <td>Least Squares</td>  <th>  F-statistic:       </th> <td>   15.61</td> \n",
       "</tr>\n",
       "<tr>\n",
       "  <th>Date:</th>             <td>Sat, 05 Feb 2022</td> <th>  Prob (F-statistic):</th> <td>1.87e-20</td> \n",
       "</tr>\n",
       "<tr>\n",
       "  <th>Time:</th>                 <td>05:44:24</td>     <th>  Log-Likelihood:    </th> <td> -5127.4</td> \n",
       "</tr>\n",
       "<tr>\n",
       "  <th>No. Observations:</th>      <td>  7587</td>      <th>  AIC:               </th> <td>1.027e+04</td>\n",
       "</tr>\n",
       "<tr>\n",
       "  <th>Df Residuals:</th>          <td>  7579</td>      <th>  BIC:               </th> <td>1.033e+04</td>\n",
       "</tr>\n",
       "<tr>\n",
       "  <th>Df Model:</th>              <td>     7</td>      <th>                     </th>     <td> </td>    \n",
       "</tr>\n",
       "<tr>\n",
       "  <th>Covariance Type:</th>      <td>nonrobust</td>    <th>                     </th>     <td> </td>    \n",
       "</tr>\n",
       "</table>\n",
       "<table class=\"simpletable\">\n",
       "<tr>\n",
       "    <td></td>       <th>coef</th>     <th>std err</th>      <th>t</th>      <th>P>|t|</th>  <th>[0.025</th>    <th>0.975]</th>  \n",
       "</tr>\n",
       "<tr>\n",
       "  <th>const</th> <td>    4.2121</td> <td>    0.015</td> <td>  272.023</td> <td> 0.000</td> <td>    4.182</td> <td>    4.243</td>\n",
       "</tr>\n",
       "<tr>\n",
       "  <th>x1</th>    <td>    0.0060</td> <td>    0.007</td> <td>    0.847</td> <td> 0.397</td> <td>   -0.008</td> <td>    0.020</td>\n",
       "</tr>\n",
       "<tr>\n",
       "  <th>x2</th>    <td>    0.0212</td> <td>    0.008</td> <td>    2.795</td> <td> 0.005</td> <td>    0.006</td> <td>    0.036</td>\n",
       "</tr>\n",
       "<tr>\n",
       "  <th>x3</th>    <td>    0.0317</td> <td>    0.006</td> <td>    5.119</td> <td> 0.000</td> <td>    0.020</td> <td>    0.044</td>\n",
       "</tr>\n",
       "<tr>\n",
       "  <th>x4</th>    <td>    0.1086</td> <td>    0.022</td> <td>    5.038</td> <td> 0.000</td> <td>    0.066</td> <td>    0.151</td>\n",
       "</tr>\n",
       "<tr>\n",
       "  <th>x5</th>    <td>   -0.0171</td> <td>    0.007</td> <td>   -2.352</td> <td> 0.019</td> <td>   -0.031</td> <td>   -0.003</td>\n",
       "</tr>\n",
       "<tr>\n",
       "  <th>x6</th>    <td>    0.0013</td> <td>    0.006</td> <td>    0.230</td> <td> 0.818</td> <td>   -0.010</td> <td>    0.012</td>\n",
       "</tr>\n",
       "<tr>\n",
       "  <th>x7</th>    <td>   -0.0005</td> <td>    0.000</td> <td>   -2.795</td> <td> 0.005</td> <td>   -0.001</td> <td>   -0.000</td>\n",
       "</tr>\n",
       "</table>\n",
       "<table class=\"simpletable\">\n",
       "<tr>\n",
       "  <th>Omnibus:</th>       <td>3272.539</td> <th>  Durbin-Watson:     </th> <td>   2.007</td> \n",
       "</tr>\n",
       "<tr>\n",
       "  <th>Prob(Omnibus):</th>  <td> 0.000</td>  <th>  Jarque-Bera (JB):  </th> <td>21192.339</td>\n",
       "</tr>\n",
       "<tr>\n",
       "  <th>Skew:</th>           <td>-1.956</td>  <th>  Prob(JB):          </th> <td>    0.00</td> \n",
       "</tr>\n",
       "<tr>\n",
       "  <th>Kurtosis:</th>       <td>10.193</td>  <th>  Cond. No.          </th> <td>    288.</td> \n",
       "</tr>\n",
       "</table><br/><br/>Notes:<br/>[1] Standard Errors assume that the covariance matrix of the errors is correctly specified."
      ],
      "text/plain": [
       "<class 'statsmodels.iolib.summary.Summary'>\n",
       "\"\"\"\n",
       "                            OLS Regression Results                            \n",
       "==============================================================================\n",
       "Dep. Variable:                 Rating   R-squared:                       0.014\n",
       "Model:                            OLS   Adj. R-squared:                  0.013\n",
       "Method:                 Least Squares   F-statistic:                     15.61\n",
       "Date:                Sat, 05 Feb 2022   Prob (F-statistic):           1.87e-20\n",
       "Time:                        05:44:24   Log-Likelihood:                -5127.4\n",
       "No. Observations:                7587   AIC:                         1.027e+04\n",
       "Df Residuals:                    7579   BIC:                         1.033e+04\n",
       "Df Model:                           7                                         \n",
       "Covariance Type:            nonrobust                                         \n",
       "==============================================================================\n",
       "                 coef    std err          t      P>|t|      [0.025      0.975]\n",
       "------------------------------------------------------------------------------\n",
       "const          4.2121      0.015    272.023      0.000       4.182       4.243\n",
       "x1             0.0060      0.007      0.847      0.397      -0.008       0.020\n",
       "x2             0.0212      0.008      2.795      0.005       0.006       0.036\n",
       "x3             0.0317      0.006      5.119      0.000       0.020       0.044\n",
       "x4             0.1086      0.022      5.038      0.000       0.066       0.151\n",
       "x5            -0.0171      0.007     -2.352      0.019      -0.031      -0.003\n",
       "x6             0.0013      0.006      0.230      0.818      -0.010       0.012\n",
       "x7            -0.0005      0.000     -2.795      0.005      -0.001      -0.000\n",
       "==============================================================================\n",
       "Omnibus:                     3272.539   Durbin-Watson:                   2.007\n",
       "Prob(Omnibus):                  0.000   Jarque-Bera (JB):            21192.339\n",
       "Skew:                          -1.956   Prob(JB):                         0.00\n",
       "Kurtosis:                      10.193   Cond. No.                         288.\n",
       "==============================================================================\n",
       "\n",
       "Notes:\n",
       "[1] Standard Errors assume that the covariance matrix of the errors is correctly specified.\n",
       "\"\"\""
      ]
     },
     "execution_count": 223,
     "metadata": {},
     "output_type": "execute_result"
    }
   ],
   "source": [
    "lr.summary()"
   ]
  },
  {
   "cell_type": "markdown",
   "id": "7a64f18e",
   "metadata": {},
   "source": [
    "# Gradient Descent"
   ]
  },
  {
   "cell_type": "markdown",
   "id": "497b28d4",
   "metadata": {},
   "source": [
    "### For P1 (Reviews)"
   ]
  },
  {
   "cell_type": "code",
   "execution_count": 224,
   "id": "7d484a0a",
   "metadata": {},
   "outputs": [],
   "source": [
    "def predicted_y(weight,x,intercept):\n",
    "    y_lst=[]\n",
    "    for i in range(len(x)):\n",
    "        y_lst.append(weight@x[i]+intercept)\n",
    "    return np.array(y_lst)\n",
    "    \n",
    "\n",
    "# linear loss\n",
    "def loss(y,y_predicted):\n",
    "    n=len(y)\n",
    "    s=0\n",
    "    for i in range(n):\n",
    "        s+=(y[i]-y_predicted[i])**2\n",
    "    return (1/n)*s\n",
    "\n",
    "#derivative of loss w.r.t weight\n",
    "def dldw(x,y,y_predicted):\n",
    "    s=0\n",
    "    n=len(y)\n",
    "    for i in range(n):\n",
    "        s+=-x[i]*(y[i]-y_predicted[i])\n",
    "    return (2/n)*s\n",
    "    \n",
    "\n",
    "# derivative of loss w.r.t bias\n",
    "def dldb(y,y_predicted):\n",
    "    n=len(y)\n",
    "    s=0\n",
    "    for i in range(len(y)):\n",
    "        s+=-(y[i]-y_predicted[i])\n",
    "    return (2/n) * s\n",
    "\n",
    "# gradient function\n",
    "def gradient_descent(x,y):\n",
    "    weight_vector=np.random.randn(x.shape[1])\n",
    "    intercept=0\n",
    "    epoch = 1000\n",
    "    n = len(x)\n",
    "    linear_loss=[]\n",
    "    learning_rate = 0.01\n",
    "    for i in range(epoch):\n",
    "        \n",
    "        \n",
    "        y_predicted = predicted_y(weight_vector,x,intercept)\n",
    "        \n",
    "        weight_vector = weight_vector - learning_rate *dldw(x,y,y_predicted) \n",
    "        \n",
    "        \n",
    "        intercept = intercept - learning_rate * dldb(y,y_predicted)\n",
    "        linear_loss.append(loss(y,y_predicted))\n",
    "        \n",
    "    plt.plot(np.arange(1,epoch),linear_loss[1:])\n",
    "    plt.xlabel(\"number of epoch\")\n",
    "    plt.ylabel(\"loss\")\n",
    "    \n",
    "    return weight_vector,intercept"
   ]
  },
  {
   "cell_type": "code",
   "execution_count": 225,
   "id": "aad9381e",
   "metadata": {},
   "outputs": [],
   "source": [
    "x_sr = train_data.iloc[:, 2:3].values\n",
    "y = train_data.iloc[:, 1].values\n",
    "\n",
    "from sklearn.model_selection import train_test_split\n",
    "x_train, x_test, y_train, y_test = train_test_split(x_sr, y, test_size=0.3, random_state=0)\n",
    "\n",
    "from sklearn.preprocessing import StandardScaler\n",
    "sc=StandardScaler()\n",
    "X_transform=sc.fit_transform(x_train)"
   ]
  },
  {
   "cell_type": "code",
   "execution_count": 226,
   "id": "6ec5546b",
   "metadata": {},
   "outputs": [
    {
     "data": {
      "image/png": "[encoded data removed]",
      "text/plain": [
       "<Figure size 432x288 with 1 Axes>"
      ]
     },
     "metadata": {
      "needs_background": "light"
     },
     "output_type": "display_data"
    }
   ],
   "source": [
    "w,b=gradient_descent(X_transform,y_train)"
   ]
  },
  {
   "cell_type": "code",
   "execution_count": 227,
   "id": "f1ce472d",
   "metadata": {},
   "outputs": [
    {
     "name": "stdout",
     "output_type": "stream",
     "text": [
      "weight: [0.03542703]\n",
      "bias: 4.191096095180969\n"
     ]
    }
   ],
   "source": [
    "print(\"weight:\",w)\n",
    "print(\"bias:\",b)"
   ]
  },
  {
   "cell_type": "code",
   "execution_count": 228,
   "id": "8af2e143",
   "metadata": {},
   "outputs": [],
   "source": [
    "def predict(inp):\n",
    "    y_lst=[]\n",
    "    for i in range(len(inp)):\n",
    "        y_lst.append(w@inp[i]+b)\n",
    "    return np.array(y_lst)"
   ]
  },
  {
   "cell_type": "code",
   "execution_count": 229,
   "id": "0823f930",
   "metadata": {},
   "outputs": [],
   "source": [
    "X_test=sc.fit_transform(x_test)\n",
    "y_pred=predict(X_test)"
   ]
  },
  {
   "cell_type": "code",
   "execution_count": 230,
   "id": "da77cdf8",
   "metadata": {
    "scrolled": true
   },
   "outputs": [
    {
     "name": "stdout",
     "output_type": "stream",
     "text": [
      "R2 score : 0.003\n",
      "MSE: 0.229\n",
      "RMSE: 0.479\n",
      "MAE: 0.560\n"
     ]
    }
   ],
   "source": [
    "from sklearn.metrics import mean_squared_error, r2_score, mean_absolute_error\n",
    "from math import sqrt\n",
    "print(\"R2 score : %.3f\" % r2_score(y_test, y_pred))\n",
    "print(\"MSE: %.3f\" % mean_squared_error(y_test, y_pred))\n",
    "print(\"RMSE: %.3f\" % sqrt(mean_squared_error(y_test, y_pred)))\n",
    "print(\"MAE: %.3f\" % sqrt(mean_absolute_error(y_test, y_pred)))"
   ]
  },
  {
   "cell_type": "markdown",
   "id": "f5d6bf23",
   "metadata": {},
   "source": [
    "### For P2 (Installs)"
   ]
  },
  {
   "cell_type": "code",
   "execution_count": 231,
   "id": "8465f91d",
   "metadata": {},
   "outputs": [],
   "source": [
    "def predicted_y(weight,x,intercept):\n",
    "    y_lst=[]\n",
    "    for i in range(len(x)):\n",
    "        y_lst.append(weight@x[i]+intercept)\n",
    "    return np.array(y_lst)\n",
    "    \n",
    "\n",
    "# linear loss\n",
    "def loss(y,y_predicted):\n",
    "    n=len(y)\n",
    "    s=0\n",
    "    for i in range(n):\n",
    "        s+=(y[i]-y_predicted[i])**2\n",
    "    return (1/n)*s\n",
    "\n",
    "#derivative of loss w.r.t weight\n",
    "def dldw(x,y,y_predicted):\n",
    "    s=0\n",
    "    n=len(y)\n",
    "    for i in range(n):\n",
    "        s+=-x[i]*(y[i]-y_predicted[i])\n",
    "    return (2/n)*s\n",
    "    \n",
    "\n",
    "# derivative of loss w.r.t bias\n",
    "def dldb(y,y_predicted):\n",
    "    n=len(y)\n",
    "    s=0\n",
    "    for i in range(len(y)):\n",
    "        s+=-(y[i]-y_predicted[i])\n",
    "    return (2/n) * s\n",
    "\n",
    "# gradient function\n",
    "def gradient_descent(x,y):\n",
    "    weight_vector=np.random.randn(x.shape[1])\n",
    "    intercept=0\n",
    "    epoch = 100\n",
    "    n = len(x)\n",
    "    linear_loss=[]\n",
    "    learning_rate =0.5\n",
    "\n",
    "    for i in range(epoch):\n",
    "        \n",
    "        \n",
    "        y_predicted = predicted_y(weight_vector,x,intercept)\n",
    "        \n",
    "        weight_vector = weight_vector - learning_rate *dldw(x,y,y_predicted) \n",
    "        \n",
    "        \n",
    "        intercept = intercept - learning_rate * dldb(y,y_predicted)\n",
    "        linear_loss.append(loss(y,y_predicted))\n",
    "        \n",
    "    plt.plot(np.arange(1,epoch),linear_loss[1:])\n",
    "    plt.xlabel(\"number of epoch\")\n",
    "    plt.ylabel(\"loss\")\n",
    "    \n",
    "    return weight_vector,intercept"
   ]
  },
  {
   "cell_type": "code",
   "execution_count": 232,
   "id": "bdf79f0b",
   "metadata": {},
   "outputs": [],
   "source": [
    "x_sr = train_data.iloc[:, 4:5].values\n",
    "y = train_data.iloc[:, 1].values\n",
    "\n",
    "from sklearn.model_selection import train_test_split\n",
    "x_train, x_test, y_train, y_test = train_test_split(x_sr, y, test_size=0.3, random_state=0)\n",
    "\n",
    "from sklearn.preprocessing import StandardScaler\n",
    "sc=StandardScaler()\n",
    "X_transform=sc.fit_transform(x_train)"
   ]
  },
  {
   "cell_type": "code",
   "execution_count": 233,
   "id": "356d46a4",
   "metadata": {},
   "outputs": [
    {
     "data": {
      "image/png": "[encoded data removed]",
      "text/plain": [
       "<Figure size 432x288 with 1 Axes>"
      ]
     },
     "metadata": {
      "needs_background": "light"
     },
     "output_type": "display_data"
    }
   ],
   "source": [
    "w,b=gradient_descent(X_transform,y_train)"
   ]
  },
  {
   "cell_type": "code",
   "execution_count": 234,
   "id": "36c7f7f4",
   "metadata": {},
   "outputs": [
    {
     "name": "stdout",
     "output_type": "stream",
     "text": [
      "weight: [0.02532093]\n",
      "bias: 4.1910961022344475\n"
     ]
    }
   ],
   "source": [
    "print(\"weight:\",w)\n",
    "print(\"bias:\",b)"
   ]
  },
  {
   "cell_type": "code",
   "execution_count": 235,
   "id": "1253a991",
   "metadata": {},
   "outputs": [],
   "source": [
    "def predict(inp):\n",
    "    y_lst=[]\n",
    "    for i in range(len(inp)):\n",
    "        y_lst.append(w@inp[i]+b)\n",
    "    return np.array(y_lst)"
   ]
  },
  {
   "cell_type": "code",
   "execution_count": 236,
   "id": "a1cf70f3",
   "metadata": {},
   "outputs": [],
   "source": [
    "X_test=sc.fit_transform(x_test)\n",
    "y_pred=predict(X_test)"
   ]
  },
  {
   "cell_type": "code",
   "execution_count": 237,
   "id": "6ee512b1",
   "metadata": {
    "scrolled": true
   },
   "outputs": [
    {
     "name": "stdout",
     "output_type": "stream",
     "text": [
      "R2 score : 0.002\n",
      "MSE: 0.229\n",
      "RMSE: 0.479\n",
      "MAE: 0.561\n"
     ]
    }
   ],
   "source": [
    "from sklearn.metrics import mean_squared_error, r2_score, mean_absolute_error\n",
    "from math import sqrt\n",
    "print(\"R2 score : %.3f\" % r2_score(y_test, y_pred))\n",
    "print(\"MSE: %.3f\" % mean_squared_error(y_test, y_pred))\n",
    "print(\"RMSE: %.3f\" % sqrt(mean_squared_error(y_test, y_pred)))\n",
    "print(\"MAE: %.3f\" % sqrt(mean_absolute_error(y_test, y_pred)))"
   ]
  },
  {
   "cell_type": "markdown",
   "id": "7041aa7f",
   "metadata": {},
   "source": [
    "### For P3 (Size)"
   ]
  },
  {
   "cell_type": "code",
   "execution_count": 238,
   "id": "cf4ac6e6",
   "metadata": {},
   "outputs": [],
   "source": [
    "def predicted_y(weight,x,intercept):\n",
    "    y_lst=[]\n",
    "    for i in range(len(x)):\n",
    "        y_lst.append(weight@x[i]+intercept)\n",
    "    return np.array(y_lst)\n",
    "    \n",
    "\n",
    "# linear loss\n",
    "def loss(y,y_predicted):\n",
    "    n=len(y)\n",
    "    s=0\n",
    "    for i in range(n):\n",
    "        s+=(y[i]-y_predicted[i])**2\n",
    "    return (1/n)*s\n",
    "\n",
    "#derivative of loss w.r.t weight\n",
    "def dldw(x,y,y_predicted):\n",
    "    s=0\n",
    "    n=len(y)\n",
    "    for i in range(n):\n",
    "        s+=-x[i]*(y[i]-y_predicted[i])\n",
    "    return (2/n)*s\n",
    "    \n",
    "\n",
    "# derivative of loss w.r.t bias\n",
    "def dldb(y,y_predicted):\n",
    "    n=len(y)\n",
    "    s=0\n",
    "    for i in range(len(y)):\n",
    "        s+=-(y[i]-y_predicted[i])\n",
    "    return (2/n) * s\n",
    "\n",
    "# gradient function\n",
    "def gradient_descent(x,y):\n",
    "    weight_vector=np.random.randn(x.shape[1])\n",
    "    intercept=0\n",
    "    epoch = 100\n",
    "    n = len(x)\n",
    "    linear_loss=[]\n",
    "    learning_rate =0.1\n",
    "    for i in range(epoch):\n",
    "        \n",
    "        \n",
    "        y_predicted = predicted_y(weight_vector,x,intercept)\n",
    "        \n",
    "        weight_vector = weight_vector - learning_rate *dldw(x,y,y_predicted) \n",
    "        \n",
    "        \n",
    "        intercept = intercept - learning_rate * dldb(y,y_predicted)\n",
    "        linear_loss.append(loss(y,y_predicted))\n",
    "        \n",
    "    plt.plot(np.arange(1,epoch),linear_loss[1:])\n",
    "    plt.xlabel(\"number of epoch\")\n",
    "    plt.ylabel(\"loss\")\n",
    "    \n",
    "    return weight_vector,intercept"
   ]
  },
  {
   "cell_type": "code",
   "execution_count": 239,
   "id": "4ed0b5fc",
   "metadata": {},
   "outputs": [],
   "source": [
    "x_sr = train_data.iloc[:, 3:4].values\n",
    "y = train_data.iloc[:, 1].values\n",
    "\n",
    "from sklearn.model_selection import train_test_split\n",
    "x_train, x_test, y_train, y_test = train_test_split(x_sr, y, test_size=0.3, random_state=0)\n",
    "\n",
    "from sklearn.preprocessing import StandardScaler\n",
    "sc=StandardScaler()\n",
    "X_transform=sc.fit_transform(x_train)"
   ]
  },
  {
   "cell_type": "code",
   "execution_count": 240,
   "id": "198732fe",
   "metadata": {
    "scrolled": false
   },
   "outputs": [
    {
     "data": {
      "image/png": "[encoded data removed]",
      "text/plain": [
       "<Figure size 432x288 with 1 Axes>"
      ]
     },
     "metadata": {
      "needs_background": "light"
     },
     "output_type": "display_data"
    }
   ],
   "source": [
    "w,b=gradient_descent(X_transform,y_train)"
   ]
  },
  {
   "cell_type": "code",
   "execution_count": 241,
   "id": "8eb77b62",
   "metadata": {},
   "outputs": [
    {
     "name": "stdout",
     "output_type": "stream",
     "text": [
      "weight: [0.04233722]\n",
      "bias: 4.191096101380706\n"
     ]
    }
   ],
   "source": [
    "print(\"weight:\",w)\n",
    "print(\"bias:\",b)"
   ]
  },
  {
   "cell_type": "code",
   "execution_count": 242,
   "id": "089daaa2",
   "metadata": {},
   "outputs": [],
   "source": [
    "def predict(inp):\n",
    "    y_lst=[]\n",
    "    for i in range(len(inp)):\n",
    "        y_lst.append(w@inp[i]+b)\n",
    "    return np.array(y_lst)"
   ]
  },
  {
   "cell_type": "code",
   "execution_count": 243,
   "id": "36025c38",
   "metadata": {},
   "outputs": [],
   "source": [
    "X_test=sc.fit_transform(x_test)\n",
    "y_pred=predict(X_test)"
   ]
  },
  {
   "cell_type": "code",
   "execution_count": 244,
   "id": "5541d94d",
   "metadata": {
    "scrolled": true
   },
   "outputs": [
    {
     "name": "stdout",
     "output_type": "stream",
     "text": [
      "R2 score : 0.006\n",
      "MSE: 0.228\n",
      "RMSE: 0.478\n",
      "MAE: 0.559\n"
     ]
    }
   ],
   "source": [
    "from sklearn.metrics import mean_squared_error, r2_score, mean_absolute_error\n",
    "from math import sqrt\n",
    "print(\"R2 score : %.3f\" % r2_score(y_test, y_pred))\n",
    "print(\"MSE: %.3f\" % mean_squared_error(y_test, y_pred))\n",
    "print(\"RMSE: %.3f\" % sqrt(mean_squared_error(y_test, y_pred)))\n",
    "print(\"MAE: %.3f\" % sqrt(mean_absolute_error(y_test, y_pred)))"
   ]
  },
  {
   "cell_type": "markdown",
   "id": "c0852279",
   "metadata": {},
   "source": [
    "### For P1+P2 (Reviews and Installs)"
   ]
  },
  {
   "cell_type": "code",
   "execution_count": 245,
   "id": "799fe04d",
   "metadata": {},
   "outputs": [],
   "source": [
    "def predicted_y(weight,x,intercept):\n",
    "    y_lst=[]\n",
    "    for i in range(len(x)):\n",
    "        y_lst.append(weight@x[i]+intercept)\n",
    "    return np.array(y_lst)\n",
    "    \n",
    "\n",
    "# linear loss\n",
    "def loss(y,y_predicted):\n",
    "    n=len(y)\n",
    "    s=0\n",
    "    for i in range(n):\n",
    "        s+=(y[i]-y_predicted[i])**2\n",
    "    return (1/n)*s\n",
    "\n",
    "#derivative of loss w.r.t weight\n",
    "def dldw(x,y,y_predicted):\n",
    "    s=0\n",
    "    n=len(y)\n",
    "    for i in range(n):\n",
    "        s+=-x[i]*(y[i]-y_predicted[i])\n",
    "    return (2/n)*s\n",
    "    \n",
    "\n",
    "# derivative of loss w.r.t bias\n",
    "def dldb(y,y_predicted):\n",
    "    n=len(y)\n",
    "    s=0\n",
    "    for i in range(len(y)):\n",
    "        s+=-(y[i]-y_predicted[i])\n",
    "    return (2/n) * s\n",
    "\n",
    "# gradient function\n",
    "def gradient_descent(x,y):\n",
    "    weight_vector=np.random.randn(x.shape[1])\n",
    "    intercept=0\n",
    "    epoch = 500\n",
    "    n = len(x)\n",
    "    linear_loss=[]\n",
    "    learning_rate = 0.05\n",
    "\n",
    "    for i in range(epoch):\n",
    "        \n",
    "        \n",
    "        y_predicted = predicted_y(weight_vector,x,intercept)\n",
    "        \n",
    "        weight_vector = weight_vector - learning_rate *dldw(x,y,y_predicted) \n",
    "        \n",
    "        \n",
    "        intercept = intercept - learning_rate * dldb(y,y_predicted)\n",
    "        linear_loss.append(loss(y,y_predicted))\n",
    "        \n",
    "    plt.plot(np.arange(1,epoch),linear_loss[1:])\n",
    "    plt.xlabel(\"number of epoch\")\n",
    "    plt.ylabel(\"loss\")\n",
    "    \n",
    "    return weight_vector,intercept"
   ]
  },
  {
   "cell_type": "code",
   "execution_count": 246,
   "id": "f6d6c043",
   "metadata": {},
   "outputs": [],
   "source": [
    "x_sr = train_data.iloc[:, 2:5:2].values\n",
    "y = train_data.iloc[:, 1].values\n",
    "\n",
    "from sklearn.model_selection import train_test_split\n",
    "x_train, x_test, y_train, y_test = train_test_split(x_sr, y, test_size=0.3, random_state=0)\n",
    "\n",
    "from sklearn.preprocessing import StandardScaler\n",
    "sc=StandardScaler()\n",
    "X_transform=sc.fit_transform(x_train)"
   ]
  },
  {
   "cell_type": "code",
   "execution_count": 247,
   "id": "b6a34941",
   "metadata": {},
   "outputs": [
    {
     "data": {
      "image/png": "[encoded data removed]",
      "text/plain": [
       "<Figure size 432x288 with 1 Axes>"
      ]
     },
     "metadata": {
      "needs_background": "light"
     },
     "output_type": "display_data"
    }
   ],
   "source": [
    "w,b=gradient_descent(X_transform,y_train)"
   ]
  },
  {
   "cell_type": "code",
   "execution_count": 248,
   "id": "cc46d11e",
   "metadata": {},
   "outputs": [
    {
     "name": "stdout",
     "output_type": "stream",
     "text": [
      "weight: [0.03180212 0.00595169]\n",
      "bias: 4.191096102234443\n"
     ]
    }
   ],
   "source": [
    "print(\"weight:\",w)\n",
    "print(\"bias:\",b)"
   ]
  },
  {
   "cell_type": "code",
   "execution_count": 249,
   "id": "4df430a1",
   "metadata": {},
   "outputs": [],
   "source": [
    "def predict(inp):\n",
    "    y_lst=[]\n",
    "    for i in range(len(inp)):\n",
    "        y_lst.append(w@inp[i]+b)\n",
    "    return np.array(y_lst)"
   ]
  },
  {
   "cell_type": "code",
   "execution_count": 250,
   "id": "9f55c651",
   "metadata": {},
   "outputs": [],
   "source": [
    "X_test=sc.fit_transform(x_test)\n",
    "y_pred=predict(X_test)"
   ]
  },
  {
   "cell_type": "code",
   "execution_count": 251,
   "id": "fec2d3d0",
   "metadata": {
    "scrolled": false
   },
   "outputs": [
    {
     "name": "stdout",
     "output_type": "stream",
     "text": [
      "R2 score : 0.003\n",
      "MSE: 0.229\n",
      "RMSE: 0.479\n",
      "MAE: 0.560\n"
     ]
    }
   ],
   "source": [
    "from sklearn.metrics import mean_squared_error, r2_score, mean_absolute_error\n",
    "from math import sqrt\n",
    "print(\"R2 score : %.3f\" % r2_score(y_test, y_pred))\n",
    "print(\"MSE: %.3f\" % mean_squared_error(y_test, y_pred))\n",
    "print(\"RMSE: %.3f\" % sqrt(mean_squared_error(y_test, y_pred)))\n",
    "print(\"MAE: %.3f\" % sqrt(mean_absolute_error(y_test, y_pred)))"
   ]
  },
  {
   "cell_type": "markdown",
   "id": "07ec3ad6",
   "metadata": {},
   "source": [
    "### For All Predictors"
   ]
  },
  {
   "cell_type": "code",
   "execution_count": 252,
   "id": "1fd8e7c7",
   "metadata": {},
   "outputs": [],
   "source": [
    "def predicted_y(weight,x,intercept):\n",
    "    y_lst=[]\n",
    "    for i in range(len(x)):\n",
    "        y_lst.append(weight@x[i]+intercept)\n",
    "    return np.array(y_lst)\n",
    "    \n",
    "\n",
    "# linear loss\n",
    "def loss(y,y_predicted):\n",
    "    n=len(y)\n",
    "    s=0\n",
    "    for i in range(n):\n",
    "        s+=(y[i]-y_predicted[i])**2\n",
    "    return (1/n)*s\n",
    "\n",
    "#derivative of loss w.r.t weight\n",
    "def dldw(x,y,y_predicted):\n",
    "    s=0\n",
    "    n=len(y)\n",
    "    for i in range(n):\n",
    "        s+=-x[i]*(y[i]-y_predicted[i])\n",
    "    return (2/n)*s\n",
    "    \n",
    "\n",
    "# derivative of loss w.r.t bias\n",
    "def dldb(y,y_predicted):\n",
    "    n=len(y)\n",
    "    s=0\n",
    "    for i in range(len(y)):\n",
    "        s+=-(y[i]-y_predicted[i])\n",
    "    return (2/n) * s\n",
    "\n",
    "# gradient function\n",
    "def gradient_descent(x,y):\n",
    "    weight_vector=np.random.randn(x.shape[1])\n",
    "    intercept=0\n",
    "    epoch = 100\n",
    "    n = len(x)\n",
    "    linear_loss=[]\n",
    "    learning_rate = 0.01\n",
    "\n",
    "    for i in range(epoch):\n",
    "        \n",
    "        \n",
    "        y_predicted = predicted_y(weight_vector,x,intercept)\n",
    "        \n",
    "        weight_vector = weight_vector - learning_rate *dldw(x,y,y_predicted) \n",
    "        \n",
    "        \n",
    "        intercept = intercept - learning_rate * dldb(y,y_predicted)\n",
    "        linear_loss.append(loss(y,y_predicted))\n",
    "        \n",
    "    plt.plot(np.arange(1,epoch),linear_loss[1:])\n",
    "    plt.xlabel(\"number of epoch\")\n",
    "    plt.ylabel(\"loss\")\n",
    "    \n",
    "    return weight_vector,intercept"
   ]
  },
  {
   "cell_type": "code",
   "execution_count": 253,
   "id": "9930b8e7",
   "metadata": {},
   "outputs": [],
   "source": [
    "x_sr = train_data.iloc[:, 2:].values\n",
    "y = train_data.iloc[:, 1].values\n",
    "\n",
    "from sklearn.model_selection import train_test_split\n",
    "x_train, x_test, y_train, y_test = train_test_split(x_sr, y, test_size=0.3, random_state=0)\n",
    "\n",
    "from sklearn.preprocessing import StandardScaler\n",
    "sc=StandardScaler()\n",
    "X_transform=sc.fit_transform(x_train)"
   ]
  },
  {
   "cell_type": "code",
   "execution_count": 254,
   "id": "600e672e",
   "metadata": {},
   "outputs": [
    {
     "data": {
      "image/png": "[encoded data removed]",
      "text/plain": [
       "<Figure size 432x288 with 1 Axes>"
      ]
     },
     "metadata": {
      "needs_background": "light"
     },
     "output_type": "display_data"
    }
   ],
   "source": [
    "w,b=gradient_descent(X_transform,y_train)"
   ]
  },
  {
   "cell_type": "code",
   "execution_count": 255,
   "id": "a5bb05b3",
   "metadata": {},
   "outputs": [
    {
     "name": "stdout",
     "output_type": "stream",
     "text": [
      "weight: [ 0.32829894 -0.11709066 -0.24124644 -0.21384387 -0.04733088 -0.07408218\n",
      " -0.14475387]\n",
      "bias: 3.635274798443884\n"
     ]
    }
   ],
   "source": [
    "print(\"weight:\",w)\n",
    "print(\"bias:\",b)"
   ]
  },
  {
   "cell_type": "code",
   "execution_count": 256,
   "id": "38e57665",
   "metadata": {},
   "outputs": [],
   "source": [
    "def predict(inp):\n",
    "    y_lst=[]\n",
    "    for i in range(len(inp)):\n",
    "        y_lst.append(w@inp[i]+b)\n",
    "    return np.array(y_lst)"
   ]
  },
  {
   "cell_type": "code",
   "execution_count": 257,
   "id": "aa751e79",
   "metadata": {},
   "outputs": [],
   "source": [
    "X_test=sc.fit_transform(x_test)\n",
    "y_pred=predict(X_test)"
   ]
  },
  {
   "cell_type": "code",
   "execution_count": 258,
   "id": "0691ea9d",
   "metadata": {},
   "outputs": [
    {
     "name": "stdout",
     "output_type": "stream",
     "text": [
      "R2 score : -1.860\n",
      "MSE: 0.658\n",
      "RMSE: 0.811\n",
      "MAE: 0.825\n"
     ]
    }
   ],
   "source": [
    "from sklearn.metrics import mean_squared_error, r2_score, mean_absolute_error\n",
    "from math import sqrt\n",
    "print(\"R2 score : %.3f\" % r2_score(y_test, y_pred))\n",
    "print(\"MSE: %.3f\" % mean_squared_error(y_test, y_pred))\n",
    "print(\"RMSE: %.3f\" % sqrt(mean_squared_error(y_test, y_pred)))\n",
    "print(\"MAE: %.3f\" % sqrt(mean_absolute_error(y_test, y_pred)))"
   ]
  },
  {
   "cell_type": "markdown",
   "id": "db754ff2",
   "metadata": {},
   "source": [
    "# Feature Selection and AIC,BIC Calculation"
   ]
  },
  {
   "cell_type": "code",
   "execution_count": 259,
   "id": "8617fc21",
   "metadata": {},
   "outputs": [],
   "source": [
    "X=train_data.drop(columns='Rating',axis=1)\n",
    "Y=train_data.Rating"
   ]
  },
  {
   "cell_type": "code",
   "execution_count": 260,
   "id": "a90a084c",
   "metadata": {},
   "outputs": [],
   "source": [
    "MLR_reg = linear_model.LinearRegression(fit_intercept=True)"
   ]
  },
  {
   "cell_type": "code",
   "execution_count": 261,
   "id": "a634cd46",
   "metadata": {},
   "outputs": [],
   "source": [
    "def fit_linear_reg(X,Y):\n",
    "    MLR_reg.fit(X,Y)\n",
    "    RSS=mean_squared_error(Y,MLR_reg.predict(X))*len(Y)\n",
    "    R_squared=MLR_reg.score(X,Y)\n",
    "    return RSS , R_squared"
   ]
  },
  {
   "cell_type": "code",
   "execution_count": 262,
   "id": "dc9ca286",
   "metadata": {},
   "outputs": [
    {
     "name": "stderr",
     "output_type": "stream",
     "text": [
      "C:\\Users\\dell\\AppData\\Local\\Temp/ipykernel_2412/884055379.py:6: TqdmDeprecationWarning: Please use `tqdm.notebook.trange` instead of `tqdm.tnrange`\n",
      "  for k in tnrange(1,len(X.columns)+1,desc='Loop...'):\n"
     ]
    },
    {
     "data": {
      "application/vnd.jupyter.widget-view+json": {
       "model_id": "ac96a84f1c4147ee93244a8e8f1b1155",
       "version_major": 2,
       "version_minor": 0
      },
      "text/plain": [
       "Loop...:   0%|          | 0/8 [00:00<?, ?it/s]"
      ]
     },
     "metadata": {},
     "output_type": "display_data"
    }
   ],
   "source": [
    "from tqdm import tnrange, tqdm_notebook\n",
    "k=5\n",
    "RSS_list, R_squared_list, feature_list=[],[],[]\n",
    "numb_features=[]\n",
    "\n",
    "for k in tnrange(1,len(X.columns)+1,desc='Loop...'):\n",
    "    for combo in itertools.combinations(X.columns,k):\n",
    "        tmp_result=fit_linear_reg(X[list(combo)],Y)\n",
    "        RSS_list.append(tmp_result[0])\n",
    "        R_squared_list.append(tmp_result[1])\n",
    "        feature_list.append(combo)\n",
    "        numb_features.append(len(combo))\n",
    "        \n",
    "df=pd.DataFrame({'numb_features':numb_features,'RSS':RSS_list,'R_squared':R_squared_list,'features':feature_list})        "
   ]
  },
  {
   "cell_type": "code",
   "execution_count": 263,
   "id": "f8e21a78",
   "metadata": {},
   "outputs": [
    {
     "data": {
      "text/html": [
       "<div>\n",
       "<style scoped>\n",
       "    .dataframe tbody tr th:only-of-type {\n",
       "        vertical-align: middle;\n",
       "    }\n",
       "\n",
       "    .dataframe tbody tr th {\n",
       "        vertical-align: top;\n",
       "    }\n",
       "\n",
       "    .dataframe thead th {\n",
       "        text-align: right;\n",
       "    }\n",
       "</style>\n",
       "<table border=\"1\" class=\"dataframe\">\n",
       "  <thead>\n",
       "    <tr style=\"text-align: right;\">\n",
       "      <th></th>\n",
       "      <th>numb_features</th>\n",
       "      <th>RSS</th>\n",
       "      <th>R_squared</th>\n",
       "      <th>features</th>\n",
       "    </tr>\n",
       "  </thead>\n",
       "  <tbody>\n",
       "    <tr>\n",
       "      <th>0</th>\n",
       "      <td>1</td>\n",
       "      <td>2485.510022</td>\n",
       "      <td>0.001296</td>\n",
       "      <td>(Category,)</td>\n",
       "    </tr>\n",
       "    <tr>\n",
       "      <th>1</th>\n",
       "      <td>1</td>\n",
       "      <td>2477.032017</td>\n",
       "      <td>0.004703</td>\n",
       "      <td>(Reviews,)</td>\n",
       "    </tr>\n",
       "    <tr>\n",
       "      <th>2</th>\n",
       "      <td>1</td>\n",
       "      <td>2470.532218</td>\n",
       "      <td>0.007315</td>\n",
       "      <td>(Size,)</td>\n",
       "    </tr>\n",
       "    <tr>\n",
       "      <th>3</th>\n",
       "      <td>1</td>\n",
       "      <td>2482.030424</td>\n",
       "      <td>0.002694</td>\n",
       "      <td>(Installs,)</td>\n",
       "    </tr>\n",
       "    <tr>\n",
       "      <th>4</th>\n",
       "      <td>1</td>\n",
       "      <td>2483.811883</td>\n",
       "      <td>0.001979</td>\n",
       "      <td>(Type,)</td>\n",
       "    </tr>\n",
       "    <tr>\n",
       "      <th>...</th>\n",
       "      <td>...</td>\n",
       "      <td>...</td>\n",
       "      <td>...</td>\n",
       "      <td>...</td>\n",
       "    </tr>\n",
       "    <tr>\n",
       "      <th>250</th>\n",
       "      <td>7</td>\n",
       "      <td>2454.471122</td>\n",
       "      <td>0.013768</td>\n",
       "      <td>(Category, Reviews, Size, Type, Price, Content...</td>\n",
       "    </tr>\n",
       "    <tr>\n",
       "      <th>251</th>\n",
       "      <td>7</td>\n",
       "      <td>2462.215696</td>\n",
       "      <td>0.010656</td>\n",
       "      <td>(Category, Reviews, Installs, Type, Price, Con...</td>\n",
       "    </tr>\n",
       "    <tr>\n",
       "      <th>252</th>\n",
       "      <td>7</td>\n",
       "      <td>2455.908250</td>\n",
       "      <td>0.013191</td>\n",
       "      <td>(Category, Size, Installs, Type, Price, Conten...</td>\n",
       "    </tr>\n",
       "    <tr>\n",
       "      <th>253</th>\n",
       "      <td>7</td>\n",
       "      <td>2454.259247</td>\n",
       "      <td>0.013853</td>\n",
       "      <td>(Reviews, Size, Installs, Type, Price, Content...</td>\n",
       "    </tr>\n",
       "    <tr>\n",
       "      <th>254</th>\n",
       "      <td>8</td>\n",
       "      <td>2454.231461</td>\n",
       "      <td>0.013864</td>\n",
       "      <td>(Category, Reviews, Size, Installs, Type, Pric...</td>\n",
       "    </tr>\n",
       "  </tbody>\n",
       "</table>\n",
       "<p>255 rows × 4 columns</p>\n",
       "</div>"
      ],
      "text/plain": [
       "     numb_features          RSS  R_squared  \\\n",
       "0                1  2485.510022   0.001296   \n",
       "1                1  2477.032017   0.004703   \n",
       "2                1  2470.532218   0.007315   \n",
       "3                1  2482.030424   0.002694   \n",
       "4                1  2483.811883   0.001979   \n",
       "..             ...          ...        ...   \n",
       "250              7  2454.471122   0.013768   \n",
       "251              7  2462.215696   0.010656   \n",
       "252              7  2455.908250   0.013191   \n",
       "253              7  2454.259247   0.013853   \n",
       "254              8  2454.231461   0.013864   \n",
       "\n",
       "                                              features  \n",
       "0                                          (Category,)  \n",
       "1                                           (Reviews,)  \n",
       "2                                              (Size,)  \n",
       "3                                          (Installs,)  \n",
       "4                                              (Type,)  \n",
       "..                                                 ...  \n",
       "250  (Category, Reviews, Size, Type, Price, Content...  \n",
       "251  (Category, Reviews, Installs, Type, Price, Con...  \n",
       "252  (Category, Size, Installs, Type, Price, Conten...  \n",
       "253  (Reviews, Size, Installs, Type, Price, Content...  \n",
       "254  (Category, Reviews, Size, Installs, Type, Pric...  \n",
       "\n",
       "[255 rows x 4 columns]"
      ]
     },
     "execution_count": 263,
     "metadata": {},
     "output_type": "execute_result"
    }
   ],
   "source": [
    "df"
   ]
  },
  {
   "cell_type": "code",
   "execution_count": 264,
   "id": "53aaa317",
   "metadata": {},
   "outputs": [
    {
     "data": {
      "text/html": [
       "<div>\n",
       "<style scoped>\n",
       "    .dataframe tbody tr th:only-of-type {\n",
       "        vertical-align: middle;\n",
       "    }\n",
       "\n",
       "    .dataframe tbody tr th {\n",
       "        vertical-align: top;\n",
       "    }\n",
       "\n",
       "    .dataframe thead th {\n",
       "        text-align: right;\n",
       "    }\n",
       "</style>\n",
       "<table border=\"1\" class=\"dataframe\">\n",
       "  <thead>\n",
       "    <tr style=\"text-align: right;\">\n",
       "      <th></th>\n",
       "      <th>numb_features</th>\n",
       "      <th>RSS</th>\n",
       "      <th>R_squared</th>\n",
       "      <th>features</th>\n",
       "    </tr>\n",
       "  </thead>\n",
       "  <tbody>\n",
       "    <tr>\n",
       "      <th>2</th>\n",
       "      <td>1</td>\n",
       "      <td>2470.532218</td>\n",
       "      <td>0.007315</td>\n",
       "      <td>(Size,)</td>\n",
       "    </tr>\n",
       "    <tr>\n",
       "      <th>22</th>\n",
       "      <td>2</td>\n",
       "      <td>2464.873957</td>\n",
       "      <td>0.009588</td>\n",
       "      <td>(Size, Type)</td>\n",
       "    </tr>\n",
       "    <tr>\n",
       "      <th>78</th>\n",
       "      <td>3</td>\n",
       "      <td>2461.173653</td>\n",
       "      <td>0.011075</td>\n",
       "      <td>(Size, Type, Genres)</td>\n",
       "    </tr>\n",
       "  </tbody>\n",
       "</table>\n",
       "</div>"
      ],
      "text/plain": [
       "    numb_features          RSS  R_squared              features\n",
       "2               1  2470.532218   0.007315               (Size,)\n",
       "22              2  2464.873957   0.009588          (Size, Type)\n",
       "78              3  2461.173653   0.011075  (Size, Type, Genres)"
      ]
     },
     "metadata": {},
     "output_type": "display_data"
    },
    {
     "data": {
      "text/html": [
       "<div>\n",
       "<style scoped>\n",
       "    .dataframe tbody tr th:only-of-type {\n",
       "        vertical-align: middle;\n",
       "    }\n",
       "\n",
       "    .dataframe tbody tr th {\n",
       "        vertical-align: top;\n",
       "    }\n",
       "\n",
       "    .dataframe thead th {\n",
       "        text-align: right;\n",
       "    }\n",
       "</style>\n",
       "<table border=\"1\" class=\"dataframe\">\n",
       "  <thead>\n",
       "    <tr style=\"text-align: right;\">\n",
       "      <th></th>\n",
       "      <th>numb_features</th>\n",
       "      <th>RSS</th>\n",
       "      <th>R_squared</th>\n",
       "      <th>features</th>\n",
       "    </tr>\n",
       "  </thead>\n",
       "  <tbody>\n",
       "    <tr>\n",
       "      <th>2</th>\n",
       "      <td>1</td>\n",
       "      <td>2470.532218</td>\n",
       "      <td>0.007315</td>\n",
       "      <td>(Size,)</td>\n",
       "    </tr>\n",
       "    <tr>\n",
       "      <th>22</th>\n",
       "      <td>2</td>\n",
       "      <td>2464.873957</td>\n",
       "      <td>0.009588</td>\n",
       "      <td>(Size, Type)</td>\n",
       "    </tr>\n",
       "    <tr>\n",
       "      <th>78</th>\n",
       "      <td>3</td>\n",
       "      <td>2461.173653</td>\n",
       "      <td>0.011075</td>\n",
       "      <td>(Size, Type, Genres)</td>\n",
       "    </tr>\n",
       "  </tbody>\n",
       "</table>\n",
       "</div>"
      ],
      "text/plain": [
       "    numb_features          RSS  R_squared              features\n",
       "2               1  2470.532218   0.007315               (Size,)\n",
       "22              2  2464.873957   0.009588          (Size, Type)\n",
       "78              3  2461.173653   0.011075  (Size, Type, Genres)"
      ]
     },
     "metadata": {},
     "output_type": "display_data"
    }
   ],
   "source": [
    "##Finding Best subsets for each number of features\n",
    "\n",
    "df_min=df[df.groupby('numb_features')['RSS'].transform(min)==df['RSS']]\n",
    "df_max=df[df.groupby('numb_features')['R_squared'].transform(max)==df['R_squared']]\n",
    "display(df_min.head(3))\n",
    "display(df_max.head(3))"
   ]
  },
  {
   "cell_type": "code",
   "execution_count": 265,
   "id": "79ae0a62",
   "metadata": {},
   "outputs": [],
   "source": [
    "#Addingg columns to the dataframe with RSS and R squared values of the best subset\n",
    "df['min_RSS']=df.groupby('numb_features')['RSS'].transform(min)\n",
    "df['max_R_squared']=df.groupby('numb_features')['R_squared'].transform(max)"
   ]
  },
  {
   "cell_type": "code",
   "execution_count": 266,
   "id": "56a2674e",
   "metadata": {},
   "outputs": [
    {
     "data": {
      "text/html": [
       "<div>\n",
       "<style scoped>\n",
       "    .dataframe tbody tr th:only-of-type {\n",
       "        vertical-align: middle;\n",
       "    }\n",
       "\n",
       "    .dataframe tbody tr th {\n",
       "        vertical-align: top;\n",
       "    }\n",
       "\n",
       "    .dataframe thead th {\n",
       "        text-align: right;\n",
       "    }\n",
       "</style>\n",
       "<table border=\"1\" class=\"dataframe\">\n",
       "  <thead>\n",
       "    <tr style=\"text-align: right;\">\n",
       "      <th></th>\n",
       "      <th>numb_features</th>\n",
       "      <th>RSS</th>\n",
       "      <th>R_squared</th>\n",
       "      <th>features</th>\n",
       "      <th>min_RSS</th>\n",
       "      <th>max_R_squared</th>\n",
       "    </tr>\n",
       "  </thead>\n",
       "  <tbody>\n",
       "    <tr>\n",
       "      <th>0</th>\n",
       "      <td>1</td>\n",
       "      <td>2485.510022</td>\n",
       "      <td>0.001296</td>\n",
       "      <td>(Category,)</td>\n",
       "      <td>2470.532218</td>\n",
       "      <td>0.007315</td>\n",
       "    </tr>\n",
       "    <tr>\n",
       "      <th>1</th>\n",
       "      <td>1</td>\n",
       "      <td>2477.032017</td>\n",
       "      <td>0.004703</td>\n",
       "      <td>(Reviews,)</td>\n",
       "      <td>2470.532218</td>\n",
       "      <td>0.007315</td>\n",
       "    </tr>\n",
       "    <tr>\n",
       "      <th>2</th>\n",
       "      <td>1</td>\n",
       "      <td>2470.532218</td>\n",
       "      <td>0.007315</td>\n",
       "      <td>(Size,)</td>\n",
       "      <td>2470.532218</td>\n",
       "      <td>0.007315</td>\n",
       "    </tr>\n",
       "    <tr>\n",
       "      <th>3</th>\n",
       "      <td>1</td>\n",
       "      <td>2482.030424</td>\n",
       "      <td>0.002694</td>\n",
       "      <td>(Installs,)</td>\n",
       "      <td>2470.532218</td>\n",
       "      <td>0.007315</td>\n",
       "    </tr>\n",
       "    <tr>\n",
       "      <th>4</th>\n",
       "      <td>1</td>\n",
       "      <td>2483.811883</td>\n",
       "      <td>0.001979</td>\n",
       "      <td>(Type,)</td>\n",
       "      <td>2470.532218</td>\n",
       "      <td>0.007315</td>\n",
       "    </tr>\n",
       "  </tbody>\n",
       "</table>\n",
       "</div>"
      ],
      "text/plain": [
       "   numb_features          RSS  R_squared     features      min_RSS  \\\n",
       "0              1  2485.510022   0.001296  (Category,)  2470.532218   \n",
       "1              1  2477.032017   0.004703   (Reviews,)  2470.532218   \n",
       "2              1  2470.532218   0.007315      (Size,)  2470.532218   \n",
       "3              1  2482.030424   0.002694  (Installs,)  2470.532218   \n",
       "4              1  2483.811883   0.001979      (Type,)  2470.532218   \n",
       "\n",
       "   max_R_squared  \n",
       "0       0.007315  \n",
       "1       0.007315  \n",
       "2       0.007315  \n",
       "3       0.007315  \n",
       "4       0.007315  "
      ]
     },
     "execution_count": 266,
     "metadata": {},
     "output_type": "execute_result"
    }
   ],
   "source": [
    "df.head()"
   ]
  },
  {
   "cell_type": "code",
   "execution_count": 267,
   "id": "2e2c813f",
   "metadata": {},
   "outputs": [
    {
     "data": {
      "text/plain": [
       "Text(0.5, 1.0, 'R_squared-Best Subset selection')"
      ]
     },
     "execution_count": 267,
     "metadata": {},
     "output_type": "execute_result"
    },
    {
     "data": {
      "image/png": "[encoded data removed]",
      "text/plain": [
       "<Figure size 1008x360 with 2 Axes>"
      ]
     },
     "metadata": {
      "needs_background": "light"
     },
     "output_type": "display_data"
    }
   ],
   "source": [
    "#Plotting the best subset selection process\n",
    "fig=plt.figure(figsize=(14,5))\n",
    "ax=fig.add_subplot(1,2,1)\n",
    "ax.scatter(df.numb_features,df.RSS,alpha=0.2,color='darkblue')\n",
    "ax.set_xlabel('Features')\n",
    "ax.set_ylabel('RSS')\n",
    "ax.set_title('RSS-Best Subset selection')\n",
    "\n",
    "ax=fig.add_subplot(1,2,2)\n",
    "ax.scatter(df.numb_features,df.R_squared,alpha=0.2,color='darkblue')\n",
    "ax.set_xlabel('Features')\n",
    "ax.set_ylabel('R_squared')\n",
    "ax.set_title('R_squared-Best Subset selection')"
   ]
  },
  {
   "cell_type": "code",
   "execution_count": 268,
   "id": "32b73ff8",
   "metadata": {},
   "outputs": [],
   "source": [
    "remaining_features=list(X.columns.values)\n",
    "features=[]\n",
    "RSS_list,R_squared_list=[np.inf],[np.inf]\n",
    "features_list=dict()\n",
    "\n",
    "for i in range(1,k+1):\n",
    "    best_RSS=np.inf\n",
    "    for combo in itertools.combinations(remaining_features,1):\n",
    "        RSS=fit_linear_reg(X[list(combo)+features], Y)\n",
    "        if RSS[0]<best_RSS:\n",
    "            best_RSS=RSS[0]\n",
    "            best_R_squared=RSS[1]\n",
    "            best_feature=combo[0]\n",
    "    features.append(best_feature)\n",
    "    remaining_features.remove(best_feature)\n",
    "    \n",
    "    RSS_list.append(best_RSS)\n",
    "    R_squared_list.append(best_R_squared)\n",
    "    features_list[i]=features.copy()"
   ]
  },
  {
   "cell_type": "code",
   "execution_count": 269,
   "id": "5fa0311c",
   "metadata": {},
   "outputs": [
    {
     "name": "stdout",
     "output_type": "stream",
     "text": [
      "Forward stepwise subset selection\n",
      "Number of features | Features | RSS\n"
     ]
    },
    {
     "data": {
      "text/plain": [
       "[(1, ['Size'], 2471),\n",
       " (2, ['Size', 'Type'], 2465),\n",
       " (3, ['Size', 'Type', 'Genres'], 2461),\n",
       " (4, ['Size', 'Type', 'Genres', 'Reviews'], 2457),\n",
       " (5, ['Size', 'Type', 'Genres', 'Reviews', 'Price'], 2455),\n",
       " (6, ['Size', 'Type', 'Genres', 'Reviews', 'Price', 'Installs'], 2454),\n",
       " (7,\n",
       "  ['Size', 'Type', 'Genres', 'Reviews', 'Price', 'Installs', 'Category'],\n",
       "  2454)]"
      ]
     },
     "metadata": {},
     "output_type": "display_data"
    }
   ],
   "source": [
    "print('Forward stepwise subset selection')\n",
    "print('Number of features |', 'Features |', \"RSS\")\n",
    "display([(i,features_list[i],round(RSS_list[i])) for i in range(1,8)])"
   ]
  },
  {
   "cell_type": "code",
   "execution_count": 270,
   "id": "f334daf1",
   "metadata": {},
   "outputs": [],
   "source": [
    "df1=pd.concat([pd.DataFrame({'features':features_list}),pd.DataFrame({'RSS':RSS_list, 'R_squared':R_squared_list})],axis=1,join='inner')\n",
    "df1['numb_features']=df1.index"
   ]
  },
  {
   "cell_type": "code",
   "execution_count": 271,
   "id": "56811bdb",
   "metadata": {},
   "outputs": [
    {
     "data": {
      "text/html": [
       "<div>\n",
       "<style scoped>\n",
       "    .dataframe tbody tr th:only-of-type {\n",
       "        vertical-align: middle;\n",
       "    }\n",
       "\n",
       "    .dataframe tbody tr th {\n",
       "        vertical-align: top;\n",
       "    }\n",
       "\n",
       "    .dataframe thead th {\n",
       "        text-align: right;\n",
       "    }\n",
       "</style>\n",
       "<table border=\"1\" class=\"dataframe\">\n",
       "  <thead>\n",
       "    <tr style=\"text-align: right;\">\n",
       "      <th></th>\n",
       "      <th>features</th>\n",
       "      <th>RSS</th>\n",
       "      <th>R_squared</th>\n",
       "      <th>numb_features</th>\n",
       "    </tr>\n",
       "  </thead>\n",
       "  <tbody>\n",
       "    <tr>\n",
       "      <th>1</th>\n",
       "      <td>[Size]</td>\n",
       "      <td>2470.532218</td>\n",
       "      <td>0.007315</td>\n",
       "      <td>1</td>\n",
       "    </tr>\n",
       "    <tr>\n",
       "      <th>2</th>\n",
       "      <td>[Size, Type]</td>\n",
       "      <td>2464.873957</td>\n",
       "      <td>0.009588</td>\n",
       "      <td>2</td>\n",
       "    </tr>\n",
       "    <tr>\n",
       "      <th>3</th>\n",
       "      <td>[Size, Type, Genres]</td>\n",
       "      <td>2461.173653</td>\n",
       "      <td>0.011075</td>\n",
       "      <td>3</td>\n",
       "    </tr>\n",
       "    <tr>\n",
       "      <th>4</th>\n",
       "      <td>[Size, Type, Genres, Reviews]</td>\n",
       "      <td>2457.235523</td>\n",
       "      <td>0.012657</td>\n",
       "      <td>4</td>\n",
       "    </tr>\n",
       "    <tr>\n",
       "      <th>5</th>\n",
       "      <td>[Size, Type, Genres, Reviews, Price]</td>\n",
       "      <td>2454.508196</td>\n",
       "      <td>0.013753</td>\n",
       "      <td>5</td>\n",
       "    </tr>\n",
       "    <tr>\n",
       "      <th>6</th>\n",
       "      <td>[Size, Type, Genres, Reviews, Price, Installs]</td>\n",
       "      <td>2454.259553</td>\n",
       "      <td>0.013853</td>\n",
       "      <td>6</td>\n",
       "    </tr>\n",
       "    <tr>\n",
       "      <th>7</th>\n",
       "      <td>[Size, Type, Genres, Reviews, Price, Installs,...</td>\n",
       "      <td>2454.231652</td>\n",
       "      <td>0.013864</td>\n",
       "      <td>7</td>\n",
       "    </tr>\n",
       "    <tr>\n",
       "      <th>8</th>\n",
       "      <td>[Size, Type, Genres, Reviews, Price, Installs,...</td>\n",
       "      <td>2454.231461</td>\n",
       "      <td>0.013864</td>\n",
       "      <td>8</td>\n",
       "    </tr>\n",
       "  </tbody>\n",
       "</table>\n",
       "</div>"
      ],
      "text/plain": [
       "                                            features          RSS  R_squared  \\\n",
       "1                                             [Size]  2470.532218   0.007315   \n",
       "2                                       [Size, Type]  2464.873957   0.009588   \n",
       "3                               [Size, Type, Genres]  2461.173653   0.011075   \n",
       "4                      [Size, Type, Genres, Reviews]  2457.235523   0.012657   \n",
       "5               [Size, Type, Genres, Reviews, Price]  2454.508196   0.013753   \n",
       "6     [Size, Type, Genres, Reviews, Price, Installs]  2454.259553   0.013853   \n",
       "7  [Size, Type, Genres, Reviews, Price, Installs,...  2454.231652   0.013864   \n",
       "8  [Size, Type, Genres, Reviews, Price, Installs,...  2454.231461   0.013864   \n",
       "\n",
       "   numb_features  \n",
       "1              1  \n",
       "2              2  \n",
       "3              3  \n",
       "4              4  \n",
       "5              5  \n",
       "6              6  \n",
       "7              7  \n",
       "8              8  "
      ]
     },
     "execution_count": 271,
     "metadata": {},
     "output_type": "execute_result"
    }
   ],
   "source": [
    "df1"
   ]
  },
  {
   "cell_type": "code",
   "execution_count": 272,
   "id": "5f8ee0f3",
   "metadata": {},
   "outputs": [
    {
     "data": {
      "text/html": [
       "<div>\n",
       "<style scoped>\n",
       "    .dataframe tbody tr th:only-of-type {\n",
       "        vertical-align: middle;\n",
       "    }\n",
       "\n",
       "    .dataframe tbody tr th {\n",
       "        vertical-align: top;\n",
       "    }\n",
       "\n",
       "    .dataframe thead th {\n",
       "        text-align: right;\n",
       "    }\n",
       "</style>\n",
       "<table border=\"1\" class=\"dataframe\">\n",
       "  <thead>\n",
       "    <tr style=\"text-align: right;\">\n",
       "      <th></th>\n",
       "      <th>features</th>\n",
       "      <th>RSS</th>\n",
       "      <th>R_squared</th>\n",
       "      <th>numb_features</th>\n",
       "      <th>C_p</th>\n",
       "      <th>AIC</th>\n",
       "      <th>BIC</th>\n",
       "      <th>R_squared_adj</th>\n",
       "    </tr>\n",
       "  </thead>\n",
       "  <tbody>\n",
       "    <tr>\n",
       "      <th>1</th>\n",
       "      <td>[Size]</td>\n",
       "      <td>2470.532218</td>\n",
       "      <td>0.007315</td>\n",
       "      <td>1</td>\n",
       "      <td>0.227972</td>\n",
       "      <td>1.005991</td>\n",
       "      <td>1.006663</td>\n",
       "      <td>0.007223</td>\n",
       "    </tr>\n",
       "    <tr>\n",
       "      <th>2</th>\n",
       "      <td>[Size, Type]</td>\n",
       "      <td>2464.873957</td>\n",
       "      <td>0.009588</td>\n",
       "      <td>2</td>\n",
       "      <td>0.227492</td>\n",
       "      <td>1.003871</td>\n",
       "      <td>1.005217</td>\n",
       "      <td>0.009405</td>\n",
       "    </tr>\n",
       "    <tr>\n",
       "      <th>3</th>\n",
       "      <td>[Size, Type, Genres]</td>\n",
       "      <td>2461.173653</td>\n",
       "      <td>0.011075</td>\n",
       "      <td>3</td>\n",
       "      <td>0.227192</td>\n",
       "      <td>1.002550</td>\n",
       "      <td>1.004567</td>\n",
       "      <td>0.010801</td>\n",
       "    </tr>\n",
       "    <tr>\n",
       "      <th>4</th>\n",
       "      <td>[Size, Type, Genres, Reviews]</td>\n",
       "      <td>2457.235523</td>\n",
       "      <td>0.012657</td>\n",
       "      <td>4</td>\n",
       "      <td>0.226870</td>\n",
       "      <td>1.001131</td>\n",
       "      <td>1.003821</td>\n",
       "      <td>0.012293</td>\n",
       "    </tr>\n",
       "    <tr>\n",
       "      <th>5</th>\n",
       "      <td>[Size, Type, Genres, Reviews, Price]</td>\n",
       "      <td>2454.508196</td>\n",
       "      <td>0.013753</td>\n",
       "      <td>5</td>\n",
       "      <td>0.226661</td>\n",
       "      <td>1.000205</td>\n",
       "      <td>1.003568</td>\n",
       "      <td>0.013298</td>\n",
       "    </tr>\n",
       "    <tr>\n",
       "      <th>6</th>\n",
       "      <td>[Size, Type, Genres, Reviews, Price, Installs]</td>\n",
       "      <td>2454.259553</td>\n",
       "      <td>0.013853</td>\n",
       "      <td>6</td>\n",
       "      <td>0.226679</td>\n",
       "      <td>1.000288</td>\n",
       "      <td>1.004324</td>\n",
       "      <td>0.013307</td>\n",
       "    </tr>\n",
       "    <tr>\n",
       "      <th>7</th>\n",
       "      <td>[Size, Type, Genres, Reviews, Price, Installs,...</td>\n",
       "      <td>2454.231652</td>\n",
       "      <td>0.013864</td>\n",
       "      <td>7</td>\n",
       "      <td>0.226719</td>\n",
       "      <td>1.000461</td>\n",
       "      <td>1.005170</td>\n",
       "      <td>0.013227</td>\n",
       "    </tr>\n",
       "    <tr>\n",
       "      <th>8</th>\n",
       "      <td>[Size, Type, Genres, Reviews, Price, Installs,...</td>\n",
       "      <td>2454.231461</td>\n",
       "      <td>0.013864</td>\n",
       "      <td>8</td>\n",
       "      <td>0.226761</td>\n",
       "      <td>1.000646</td>\n",
       "      <td>1.006027</td>\n",
       "      <td>0.013136</td>\n",
       "    </tr>\n",
       "  </tbody>\n",
       "</table>\n",
       "</div>"
      ],
      "text/plain": [
       "                                            features          RSS  R_squared  \\\n",
       "1                                             [Size]  2470.532218   0.007315   \n",
       "2                                       [Size, Type]  2464.873957   0.009588   \n",
       "3                               [Size, Type, Genres]  2461.173653   0.011075   \n",
       "4                      [Size, Type, Genres, Reviews]  2457.235523   0.012657   \n",
       "5               [Size, Type, Genres, Reviews, Price]  2454.508196   0.013753   \n",
       "6     [Size, Type, Genres, Reviews, Price, Installs]  2454.259553   0.013853   \n",
       "7  [Size, Type, Genres, Reviews, Price, Installs,...  2454.231652   0.013864   \n",
       "8  [Size, Type, Genres, Reviews, Price, Installs,...  2454.231461   0.013864   \n",
       "\n",
       "   numb_features       C_p       AIC       BIC  R_squared_adj  \n",
       "1              1  0.227972  1.005991  1.006663       0.007223  \n",
       "2              2  0.227492  1.003871  1.005217       0.009405  \n",
       "3              3  0.227192  1.002550  1.004567       0.010801  \n",
       "4              4  0.226870  1.001131  1.003821       0.012293  \n",
       "5              5  0.226661  1.000205  1.003568       0.013298  \n",
       "6              6  0.226679  1.000288  1.004324       0.013307  \n",
       "7              7  0.226719  1.000461  1.005170       0.013227  \n",
       "8              8  0.226761  1.000646  1.006027       0.013136  "
      ]
     },
     "execution_count": 272,
     "metadata": {},
     "output_type": "execute_result"
    }
   ],
   "source": [
    "##Computing the c_p, AIC, BIC and adjusted R_square\n",
    "m=len(Y)\n",
    "p=8\n",
    "hat_sigma_squared=(1/(m-p-1))*min(df1['RSS'])\n",
    "\n",
    "df1['C_p']=(1/m)*(df1['RSS']+2*df1['numb_features']* hat_sigma_squared)\n",
    "df1['AIC']=(1/(m*hat_sigma_squared))* (df1['RSS']+2*df1['numb_features']*hat_sigma_squared)\n",
    "df1['BIC']=(1/(m*hat_sigma_squared))* (df1['RSS']+np.log(m) *df1['numb_features']*hat_sigma_squared)\n",
    "df1['R_squared_adj']=1-((1-df1['R_squared'])*(m-1)/(m-df1['numb_features']-1))\n",
    "df1"
   ]
  },
  {
   "cell_type": "code",
   "execution_count": 273,
   "id": "26b41a9a",
   "metadata": {},
   "outputs": [
    {
     "data": {
      "image/png": "[encoded data removed]",
      "text/plain": [
       "<Figure size 1296x432 with 4 Axes>"
      ]
     },
     "metadata": {
      "needs_background": "light"
     },
     "output_type": "display_data"
    }
   ],
   "source": [
    "#Plotting the computed values as a function of number of features\n",
    "variables=['C_p', 'AIC','BIC', 'R_squared_adj']\n",
    "fig=plt.figure(figsize=(18,6))\n",
    "\n",
    "for i,v in enumerate(variables):\n",
    "    ax=fig.add_subplot(1,4,i+1)\n",
    "    ax.plot(df1['numb_features'],df1[v],color='lightblue')\n",
    "    ax.scatter(df1['numb_features'],df1[v],color='darkblue')\n",
    "    if v=='R_squared_adj':\n",
    "        ax.plot(df1[v].idxmax(),df1[v].max(), marker='x',markersize=20)\n",
    "    else:\n",
    "        ax.plot(df1[v].idxmin(),df1[v].min(), marker='x',markersize=20)\n",
    "        \n",
    "    ax.set_xlabel('Number of predictors')\n",
    "    ax.set_ylabel(v)\n",
    "fig.suptitle('Subset selection using C_p, AIC,BIC, Adjusted R2',fontsize=16)\n",
    "plt.show()"
   ]
  },
  {
   "cell_type": "code",
   "execution_count": null,
   "id": "fe4080d9",
   "metadata": {},
   "outputs": [],
   "source": []
  }
 ],
 "metadata": {
  "kernelspec": {
   "display_name": "Python 3 (ipykernel)",
   "language": "python",
   "name": "python3"
  },
  "language_info": {
   "codemirror_mode": {
    "name": "ipython",
    "version": 3
   },
   "file_extension": ".py",
   "mimetype": "text/x-python",
   "name": "python",
   "nbconvert_exporter": "python",
   "pygments_lexer": "ipython3",
   "version": "3.8.8"
  }
 },
 "nbformat": 4,
 "nbformat_minor": 5
}
